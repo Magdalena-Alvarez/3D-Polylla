{
 "cells": [
  {
   "cell_type": "markdown",
   "metadata": {},
   "source": [
    "# Compare Sergio's and Magda's files reading"
   ]
  },
  {
   "cell_type": "code",
   "execution_count": 2,
   "metadata": {},
   "outputs": [],
   "source": [
    "from newMesh import FaceTetrahedronMesh\n",
    "from mesh import TetrahedronMesh\n",
    "from PolyllaFace import PolyllaFace\n",
    "import time\n",
    "import statistics\n",
    "\n",
    "original_time = []\n",
    "new_time = []\n",
    "n_experiments = 5"
   ]
  },
  {
   "cell_type": "code",
   "execution_count": 3,
   "metadata": {},
   "outputs": [],
   "source": [
    "def run_polylla(n, distribution):\n",
    "    filename = \"data/\"+ str(n) + distribution +\".1\"\n",
    "    node_file = filename + \".node\"\n",
    "    ele_file = filename + \".ele\"\n",
    "    face_file = filename + \".face\"\n",
    "    edge_file = filename + \".edge\"\n",
    "\n",
    "    t0 = time.time()\n",
    "    mesh = TetrahedronMesh(node_file, face_file, ele_file,edge_file)\n",
    "    polyllaFace_mesh_original = PolyllaFace(mesh)\n",
    "    tf = time.time()\n",
    "\n",
    "    dtS = tf - t0 \n",
    "\n",
    "    t0 = time.time()\n",
    "    mesh_f = FaceTetrahedronMesh(node_file, face_file, ele_file)\n",
    "    polyllaFace_mesh_prueba = PolyllaFace(mesh_f)\n",
    "    tf = time.time()\n",
    "\n",
    "    dtM = tf - t0 \n",
    "\n",
    "    print('Tiempo Sergio`s version:',dtS,'segs')\n",
    "    print('Tiempo Magda`s version:',dtM,'segs')\n",
    "\n",
    "    print('\\n Stats polylla original')\n",
    "\n",
    "    polyllaFace_mesh_original.get_info()\n",
    "    print('\\n Stats polylla Prueba:')\n",
    "    polyllaFace_mesh_prueba.get_info()\n",
    "\n",
    "    if dtM < dtS:\n",
    "        print('Nueva lectura es ', (100 - ((dtM)*100/dtS)), '% más rápido')\n",
    "    \n",
    "    return (dtS, dtM)\n"
   ]
  },
  {
   "cell_type": "markdown",
   "metadata": {},
   "source": [
    "## Random Distribution"
   ]
  },
  {
   "cell_type": "code",
   "execution_count": 4,
   "metadata": {},
   "outputs": [],
   "source": [
    "distribution = 'random'"
   ]
  },
  {
   "cell_type": "markdown",
   "metadata": {},
   "source": [
    "### n=100"
   ]
  },
  {
   "cell_type": "code",
   "execution_count": 5,
   "metadata": {},
   "outputs": [
    {
     "name": "stdout",
     "output_type": "stream",
     "text": [
      "reading node file: data/100random.1.node\n",
      "reading face file: data/100random.1.face\n",
      "reading ele file: data/100random.1.ele\n",
      "reading edge file: data/100random.1.edge\n",
      "Reading vertex file\n",
      "Reading face file\n",
      "Processing edges\n",
      "Reading tetra file\n",
      "Processesing faces with tetrahedorns\n",
      "Tiempo Sergio`s version: 0.2905287742614746 segs\n",
      "Tiempo Magda`s version: 0.041748762130737305 segs\n",
      "\n",
      " Stats polylla original\n",
      "PolyllaFace info:\n",
      "Number of polyhedrons: 127\n",
      "Number of barrier faces: 32\n",
      "Number of polyhedra with barrier faces: 24\n",
      "Number of polyhedrons that are tetrahedrons: 24\n",
      "\n",
      " Stats polylla Prueba:\n",
      "PolyllaFace info:\n",
      "Number of polyhedrons: 127\n",
      "Number of barrier faces: 32\n",
      "Number of polyhedra with barrier faces: 24\n",
      "Number of polyhedrons that are tetrahedrons: 24\n",
      "Nueva lectura es  85.63007666388197 % más rápido\n"
     ]
    }
   ],
   "source": [
    "n = 100\n",
    "\n",
    "dt_S, dt_M = run_polylla(n, distribution)\n",
    "original_time.append(dt_S)\n",
    "new_time.append(dt_M)\n"
   ]
  },
  {
   "cell_type": "markdown",
   "metadata": {},
   "source": [
    "### n = 500"
   ]
  },
  {
   "cell_type": "code",
   "execution_count": 6,
   "metadata": {},
   "outputs": [
    {
     "name": "stdout",
     "output_type": "stream",
     "text": [
      "reading node file: data/500random.1.node\n",
      "reading face file: data/500random.1.face\n",
      "reading ele file: data/500random.1.ele\n",
      "reading edge file: data/500random.1.edge\n",
      "Reading vertex file\n",
      "Reading face file\n",
      "Processing edges\n",
      "Reading tetra file\n",
      "Processesing faces with tetrahedorns\n",
      "Tiempo Sergio`s version: 7.788057804107666 segs\n",
      "Tiempo Magda`s version: 0.1172940731048584 segs\n",
      "\n",
      " Stats polylla original\n",
      "PolyllaFace info:\n",
      "Number of polyhedrons: 725\n",
      "Number of barrier faces: 210\n",
      "Number of polyhedra with barrier faces: 146\n",
      "Number of polyhedrons that are tetrahedrons: 136\n",
      "\n",
      " Stats polylla Prueba:\n",
      "PolyllaFace info:\n",
      "Number of polyhedrons: 725\n",
      "Number of barrier faces: 210\n",
      "Number of polyhedra with barrier faces: 146\n",
      "Number of polyhedrons that are tetrahedrons: 136\n",
      "Nueva lectura es  98.49392395311969 % más rápido\n"
     ]
    }
   ],
   "source": [
    "n = 500\n",
    "\n",
    "dt_S, dt_M = run_polylla(n, distribution)\n",
    "original_time.append(dt_S)\n",
    "new_time.append(dt_M)"
   ]
  },
  {
   "cell_type": "markdown",
   "metadata": {},
   "source": [
    "### n = 1000"
   ]
  },
  {
   "cell_type": "code",
   "execution_count": 7,
   "metadata": {},
   "outputs": [
    {
     "name": "stdout",
     "output_type": "stream",
     "text": [
      "reading node file: data/1000random.1.node\n",
      "reading face file: data/1000random.1.face\n",
      "reading ele file: data/1000random.1.ele\n",
      "reading edge file: data/1000random.1.edge\n",
      "Reading vertex file\n",
      "Reading face file\n",
      "Processing edges\n",
      "Reading tetra file\n",
      "Processesing faces with tetrahedorns\n",
      "Tiempo Sergio`s version: 32.6250216960907 segs\n",
      "Tiempo Magda`s version: 0.27113962173461914 segs\n",
      "\n",
      " Stats polylla original\n",
      "PolyllaFace info:\n",
      "Number of polyhedrons: 1456\n",
      "Number of barrier faces: 431\n",
      "Number of polyhedra with barrier faces: 279\n",
      "Number of polyhedrons that are tetrahedrons: 253\n",
      "\n",
      " Stats polylla Prueba:\n",
      "PolyllaFace info:\n",
      "Number of polyhedrons: 1456\n",
      "Number of barrier faces: 431\n",
      "Number of polyhedra with barrier faces: 279\n",
      "Number of polyhedrons that are tetrahedrons: 253\n",
      "Nueva lectura es  99.16892125234324 % más rápido\n"
     ]
    }
   ],
   "source": [
    "n = 1000\n",
    "\n",
    "dt_S, dt_M = run_polylla(n, distribution)\n",
    "original_time.append(dt_S)\n",
    "new_time.append(dt_M)"
   ]
  },
  {
   "cell_type": "markdown",
   "metadata": {},
   "source": [
    "### n = 5000"
   ]
  },
  {
   "cell_type": "code",
   "execution_count": 8,
   "metadata": {},
   "outputs": [
    {
     "name": "stdout",
     "output_type": "stream",
     "text": [
      "reading node file: data/5000random.1.node\n",
      "reading face file: data/5000random.1.face\n",
      "reading ele file: data/5000random.1.ele\n",
      "reading edge file: data/5000random.1.edge\n",
      "Reading vertex file\n",
      "Reading face file\n",
      "Processing edges\n",
      "Reading tetra file\n",
      "Processesing faces with tetrahedorns\n",
      "Tiempo Sergio`s version: 765.304566860199 segs\n",
      "Tiempo Magda`s version: 1.3600382804870605 segs\n",
      "\n",
      " Stats polylla original\n",
      "PolyllaFace info:\n",
      "Number of polyhedrons: 6989\n",
      "Number of barrier faces: 1977\n",
      "Number of polyhedra with barrier faces: 1300\n",
      "Number of polyhedrons that are tetrahedrons: 1596\n",
      "\n",
      " Stats polylla Prueba:\n",
      "PolyllaFace info:\n",
      "Number of polyhedrons: 6989\n",
      "Number of barrier faces: 1977\n",
      "Number of polyhedra with barrier faces: 1300\n",
      "Number of polyhedrons that are tetrahedrons: 1596\n",
      "Nueva lectura es  99.82228797012581 % más rápido\n"
     ]
    }
   ],
   "source": [
    "n = 5000\n",
    "\n",
    "dt_S, dt_M = run_polylla(n, distribution)\n",
    "original_time.append(dt_S)\n",
    "new_time.append(dt_M)"
   ]
  },
  {
   "cell_type": "markdown",
   "metadata": {},
   "source": [
    "### n = 10000"
   ]
  },
  {
   "cell_type": "code",
   "execution_count": 9,
   "metadata": {},
   "outputs": [
    {
     "name": "stdout",
     "output_type": "stream",
     "text": [
      "reading node file: data/10000random.1.node\n",
      "reading face file: data/10000random.1.face\n",
      "reading ele file: data/10000random.1.ele\n",
      "reading edge file: data/10000random.1.edge\n",
      "Reading vertex file\n",
      "Reading face file\n",
      "Processing edges\n",
      "Reading tetra file\n",
      "Processesing faces with tetrahedorns\n",
      "Tiempo Sergio`s version: 3060.9415361881256 segs\n",
      "Tiempo Magda`s version: 2.6658856868743896 segs\n",
      "\n",
      " Stats polylla original\n",
      "PolyllaFace info:\n",
      "Number of polyhedrons: 14437\n",
      "Number of barrier faces: 3877\n",
      "Number of polyhedra with barrier faces: 2625\n",
      "Number of polyhedrons that are tetrahedrons: 3534\n",
      "\n",
      " Stats polylla Prueba:\n",
      "PolyllaFace info:\n",
      "Number of polyhedrons: 14437\n",
      "Number of barrier faces: 3874\n",
      "Number of polyhedra with barrier faces: 2622\n",
      "Number of polyhedrons that are tetrahedrons: 3537\n",
      "Nueva lectura es  99.91290635069775 % más rápido\n"
     ]
    }
   ],
   "source": [
    "n = 10000\n",
    "\n",
    "dt_S, dt_M = run_polylla(n, distribution)\n",
    "original_time.append(dt_S)\n",
    "new_time.append(dt_M)"
   ]
  },
  {
   "cell_type": "markdown",
   "metadata": {},
   "source": []
  },
  {
   "cell_type": "markdown",
   "metadata": {},
   "source": [
    "## Poisson Distribution"
   ]
  },
  {
   "cell_type": "code",
   "execution_count": 10,
   "metadata": {},
   "outputs": [],
   "source": [
    "distribution = 'poisson'"
   ]
  },
  {
   "cell_type": "markdown",
   "metadata": {},
   "source": [
    "### n=100"
   ]
  },
  {
   "cell_type": "code",
   "execution_count": 11,
   "metadata": {},
   "outputs": [
    {
     "name": "stdout",
     "output_type": "stream",
     "text": [
      "reading node file: data/100poisson.1.node\n",
      "reading face file: data/100poisson.1.face\n",
      "reading ele file: data/100poisson.1.ele\n",
      "reading edge file: data/100poisson.1.edge\n",
      "Reading vertex file\n",
      "Reading face file\n",
      "Processing edges\n",
      "Reading tetra file\n",
      "Processesing faces with tetrahedorns\n",
      "Tiempo Sergio`s version: 9.528213500976562 segs\n",
      "Tiempo Magda`s version: 0.08927297592163086 segs\n",
      "\n",
      " Stats polylla original\n",
      "PolyllaFace info:\n",
      "Number of polyhedrons: 798\n",
      "Number of barrier faces: 200\n",
      "Number of polyhedra with barrier faces: 153\n",
      "Number of polyhedrons that are tetrahedrons: 147\n",
      "\n",
      " Stats polylla Prueba:\n",
      "PolyllaFace info:\n",
      "Number of polyhedrons: 798\n",
      "Number of barrier faces: 200\n",
      "Number of polyhedra with barrier faces: 153\n",
      "Number of polyhedrons that are tetrahedrons: 147\n",
      "Nueva lectura es  99.06306700713118 % más rápido\n"
     ]
    }
   ],
   "source": [
    "n = 100\n",
    "\n",
    "dt_S, dt_M = run_polylla(n, distribution)\n",
    "original_time.append(dt_S)\n",
    "new_time.append(dt_M)"
   ]
  },
  {
   "cell_type": "markdown",
   "metadata": {},
   "source": [
    "### n = 500"
   ]
  },
  {
   "cell_type": "code",
   "execution_count": 12,
   "metadata": {},
   "outputs": [
    {
     "name": "stdout",
     "output_type": "stream",
     "text": [
      "reading node file: data/500poisson.1.node\n",
      "reading face file: data/500poisson.1.face\n",
      "reading ele file: data/500poisson.1.ele\n",
      "reading edge file: data/500poisson.1.edge\n",
      "Reading vertex file\n",
      "Reading face file\n",
      "Processing edges\n",
      "Reading tetra file\n",
      "Processesing faces with tetrahedorns\n",
      "Tiempo Sergio`s version: 8.694112539291382 segs\n",
      "Tiempo Magda`s version: 0.11905956268310547 segs\n",
      "\n",
      " Stats polylla original\n",
      "PolyllaFace info:\n",
      "Number of polyhedrons: 774\n",
      "Number of barrier faces: 216\n",
      "Number of polyhedra with barrier faces: 157\n",
      "Number of polyhedrons that are tetrahedrons: 127\n",
      "\n",
      " Stats polylla Prueba:\n",
      "PolyllaFace info:\n",
      "Number of polyhedrons: 774\n",
      "Number of barrier faces: 216\n",
      "Number of polyhedra with barrier faces: 157\n",
      "Number of polyhedrons that are tetrahedrons: 127\n",
      "Nueva lectura es  98.63057256108615 % más rápido\n"
     ]
    }
   ],
   "source": [
    "n = 500\n",
    "\n",
    "dt_S, dt_M = run_polylla(n, distribution)\n",
    "original_time.append(dt_S)\n",
    "new_time.append(dt_M)"
   ]
  },
  {
   "cell_type": "markdown",
   "metadata": {},
   "source": [
    "### n = 1000"
   ]
  },
  {
   "cell_type": "code",
   "execution_count": 13,
   "metadata": {},
   "outputs": [
    {
     "name": "stdout",
     "output_type": "stream",
     "text": [
      "reading node file: data/1000poisson.1.node\n",
      "reading face file: data/1000poisson.1.face\n",
      "reading ele file: data/1000poisson.1.ele\n",
      "reading edge file: data/1000poisson.1.edge\n",
      "Reading vertex file\n",
      "Reading face file\n",
      "Processing edges\n",
      "Reading tetra file\n",
      "Processesing faces with tetrahedorns\n",
      "Tiempo Sergio`s version: 8.338191509246826 segs\n",
      "Tiempo Magda`s version: 0.12151288986206055 segs\n",
      "\n",
      " Stats polylla original\n",
      "PolyllaFace info:\n",
      "Number of polyhedrons: 750\n",
      "Number of barrier faces: 196\n",
      "Number of polyhedra with barrier faces: 132\n",
      "Number of polyhedrons that are tetrahedrons: 113\n",
      "\n",
      " Stats polylla Prueba:\n",
      "PolyllaFace info:\n",
      "Number of polyhedrons: 752\n",
      "Number of barrier faces: 196\n",
      "Number of polyhedra with barrier faces: 132\n",
      "Number of polyhedrons that are tetrahedrons: 115\n",
      "Nueva lectura es  98.54269490299778 % más rápido\n"
     ]
    }
   ],
   "source": [
    "n = 1000\n",
    "\n",
    "dt_S, dt_M = run_polylla(n, distribution)\n",
    "original_time.append(dt_S)\n",
    "new_time.append(dt_M)"
   ]
  },
  {
   "cell_type": "markdown",
   "metadata": {},
   "source": [
    "### n = 5000"
   ]
  },
  {
   "cell_type": "code",
   "execution_count": 14,
   "metadata": {},
   "outputs": [
    {
     "name": "stdout",
     "output_type": "stream",
     "text": [
      "reading node file: data/5000poisson.1.node\n",
      "reading face file: data/5000poisson.1.face\n",
      "reading ele file: data/5000poisson.1.ele\n",
      "reading edge file: data/5000poisson.1.edge\n",
      "Reading vertex file\n",
      "Reading face file\n",
      "Processing edges\n",
      "Reading tetra file\n",
      "Processesing faces with tetrahedorns\n",
      "Tiempo Sergio`s version: 8.444241046905518 segs\n",
      "Tiempo Magda`s version: 0.12338471412658691 segs\n",
      "\n",
      " Stats polylla original\n",
      "PolyllaFace info:\n",
      "Number of polyhedrons: 782\n",
      "Number of barrier faces: 209\n",
      "Number of polyhedra with barrier faces: 150\n",
      "Number of polyhedrons that are tetrahedrons: 136\n",
      "\n",
      " Stats polylla Prueba:\n",
      "PolyllaFace info:\n",
      "Number of polyhedrons: 782\n",
      "Number of barrier faces: 209\n",
      "Number of polyhedra with barrier faces: 150\n",
      "Number of polyhedrons that are tetrahedrons: 136\n",
      "Nueva lectura es  98.53883003290387 % más rápido\n"
     ]
    }
   ],
   "source": [
    "n = 5000\n",
    "\n",
    "dt_S, dt_M = run_polylla(n, distribution)\n",
    "original_time.append(dt_S)\n",
    "new_time.append(dt_M)"
   ]
  },
  {
   "cell_type": "markdown",
   "metadata": {},
   "source": [
    "### n = 10000"
   ]
  },
  {
   "cell_type": "code",
   "execution_count": 15,
   "metadata": {},
   "outputs": [
    {
     "name": "stdout",
     "output_type": "stream",
     "text": [
      "reading node file: data/10000poisson.1.node\n",
      "reading face file: data/10000poisson.1.face\n",
      "reading ele file: data/10000poisson.1.ele\n",
      "reading edge file: data/10000poisson.1.edge\n",
      "Reading vertex file\n",
      "Reading face file\n",
      "Processing edges\n",
      "Reading tetra file\n",
      "Processesing faces with tetrahedorns\n",
      "Tiempo Sergio`s version: 8.225796222686768 segs\n",
      "Tiempo Magda`s version: 0.12241172790527344 segs\n",
      "\n",
      " Stats polylla original\n",
      "PolyllaFace info:\n",
      "Number of polyhedrons: 745\n",
      "Number of barrier faces: 185\n",
      "Number of polyhedra with barrier faces: 136\n",
      "Number of polyhedrons that are tetrahedrons: 124\n",
      "\n",
      " Stats polylla Prueba:\n",
      "PolyllaFace info:\n",
      "Number of polyhedrons: 746\n",
      "Number of barrier faces: 185\n",
      "Number of polyhedra with barrier faces: 136\n",
      "Number of polyhedrons that are tetrahedrons: 125\n",
      "Nueva lectura es  98.51185557493314 % más rápido\n"
     ]
    }
   ],
   "source": [
    "n = 10000\n",
    "\n",
    "dt_S, dt_M = run_polylla(n, distribution)\n",
    "original_time.append(dt_S)\n",
    "new_time.append(dt_M)"
   ]
  },
  {
   "cell_type": "markdown",
   "metadata": {},
   "source": []
  },
  {
   "cell_type": "markdown",
   "metadata": {},
   "source": [
    "## Semiuniform Distribution"
   ]
  },
  {
   "cell_type": "code",
   "execution_count": 16,
   "metadata": {},
   "outputs": [],
   "source": [
    "distribution = 'semiuniform'"
   ]
  },
  {
   "cell_type": "markdown",
   "metadata": {},
   "source": [
    "### n=100"
   ]
  },
  {
   "cell_type": "code",
   "execution_count": 17,
   "metadata": {},
   "outputs": [
    {
     "name": "stdout",
     "output_type": "stream",
     "text": [
      "reading node file: data/100semiuniform.1.node\n",
      "reading face file: data/100semiuniform.1.face\n",
      "reading ele file: data/100semiuniform.1.ele\n",
      "reading edge file: data/100semiuniform.1.edge\n"
     ]
    },
    {
     "name": "stdout",
     "output_type": "stream",
     "text": [
      "Reading vertex file\n",
      "Reading face file\n",
      "Processing edges\n",
      "Reading tetra file\n",
      "Processesing faces with tetrahedorns\n",
      "Tiempo Sergio`s version: 7.073912143707275 segs\n",
      "Tiempo Magda`s version: 0.11274194717407227 segs\n",
      "\n",
      " Stats polylla original\n",
      "PolyllaFace info:\n",
      "Number of polyhedrons: 711\n",
      "Number of barrier faces: 198\n",
      "Number of polyhedra with barrier faces: 137\n",
      "Number of polyhedrons that are tetrahedrons: 129\n",
      "\n",
      " Stats polylla Prueba:\n",
      "PolyllaFace info:\n",
      "Number of polyhedrons: 711\n",
      "Number of barrier faces: 198\n",
      "Number of polyhedra with barrier faces: 137\n",
      "Number of polyhedrons that are tetrahedrons: 129\n",
      "Nueva lectura es  98.40622918572203 % más rápido\n"
     ]
    }
   ],
   "source": [
    "n = 100\n",
    "\n",
    "dt_S, dt_M = run_polylla(n, distribution)\n",
    "original_time.append(dt_S)\n",
    "new_time.append(dt_M)"
   ]
  },
  {
   "cell_type": "markdown",
   "metadata": {},
   "source": [
    "### n = 500"
   ]
  },
  {
   "cell_type": "code",
   "execution_count": 18,
   "metadata": {},
   "outputs": [
    {
     "name": "stdout",
     "output_type": "stream",
     "text": [
      "reading node file: data/500semiuniform.1.node\n",
      "reading face file: data/500semiuniform.1.face\n",
      "reading ele file: data/500semiuniform.1.ele\n",
      "reading edge file: data/500semiuniform.1.edge\n",
      "Reading vertex file\n",
      "Reading face file\n",
      "Processing edges\n",
      "Reading tetra file\n",
      "Processesing faces with tetrahedorns\n",
      "Tiempo Sergio`s version: 7.282324314117432 segs\n",
      "Tiempo Magda`s version: 0.07419490814208984 segs\n",
      "\n",
      " Stats polylla original\n",
      "PolyllaFace info:\n",
      "Number of polyhedrons: 711\n",
      "Number of barrier faces: 198\n",
      "Number of polyhedra with barrier faces: 137\n",
      "Number of polyhedrons that are tetrahedrons: 129\n",
      "\n",
      " Stats polylla Prueba:\n",
      "PolyllaFace info:\n",
      "Number of polyhedrons: 711\n",
      "Number of barrier faces: 198\n",
      "Number of polyhedra with barrier faces: 137\n",
      "Number of polyhedrons that are tetrahedrons: 129\n",
      "Nueva lectura es  98.98116446148579 % más rápido\n"
     ]
    }
   ],
   "source": [
    "n = 500\n",
    "\n",
    "dt_S, dt_M = run_polylla(n, distribution)\n",
    "original_time.append(dt_S)\n",
    "new_time.append(dt_M)"
   ]
  },
  {
   "cell_type": "markdown",
   "metadata": {},
   "source": [
    "### n = 1000"
   ]
  },
  {
   "cell_type": "code",
   "execution_count": 19,
   "metadata": {},
   "outputs": [
    {
     "name": "stdout",
     "output_type": "stream",
     "text": [
      "reading node file: data/1000semiuniform.1.node\n",
      "reading face file: data/1000semiuniform.1.face\n",
      "reading ele file: data/1000semiuniform.1.ele\n",
      "reading edge file: data/1000semiuniform.1.edge\n",
      "Reading vertex file\n",
      "Reading face file\n",
      "Processing edges\n",
      "Reading tetra file\n",
      "Processesing faces with tetrahedorns\n",
      "Tiempo Sergio`s version: 7.099269866943359 segs\n",
      "Tiempo Magda`s version: 0.10901451110839844 segs\n",
      "\n",
      " Stats polylla original\n",
      "PolyllaFace info:\n",
      "Number of polyhedrons: 711\n",
      "Number of barrier faces: 198\n",
      "Number of polyhedra with barrier faces: 137\n",
      "Number of polyhedrons that are tetrahedrons: 129\n",
      "\n",
      " Stats polylla Prueba:\n",
      "PolyllaFace info:\n",
      "Number of polyhedrons: 711\n",
      "Number of barrier faces: 198\n",
      "Number of polyhedra with barrier faces: 137\n",
      "Number of polyhedrons that are tetrahedrons: 129\n",
      "Nueva lectura es  98.46442643889328 % más rápido\n"
     ]
    }
   ],
   "source": [
    "n = 1000\n",
    "\n",
    "dt_S, dt_M = run_polylla(n, distribution)\n",
    "original_time.append(dt_S)\n",
    "new_time.append(dt_M)"
   ]
  },
  {
   "cell_type": "markdown",
   "metadata": {},
   "source": [
    "### n = 5000"
   ]
  },
  {
   "cell_type": "code",
   "execution_count": 20,
   "metadata": {},
   "outputs": [
    {
     "name": "stdout",
     "output_type": "stream",
     "text": [
      "reading node file: data/5000semiuniform.1.node\n",
      "reading face file: data/5000semiuniform.1.face\n",
      "reading ele file: data/5000semiuniform.1.ele\n",
      "reading edge file: data/5000semiuniform.1.edge\n",
      "Reading vertex file\n",
      "Reading face file\n",
      "Processing edges\n",
      "Reading tetra file\n",
      "Processesing faces with tetrahedorns\n",
      "Tiempo Sergio`s version: 7.03462815284729 segs\n",
      "Tiempo Magda`s version: 0.11233019828796387 segs\n",
      "\n",
      " Stats polylla original\n",
      "PolyllaFace info:\n",
      "Number of polyhedrons: 711\n",
      "Number of barrier faces: 198\n",
      "Number of polyhedra with barrier faces: 137\n",
      "Number of polyhedrons that are tetrahedrons: 129\n",
      "\n",
      " Stats polylla Prueba:\n",
      "PolyllaFace info:\n",
      "Number of polyhedrons: 711\n",
      "Number of barrier faces: 198\n",
      "Number of polyhedra with barrier faces: 137\n",
      "Number of polyhedrons that are tetrahedrons: 129\n",
      "Nueva lectura es  98.40318214627311 % más rápido\n"
     ]
    }
   ],
   "source": [
    "n = 5000\n",
    "\n",
    "dt_S, dt_M = run_polylla(n, distribution)\n",
    "original_time.append(dt_S)\n",
    "new_time.append(dt_M)"
   ]
  },
  {
   "cell_type": "markdown",
   "metadata": {},
   "source": [
    "### n = 10000"
   ]
  },
  {
   "cell_type": "code",
   "execution_count": 21,
   "metadata": {},
   "outputs": [
    {
     "name": "stdout",
     "output_type": "stream",
     "text": [
      "reading node file: data/10000semiuniform.1.node\n",
      "reading face file: data/10000semiuniform.1.face\n",
      "reading ele file: data/10000semiuniform.1.ele\n",
      "reading edge file: data/10000semiuniform.1.edge\n",
      "Reading vertex file\n",
      "Reading face file\n",
      "Processing edges\n",
      "Reading tetra file\n",
      "Processesing faces with tetrahedorns\n",
      "Tiempo Sergio`s version: 7.023548603057861 segs\n",
      "Tiempo Magda`s version: 0.11316585540771484 segs\n",
      "\n",
      " Stats polylla original\n",
      "PolyllaFace info:\n",
      "Number of polyhedrons: 711\n",
      "Number of barrier faces: 198\n",
      "Number of polyhedra with barrier faces: 137\n",
      "Number of polyhedrons that are tetrahedrons: 129\n",
      "\n",
      " Stats polylla Prueba:\n",
      "PolyllaFace info:\n",
      "Number of polyhedrons: 711\n",
      "Number of barrier faces: 198\n",
      "Number of polyhedra with barrier faces: 137\n",
      "Number of polyhedrons that are tetrahedrons: 129\n",
      "Nueva lectura es  98.388765255238 % más rápido\n"
     ]
    }
   ],
   "source": [
    "n = 10000\n",
    "\n",
    "dt_S, dt_M = run_polylla(n, distribution)\n",
    "original_time.append(dt_S)\n",
    "new_time.append(dt_M)"
   ]
  },
  {
   "cell_type": "code",
   "execution_count": 22,
   "metadata": {},
   "outputs": [
    {
     "name": "stdout",
     "output_type": "stream",
     "text": [
      "Nuevo método es: 99.85925933976596 % más rápido.\n"
     ]
    }
   ],
   "source": [
    "promedio_org = statistics.mean(original_time)\n",
    "promedio_new = statistics.mean(new_time)\n",
    "print('Nuevo método es:', (100-(promedio_new*100/promedio_org)),'% más rápido.')"
   ]
  }
 ],
 "metadata": {
  "kernelspec": {
   "display_name": "Python 3",
   "language": "python",
   "name": "python3"
  },
  "language_info": {
   "codemirror_mode": {
    "name": "ipython",
    "version": 3
   },
   "file_extension": ".py",
   "mimetype": "text/x-python",
   "name": "python",
   "nbconvert_exporter": "python",
   "pygments_lexer": "ipython3",
   "version": "3.8.10"
  }
 },
 "nbformat": 4,
 "nbformat_minor": 2
}
