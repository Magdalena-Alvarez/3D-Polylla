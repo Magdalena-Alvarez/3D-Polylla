{
 "cells": [
  {
   "cell_type": "markdown",
   "metadata": {},
   "source": [
    "# Compare Sergio's and Magda's files reading"
   ]
  },
  {
   "cell_type": "code",
   "execution_count": 40,
   "metadata": {},
   "outputs": [],
   "source": [
    "from newMesh import FaceTetrahedronMesh\n",
    "from mesh import TetrahedronMesh\n",
    "from PolyllaFace import PolyllaFace\n",
    "import time\n",
    "import statistics\n",
    "\n",
    "original_time = []\n",
    "new_time = []\n",
    "n_experiments = 5"
   ]
  },
  {
   "cell_type": "code",
   "execution_count": 41,
   "metadata": {},
   "outputs": [],
   "source": [
    "def run_polylla(n, distribution):\n",
    "    filename = \"data/\"+ str(n) + distribution +\".1\"\n",
    "    node_file = filename + \".node\"\n",
    "    ele_file = filename + \".ele\"\n",
    "    face_file = filename + \".face\"\n",
    "    edge_file = filename + \".edge\"\n",
    "\n",
    "    t0 = time.time()\n",
    "    mesh = TetrahedronMesh(node_file, face_file, ele_file,edge_file)\n",
    "    polyllaFace_mesh_original = PolyllaFace(mesh)\n",
    "    tf = time.time()\n",
    "\n",
    "    dtS = tf - t0 \n",
    "\n",
    "    t0 = time.time()\n",
    "    mesh_f = FaceTetrahedronMesh(node_file, face_file, ele_file)\n",
    "    polyllaFace_mesh_prueba = PolyllaFace(mesh_f)\n",
    "    tf = time.time()\n",
    "\n",
    "    dtM = tf - t0 \n",
    "\n",
    "    print('Tiempo Sergio`s version:',dtS,'segs')\n",
    "    print('Tiempo Magda`s version:',dtM,'segs')\n",
    "\n",
    "    print('\\n Stats polylla original')\n",
    "\n",
    "    polyllaFace_mesh_original.get_info()\n",
    "    print('\\n Stats polylla Prueba:')\n",
    "    polyllaFace_mesh_prueba.get_info()\n",
    "\n",
    "    if dtM < dtS:\n",
    "        print('Nueva lectura es ', (100 - ((dtM)*100/dtS)), '% más rápido')\n",
    "    \n",
    "    return (dtS, dtM)\n"
   ]
  },
  {
   "cell_type": "markdown",
   "metadata": {},
   "source": [
    "## Random Distribution"
   ]
  },
  {
   "cell_type": "code",
   "execution_count": 42,
   "metadata": {},
   "outputs": [],
   "source": [
    "distribution = 'random'"
   ]
  },
  {
   "cell_type": "markdown",
   "metadata": {},
   "source": [
    "### n=100"
   ]
  },
  {
   "cell_type": "code",
   "execution_count": 43,
   "metadata": {},
   "outputs": [
    {
     "name": "stdout",
     "output_type": "stream",
     "text": [
      "reading node file: data/100random.1.node\n",
      "reading face file: data/100random.1.face\n",
      "reading ele file: data/100random.1.ele\n",
      "reading edge file: data/100random.1.edge\n"
     ]
    },
    {
     "name": "stdout",
     "output_type": "stream",
     "text": [
      "Reading vertex file\n",
      "Reading face file\n",
      "Processing edges\n",
      "Reading tetra file\n",
      "Processesing faces with tetrahedorns\n",
      "Tiempo Sergio`s version: 0.28192830085754395 segs\n",
      "Tiempo Magda`s version: 0.42910194396972656 segs\n",
      "\n",
      " Stats polylla original\n",
      "PolyllaFace info:\n",
      "Number of polyhedrons: 128\n",
      "Number of barrier faces: 31\n",
      "Number of polyhedra with barrier faces: 23\n",
      "Number of polyhedrons that are tetrahedrons: 24\n",
      "\n",
      " Stats polylla Prueba:\n",
      "PolyllaFace info:\n",
      "Number of polyhedrons: 128\n",
      "Number of barrier faces: 31\n",
      "Number of polyhedra with barrier faces: 23\n",
      "Number of polyhedrons that are tetrahedrons: 24\n"
     ]
    }
   ],
   "source": [
    "n = 100\n",
    "\n",
    "dt_S, dt_M = run_polylla(n, distribution)\n",
    "original_time.append(dt_S)\n",
    "new_time.append(dt_M)"
   ]
  },
  {
   "cell_type": "markdown",
   "metadata": {},
   "source": [
    "### n = 500"
   ]
  },
  {
   "cell_type": "code",
   "execution_count": 44,
   "metadata": {},
   "outputs": [
    {
     "name": "stdout",
     "output_type": "stream",
     "text": [
      "reading node file: data/500random.1.node\n",
      "reading face file: data/500random.1.face\n",
      "reading ele file: data/500random.1.ele\n",
      "reading edge file: data/500random.1.edge\n",
      "Reading vertex file\n",
      "Reading face file\n",
      "Processing edges\n",
      "Reading tetra file\n",
      "Processesing faces with tetrahedorns\n",
      "Tiempo Sergio`s version: 7.624963998794556 segs\n",
      "Tiempo Magda`s version: 4.528684377670288 segs\n",
      "\n",
      " Stats polylla original\n",
      "PolyllaFace info:\n",
      "Number of polyhedrons: 726\n",
      "Number of barrier faces: 209\n",
      "Number of polyhedra with barrier faces: 145\n",
      "Number of polyhedrons that are tetrahedrons: 136\n",
      "\n",
      " Stats polylla Prueba:\n",
      "PolyllaFace info:\n",
      "Number of polyhedrons: 726\n",
      "Number of barrier faces: 209\n",
      "Number of polyhedra with barrier faces: 145\n",
      "Number of polyhedrons that are tetrahedrons: 136\n",
      "Nueva lectura es  40.60713757617432 % más rápido\n"
     ]
    }
   ],
   "source": [
    "n = 500\n",
    "\n",
    "dt_S, dt_M = run_polylla(n, distribution)\n",
    "original_time.append(dt_S)\n",
    "new_time.append(dt_M)"
   ]
  },
  {
   "cell_type": "markdown",
   "metadata": {},
   "source": [
    "### n = 1000"
   ]
  },
  {
   "cell_type": "code",
   "execution_count": 45,
   "metadata": {},
   "outputs": [
    {
     "name": "stdout",
     "output_type": "stream",
     "text": [
      "reading node file: data/1000random.1.node\n",
      "reading face file: data/1000random.1.face\n",
      "reading ele file: data/1000random.1.ele\n",
      "reading edge file: data/1000random.1.edge\n",
      "Reading vertex file\n",
      "Reading face file\n",
      "Processing edges\n",
      "Reading tetra file\n",
      "Processesing faces with tetrahedorns\n",
      "Tiempo Sergio`s version: 31.81982707977295 segs\n",
      "Tiempo Magda`s version: 18.558200359344482 segs\n",
      "\n",
      " Stats polylla original\n",
      "PolyllaFace info:\n",
      "Number of polyhedrons: 1407\n",
      "Number of barrier faces: 421\n",
      "Number of polyhedra with barrier faces: 284\n",
      "Number of polyhedrons that are tetrahedrons: 268\n",
      "\n",
      " Stats polylla Prueba:\n",
      "PolyllaFace info:\n",
      "Number of polyhedrons: 1407\n",
      "Number of barrier faces: 421\n",
      "Number of polyhedra with barrier faces: 284\n",
      "Number of polyhedrons that are tetrahedrons: 268\n",
      "Nueva lectura es  41.67724320808313 % más rápido\n"
     ]
    }
   ],
   "source": [
    "n = 1000\n",
    "\n",
    "dt_S, dt_M = run_polylla(n, distribution)\n",
    "original_time.append(dt_S)\n",
    "new_time.append(dt_M)"
   ]
  },
  {
   "cell_type": "markdown",
   "metadata": {},
   "source": [
    "### n = 5000"
   ]
  },
  {
   "cell_type": "code",
   "execution_count": 46,
   "metadata": {},
   "outputs": [
    {
     "name": "stdout",
     "output_type": "stream",
     "text": [
      "reading node file: data/5000random.1.node\n",
      "reading face file: data/5000random.1.face\n",
      "reading ele file: data/5000random.1.ele\n",
      "reading edge file: data/5000random.1.edge\n",
      "Reading vertex file\n",
      "Reading face file\n",
      "Processing edges\n",
      "Reading tetra file\n",
      "Processesing faces with tetrahedorns\n",
      "Tiempo Sergio`s version: 752.916989326477 segs\n",
      "Tiempo Magda`s version: 455.00128054618835 segs\n",
      "\n",
      " Stats polylla original\n",
      "PolyllaFace info:\n",
      "Number of polyhedrons: 6990\n",
      "Number of barrier faces: 1975\n",
      "Number of polyhedra with barrier faces: 1299\n",
      "Number of polyhedrons that are tetrahedrons: 1596\n",
      "\n",
      " Stats polylla Prueba:\n",
      "PolyllaFace info:\n",
      "Number of polyhedrons: 6990\n",
      "Number of barrier faces: 1975\n",
      "Number of polyhedra with barrier faces: 1299\n",
      "Number of polyhedrons that are tetrahedrons: 1596\n",
      "Nueva lectura es  39.56820114350051 % más rápido\n"
     ]
    }
   ],
   "source": [
    "n = 5000\n",
    "\n",
    "dt_S, dt_M = run_polylla(n, distribution)\n",
    "original_time.append(dt_S)\n",
    "new_time.append(dt_M)"
   ]
  },
  {
   "cell_type": "markdown",
   "metadata": {},
   "source": [
    "### n = 10000"
   ]
  },
  {
   "cell_type": "code",
   "execution_count": 47,
   "metadata": {},
   "outputs": [
    {
     "name": "stdout",
     "output_type": "stream",
     "text": [
      "reading node file: data/10000random.1.node\n",
      "reading face file: data/10000random.1.face\n",
      "reading ele file: data/10000random.1.ele\n",
      "reading edge file: data/10000random.1.edge\n",
      "Reading vertex file\n",
      "Reading face file\n",
      "Processing edges\n",
      "Reading tetra file\n",
      "Processesing faces with tetrahedorns\n",
      "Tiempo Sergio`s version: 2987.9578762054443 segs\n",
      "Tiempo Magda`s version: 1934.8944783210754 segs\n",
      "\n",
      " Stats polylla original\n",
      "PolyllaFace info:\n",
      "Number of polyhedrons: 14440\n",
      "Number of barrier faces: 3874\n",
      "Number of polyhedra with barrier faces: 2622\n",
      "Number of polyhedrons that are tetrahedrons: 3534\n",
      "\n",
      " Stats polylla Prueba:\n",
      "PolyllaFace info:\n",
      "Number of polyhedrons: 14440\n",
      "Number of barrier faces: 3874\n",
      "Number of polyhedra with barrier faces: 2622\n",
      "Number of polyhedrons that are tetrahedrons: 3534\n",
      "Nueva lectura es  35.243582457116375 % más rápido\n"
     ]
    }
   ],
   "source": [
    "n = 10000\n",
    "\n",
    "dt_S, dt_M = run_polylla(n, distribution)\n",
    "original_time.append(dt_S)\n",
    "new_time.append(dt_M)"
   ]
  },
  {
   "cell_type": "markdown",
   "metadata": {},
   "source": []
  },
  {
   "cell_type": "markdown",
   "metadata": {},
   "source": [
    "## Poisson Distribution"
   ]
  },
  {
   "cell_type": "code",
   "execution_count": 48,
   "metadata": {},
   "outputs": [],
   "source": [
    "distribution = 'poisson'"
   ]
  },
  {
   "cell_type": "markdown",
   "metadata": {},
   "source": [
    "### n=100"
   ]
  },
  {
   "cell_type": "code",
   "execution_count": 49,
   "metadata": {},
   "outputs": [
    {
     "name": "stdout",
     "output_type": "stream",
     "text": [
      "reading node file: data/100poisson.1.node\n",
      "reading face file: data/100poisson.1.face\n",
      "reading ele file: data/100poisson.1.ele\n",
      "reading edge file: data/100poisson.1.edge\n",
      "Reading vertex file\n",
      "Reading face file\n",
      "Processing edges\n",
      "Reading tetra file\n",
      "Processesing faces with tetrahedorns\n",
      "Tiempo Sergio`s version: 8.438682079315186 segs\n",
      "Tiempo Magda`s version: 5.104451656341553 segs\n",
      "\n",
      " Stats polylla original\n",
      "PolyllaFace info:\n",
      "Number of polyhedrons: 798\n",
      "Number of barrier faces: 200\n",
      "Number of polyhedra with barrier faces: 153\n",
      "Number of polyhedrons that are tetrahedrons: 147\n",
      "\n",
      " Stats polylla Prueba:\n",
      "PolyllaFace info:\n",
      "Number of polyhedrons: 798\n",
      "Number of barrier faces: 200\n",
      "Number of polyhedra with barrier faces: 153\n",
      "Number of polyhedrons that are tetrahedrons: 147\n",
      "Nueva lectura es  39.51126955175223 % más rápido\n"
     ]
    }
   ],
   "source": [
    "n = 100\n",
    "\n",
    "dt_S, dt_M = run_polylla(n, distribution)\n",
    "original_time.append(dt_S)\n",
    "new_time.append(dt_M)"
   ]
  },
  {
   "cell_type": "markdown",
   "metadata": {},
   "source": [
    "### n = 500"
   ]
  },
  {
   "cell_type": "code",
   "execution_count": 50,
   "metadata": {},
   "outputs": [
    {
     "name": "stdout",
     "output_type": "stream",
     "text": [
      "reading node file: data/500poisson.1.node\n",
      "reading face file: data/500poisson.1.face\n",
      "reading ele file: data/500poisson.1.ele\n",
      "reading edge file: data/500poisson.1.edge\n",
      "Reading vertex file\n",
      "Reading face file\n",
      "Processing edges\n",
      "Reading tetra file\n",
      "Processesing faces with tetrahedorns\n",
      "Tiempo Sergio`s version: 8.346048831939697 segs\n",
      "Tiempo Magda`s version: 5.103583574295044 segs\n",
      "\n",
      " Stats polylla original\n",
      "PolyllaFace info:\n",
      "Number of polyhedrons: 774\n",
      "Number of barrier faces: 216\n",
      "Number of polyhedra with barrier faces: 157\n",
      "Number of polyhedrons that are tetrahedrons: 127\n",
      "\n",
      " Stats polylla Prueba:\n",
      "PolyllaFace info:\n",
      "Number of polyhedrons: 774\n",
      "Number of barrier faces: 216\n",
      "Number of polyhedra with barrier faces: 157\n",
      "Number of polyhedrons that are tetrahedrons: 127\n",
      "Nueva lectura es  38.85030297493569 % más rápido\n"
     ]
    }
   ],
   "source": [
    "n = 500\n",
    "\n",
    "dt_S, dt_M = run_polylla(n, distribution)\n",
    "original_time.append(dt_S)\n",
    "new_time.append(dt_M)"
   ]
  },
  {
   "cell_type": "markdown",
   "metadata": {},
   "source": [
    "### n = 1000"
   ]
  },
  {
   "cell_type": "code",
   "execution_count": 51,
   "metadata": {},
   "outputs": [
    {
     "name": "stdout",
     "output_type": "stream",
     "text": [
      "reading node file: data/1000poisson.1.node\n",
      "reading face file: data/1000poisson.1.face\n",
      "reading ele file: data/1000poisson.1.ele\n",
      "reading edge file: data/1000poisson.1.edge\n",
      "Reading vertex file\n",
      "Reading face file\n",
      "Processing edges\n",
      "Reading tetra file\n",
      "Processesing faces with tetrahedorns\n",
      "Tiempo Sergio`s version: 7.909380674362183 segs\n",
      "Tiempo Magda`s version: 5.445439338684082 segs\n",
      "\n",
      " Stats polylla original\n",
      "PolyllaFace info:\n",
      "Number of polyhedrons: 790\n",
      "Number of barrier faces: 205\n",
      "Number of polyhedra with barrier faces: 153\n",
      "Number of polyhedrons that are tetrahedrons: 152\n",
      "\n",
      " Stats polylla Prueba:\n",
      "PolyllaFace info:\n",
      "Number of polyhedrons: 790\n",
      "Number of barrier faces: 205\n",
      "Number of polyhedra with barrier faces: 153\n",
      "Number of polyhedrons that are tetrahedrons: 152\n",
      "Nueva lectura es  31.152139935113112 % más rápido\n"
     ]
    }
   ],
   "source": [
    "n = 1000\n",
    "\n",
    "dt_S, dt_M = run_polylla(n, distribution)\n",
    "original_time.append(dt_S)\n",
    "new_time.append(dt_M)"
   ]
  },
  {
   "cell_type": "markdown",
   "metadata": {},
   "source": [
    "### n = 5000"
   ]
  },
  {
   "cell_type": "code",
   "execution_count": 52,
   "metadata": {},
   "outputs": [
    {
     "name": "stdout",
     "output_type": "stream",
     "text": [
      "reading node file: data/5000poisson.1.node\n",
      "reading face file: data/5000poisson.1.face\n",
      "reading ele file: data/5000poisson.1.ele\n",
      "reading edge file: data/5000poisson.1.edge\n",
      "Reading vertex file\n",
      "Reading face file\n",
      "Processing edges\n",
      "Reading tetra file\n",
      "Processesing faces with tetrahedorns\n",
      "Tiempo Sergio`s version: 8.12911605834961 segs\n",
      "Tiempo Magda`s version: 4.879881381988525 segs\n",
      "\n",
      " Stats polylla original\n",
      "PolyllaFace info:\n",
      "Number of polyhedrons: 782\n",
      "Number of barrier faces: 209\n",
      "Number of polyhedra with barrier faces: 150\n",
      "Number of polyhedrons that are tetrahedrons: 136\n",
      "\n",
      " Stats polylla Prueba:\n",
      "PolyllaFace info:\n",
      "Number of polyhedrons: 782\n",
      "Number of barrier faces: 209\n",
      "Number of polyhedra with barrier faces: 150\n",
      "Number of polyhedrons that are tetrahedrons: 136\n",
      "Nueva lectura es  39.970331989832 % más rápido\n"
     ]
    }
   ],
   "source": [
    "n = 5000\n",
    "\n",
    "dt_S, dt_M = run_polylla(n, distribution)\n",
    "original_time.append(dt_S)\n",
    "new_time.append(dt_M)"
   ]
  },
  {
   "cell_type": "markdown",
   "metadata": {},
   "source": [
    "### n = 10000"
   ]
  },
  {
   "cell_type": "code",
   "execution_count": 53,
   "metadata": {},
   "outputs": [
    {
     "name": "stdout",
     "output_type": "stream",
     "text": [
      "reading node file: data/10000poisson.1.node\n",
      "reading face file: data/10000poisson.1.face\n",
      "reading ele file: data/10000poisson.1.ele\n",
      "reading edge file: data/10000poisson.1.edge\n",
      "Reading vertex file\n",
      "Reading face file\n",
      "Processing edges\n",
      "Reading tetra file\n",
      "Processesing faces with tetrahedorns\n",
      "Tiempo Sergio`s version: 8.080745697021484 segs\n",
      "Tiempo Magda`s version: 4.773170709609985 segs\n",
      "\n",
      " Stats polylla original\n",
      "PolyllaFace info:\n",
      "Number of polyhedrons: 745\n",
      "Number of barrier faces: 185\n",
      "Number of polyhedra with barrier faces: 136\n",
      "Number of polyhedrons that are tetrahedrons: 124\n",
      "\n",
      " Stats polylla Prueba:\n",
      "PolyllaFace info:\n",
      "Number of polyhedrons: 745\n",
      "Number of barrier faces: 185\n",
      "Number of polyhedra with barrier faces: 136\n",
      "Number of polyhedrons that are tetrahedrons: 124\n",
      "Nueva lectura es  40.93155646057086 % más rápido\n"
     ]
    }
   ],
   "source": [
    "n = 10000\n",
    "\n",
    "dt_S, dt_M = run_polylla(n, distribution)\n",
    "original_time.append(dt_S)\n",
    "new_time.append(dt_M)"
   ]
  },
  {
   "cell_type": "markdown",
   "metadata": {},
   "source": []
  },
  {
   "cell_type": "markdown",
   "metadata": {},
   "source": [
    "## Semiuniform Distribution"
   ]
  },
  {
   "cell_type": "code",
   "execution_count": 54,
   "metadata": {},
   "outputs": [],
   "source": [
    "distribution = 'semiuniform'"
   ]
  },
  {
   "cell_type": "markdown",
   "metadata": {},
   "source": [
    "### n=100"
   ]
  },
  {
   "cell_type": "code",
   "execution_count": 55,
   "metadata": {},
   "outputs": [
    {
     "name": "stdout",
     "output_type": "stream",
     "text": [
      "reading node file: data/100semiuniform.1.node\n",
      "reading face file: data/100semiuniform.1.face\n",
      "reading ele file: data/100semiuniform.1.ele\n",
      "reading edge file: data/100semiuniform.1.edge\n",
      "Reading vertex file\n",
      "Reading face file\n",
      "Processing edges\n",
      "Reading tetra file\n",
      "Processesing faces with tetrahedorns\n",
      "Tiempo Sergio`s version: 6.954353332519531 segs\n",
      "Tiempo Magda`s version: 4.150641441345215 segs\n",
      "\n",
      " Stats polylla original\n",
      "PolyllaFace info:\n",
      "Number of polyhedrons: 711\n",
      "Number of barrier faces: 198\n",
      "Number of polyhedra with barrier faces: 137\n",
      "Number of polyhedrons that are tetrahedrons: 129\n",
      "\n",
      " Stats polylla Prueba:\n",
      "PolyllaFace info:\n",
      "Number of polyhedrons: 711\n",
      "Number of barrier faces: 198\n",
      "Number of polyhedra with barrier faces: 137\n",
      "Number of polyhedrons that are tetrahedrons: 129\n",
      "Nueva lectura es  40.31592525021365 % más rápido\n"
     ]
    }
   ],
   "source": [
    "n = 100\n",
    "\n",
    "dt_S, dt_M = run_polylla(n, distribution)\n",
    "original_time.append(dt_S)\n",
    "new_time.append(dt_M)"
   ]
  },
  {
   "cell_type": "markdown",
   "metadata": {},
   "source": [
    "### n = 500"
   ]
  },
  {
   "cell_type": "code",
   "execution_count": 56,
   "metadata": {},
   "outputs": [
    {
     "name": "stdout",
     "output_type": "stream",
     "text": [
      "reading node file: data/500semiuniform.1.node\n",
      "reading face file: data/500semiuniform.1.face\n",
      "reading ele file: data/500semiuniform.1.ele\n",
      "reading edge file: data/500semiuniform.1.edge\n",
      "Reading vertex file\n",
      "Reading face file\n",
      "Processing edges\n",
      "Reading tetra file\n",
      "Processesing faces with tetrahedorns\n",
      "Tiempo Sergio`s version: 7.017455339431763 segs\n",
      "Tiempo Magda`s version: 4.161436319351196 segs\n",
      "\n",
      " Stats polylla original\n",
      "PolyllaFace info:\n",
      "Number of polyhedrons: 711\n",
      "Number of barrier faces: 198\n",
      "Number of polyhedra with barrier faces: 137\n",
      "Number of polyhedrons that are tetrahedrons: 129\n",
      "\n",
      " Stats polylla Prueba:\n",
      "PolyllaFace info:\n",
      "Number of polyhedrons: 711\n",
      "Number of barrier faces: 198\n",
      "Number of polyhedra with barrier faces: 137\n",
      "Number of polyhedrons that are tetrahedrons: 129\n",
      "Nueva lectura es  40.69878441594517 % más rápido\n"
     ]
    }
   ],
   "source": [
    "n = 500\n",
    "\n",
    "dt_S, dt_M = run_polylla(n, distribution)\n",
    "original_time.append(dt_S)\n",
    "new_time.append(dt_M)"
   ]
  },
  {
   "cell_type": "markdown",
   "metadata": {},
   "source": [
    "### n = 1000"
   ]
  },
  {
   "cell_type": "code",
   "execution_count": 57,
   "metadata": {},
   "outputs": [
    {
     "name": "stdout",
     "output_type": "stream",
     "text": [
      "reading node file: data/1000semiuniform.1.node\n",
      "reading face file: data/1000semiuniform.1.face\n",
      "reading ele file: data/1000semiuniform.1.ele\n",
      "reading edge file: data/1000semiuniform.1.edge\n",
      "Reading vertex file\n",
      "Reading face file\n",
      "Processing edges\n",
      "Reading tetra file\n",
      "Processesing faces with tetrahedorns\n",
      "Tiempo Sergio`s version: 6.951067209243774 segs\n",
      "Tiempo Magda`s version: 4.12957501411438 segs\n",
      "\n",
      " Stats polylla original\n",
      "PolyllaFace info:\n",
      "Number of polyhedrons: 711\n",
      "Number of barrier faces: 198\n",
      "Number of polyhedra with barrier faces: 137\n",
      "Number of polyhedrons that are tetrahedrons: 129\n",
      "\n",
      " Stats polylla Prueba:\n",
      "PolyllaFace info:\n",
      "Number of polyhedrons: 711\n",
      "Number of barrier faces: 198\n",
      "Number of polyhedra with barrier faces: 137\n",
      "Number of polyhedrons that are tetrahedrons: 129\n",
      "Nueva lectura es  40.59077707344384 % más rápido\n"
     ]
    }
   ],
   "source": [
    "n = 1000\n",
    "\n",
    "dt_S, dt_M = run_polylla(n, distribution)\n",
    "original_time.append(dt_S)\n",
    "new_time.append(dt_M)"
   ]
  },
  {
   "cell_type": "markdown",
   "metadata": {},
   "source": [
    "### n = 5000"
   ]
  },
  {
   "cell_type": "code",
   "execution_count": 58,
   "metadata": {},
   "outputs": [
    {
     "name": "stdout",
     "output_type": "stream",
     "text": [
      "reading node file: data/5000semiuniform.1.node\n",
      "reading face file: data/5000semiuniform.1.face\n",
      "reading ele file: data/5000semiuniform.1.ele\n",
      "reading edge file: data/5000semiuniform.1.edge\n",
      "Reading vertex file\n",
      "Reading face file\n",
      "Processing edges\n",
      "Reading tetra file\n",
      "Processesing faces with tetrahedorns\n",
      "Tiempo Sergio`s version: 6.982501268386841 segs\n",
      "Tiempo Magda`s version: 4.1753458976745605 segs\n",
      "\n",
      " Stats polylla original\n",
      "PolyllaFace info:\n",
      "Number of polyhedrons: 711\n",
      "Number of barrier faces: 198\n",
      "Number of polyhedra with barrier faces: 137\n",
      "Number of polyhedrons that are tetrahedrons: 129\n",
      "\n",
      " Stats polylla Prueba:\n",
      "PolyllaFace info:\n",
      "Number of polyhedrons: 711\n",
      "Number of barrier faces: 198\n",
      "Number of polyhedra with barrier faces: 137\n",
      "Number of polyhedrons that are tetrahedrons: 129\n",
      "Nueva lectura es  40.20271909468359 % más rápido\n"
     ]
    }
   ],
   "source": [
    "n = 5000\n",
    "\n",
    "dt_S, dt_M = run_polylla(n, distribution)\n",
    "original_time.append(dt_S)\n",
    "new_time.append(dt_M)"
   ]
  },
  {
   "cell_type": "markdown",
   "metadata": {},
   "source": [
    "### n = 10000"
   ]
  },
  {
   "cell_type": "code",
   "execution_count": 59,
   "metadata": {},
   "outputs": [
    {
     "name": "stdout",
     "output_type": "stream",
     "text": [
      "reading node file: data/10000semiuniform.1.node\n",
      "reading face file: data/10000semiuniform.1.face\n",
      "reading ele file: data/10000semiuniform.1.ele\n",
      "reading edge file: data/10000semiuniform.1.edge\n",
      "Reading vertex file\n",
      "Reading face file\n",
      "Processing edges\n",
      "Reading tetra file\n",
      "Processesing faces with tetrahedorns\n",
      "Tiempo Sergio`s version: 6.962121248245239 segs\n",
      "Tiempo Magda`s version: 4.203083753585815 segs\n",
      "\n",
      " Stats polylla original\n",
      "PolyllaFace info:\n",
      "Number of polyhedrons: 711\n",
      "Number of barrier faces: 198\n",
      "Number of polyhedra with barrier faces: 137\n",
      "Number of polyhedrons that are tetrahedrons: 129\n",
      "\n",
      " Stats polylla Prueba:\n",
      "PolyllaFace info:\n",
      "Number of polyhedrons: 711\n",
      "Number of barrier faces: 198\n",
      "Number of polyhedra with barrier faces: 137\n",
      "Number of polyhedrons that are tetrahedrons: 129\n",
      "Nueva lectura es  39.62926522365324 % más rápido\n"
     ]
    }
   ],
   "source": [
    "n = 10000\n",
    "\n",
    "dt_S, dt_M = run_polylla(n, distribution)\n",
    "original_time.append(dt_S)\n",
    "new_time.append(dt_M)"
   ]
  },
  {
   "cell_type": "code",
   "execution_count": 60,
   "metadata": {},
   "outputs": [
    {
     "name": "stdout",
     "output_type": "stream",
     "text": [
      "Nuevo método es: 36.22146201872605 % más rápido.\n"
     ]
    }
   ],
   "source": [
    "promedio_org = statistics.mean(original_time)\n",
    "promedio_new = statistics.mean(new_time)\n",
    "print('Nuevo método es:', (100-(promedio_new*100/promedio_org)),'% más rápido.')"
   ]
  }
 ],
 "metadata": {
  "kernelspec": {
   "display_name": "Python 3",
   "language": "python",
   "name": "python3"
  },
  "language_info": {
   "codemirror_mode": {
    "name": "ipython",
    "version": 3
   },
   "file_extension": ".py",
   "mimetype": "text/x-python",
   "name": "python",
   "nbconvert_exporter": "python",
   "pygments_lexer": "ipython3",
   "version": "3.8.10"
  }
 },
 "nbformat": 4,
 "nbformat_minor": 2
}
