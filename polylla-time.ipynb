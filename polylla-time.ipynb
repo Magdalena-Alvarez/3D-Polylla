{
 "cells": [
  {
   "cell_type": "markdown",
   "metadata": {},
   "source": [
    "# Compare Sergio's and Magda's files reading"
   ]
  },
  {
   "cell_type": "code",
   "execution_count": 8,
   "metadata": {},
   "outputs": [],
   "source": [
    "import sys\n",
    "sys.path.append(\"..\")\n",
    "from newMesh import FaceTetrahedronMesh\n",
    "from mesh import TetrahedronMesh\n",
    "from PolyllaFace import PolyllaFace\n",
    "import time\n",
    "import statistics\n",
    "\n",
    "original_time = []\n",
    "new_time = []\n",
    "n_experiments = 5"
   ]
  },
  {
   "cell_type": "code",
   "execution_count": 12,
   "metadata": {},
   "outputs": [],
   "source": [
    "def run_polylla(n, distribution):\n",
    "    filename = \"data/Experiments/\"+ str(n) + distribution +\".1\"\n",
    "    node_file = filename + \".node\"\n",
    "    ele_file = filename + \".ele\"\n",
    "    face_file = filename + \".face\"\n",
    "    edge_file = filename + \".edge\"\n",
    "\n",
    "    t0 = time.time()\n",
    "    mesh = TetrahedronMesh(node_file, face_file, ele_file,edge_file)\n",
    "    polyllaFace_mesh_original = PolyllaFace(mesh)\n",
    "    tf = time.time()\n",
    "\n",
    "    dtS = tf - t0 \n",
    "\n",
    "    t0 = time.time()\n",
    "    mesh_f = FaceTetrahedronMesh(node_file, face_file, ele_file)\n",
    "    polyllaFace_mesh_prueba = PolyllaFace(mesh_f)\n",
    "    tf = time.time()\n",
    "\n",
    "    dtM = tf - t0 \n",
    "\n",
    "    print('Tiempo Sergio`s version:',dtS,'segs')\n",
    "    print('Tiempo Magda`s version:',dtM,'segs')\n",
    "\n",
    "    print('\\n Stats polylla original')\n",
    "\n",
    "    polyllaFace_mesh_original.get_info()\n",
    "    print('\\n Stats polylla Prueba:')\n",
    "    polyllaFace_mesh_prueba.get_info()\n",
    "\n",
    "    if dtM < dtS:\n",
    "        print('Nueva lectura es ', (100 - ((dtM)*100/dtS)), '% más rápido')\n",
    "    \n",
    "    return (dtS, dtM)\n"
   ]
  },
  {
   "cell_type": "code",
   "execution_count": 26,
   "metadata": {},
   "outputs": [],
   "source": [
    "resultFile = open(\"timeExperiments.txt\",'w')"
   ]
  },
  {
   "cell_type": "markdown",
   "metadata": {},
   "source": [
    "## Random Distribution"
   ]
  },
  {
   "cell_type": "code",
   "execution_count": 27,
   "metadata": {},
   "outputs": [
    {
     "data": {
      "text/plain": [
       "6"
      ]
     },
     "execution_count": 27,
     "metadata": {},
     "output_type": "execute_result"
    }
   ],
   "source": [
    "distribution = 'random'\n",
    "resultFile.write(distribution)\n",
    "resultFile.write('\\n')"
   ]
  },
  {
   "cell_type": "markdown",
   "metadata": {},
   "source": [
    "### n = 500"
   ]
  },
  {
   "cell_type": "code",
   "execution_count": 17,
   "metadata": {},
   "outputs": [
    {
     "name": "stdout",
     "output_type": "stream",
     "text": [
      "reading node file: data/Experiments/500random.1.node\n",
      "reading face file: data/Experiments/500random.1.face\n",
      "reading ele file: data/Experiments/500random.1.ele\n",
      "reading edge file: data/Experiments/500random.1.edge\n",
      "Reading vertex file\n",
      "Reading face file\n",
      "Processing edges\n",
      "Reading tetra file\n",
      "Processesing faces with tetrahedorns\n",
      "Tiempo Sergio`s version: 4.530253648757935 segs\n",
      "Tiempo Magda`s version: 0.11330723762512207 segs\n",
      "\n",
      " Stats polylla original\n",
      "PolyllaFace info:\n",
      "Number of polyhedrons: 714\n",
      "Number of barrier faces: 209\n",
      "Number of polyhedra with barrier faces: 142\n",
      "Number of polyhedrons that are tetrahedrons: 132\n",
      "\n",
      " Stats polylla Prueba:\n",
      "PolyllaFace info:\n",
      "Number of polyhedrons: 714\n",
      "Number of barrier faces: 209\n",
      "Number of polyhedra with barrier faces: 142\n",
      "Number of polyhedrons that are tetrahedrons: 131\n",
      "Nueva lectura es  97.49887652193189 % más rápido\n"
     ]
    }
   ],
   "source": [
    "n = 500\n",
    "\n",
    "dt_S, dt_M = run_polylla(n, distribution)\n",
    "original_time.append(dt_S)\n",
    "resultFile.write(str(original_time))\n",
    "resultFile.write('\\n')\n",
    "new_time.append(dt_M)\n",
    "resultFile.write(str(new_time))\n",
    "resultFile.write('\\n')"
   ]
  },
  {
   "cell_type": "markdown",
   "metadata": {},
   "source": [
    "### n = 1000"
   ]
  },
  {
   "cell_type": "code",
   "execution_count": 18,
   "metadata": {},
   "outputs": [
    {
     "name": "stdout",
     "output_type": "stream",
     "text": [
      "reading node file: data/Experiments/1000random.1.node\n",
      "reading face file: data/Experiments/1000random.1.face\n",
      "reading ele file: data/Experiments/1000random.1.ele\n",
      "reading edge file: data/Experiments/1000random.1.edge\n",
      "Reading vertex file\n",
      "Reading face file\n",
      "Processing edges\n",
      "Reading tetra file\n",
      "Processesing faces with tetrahedorns\n",
      "Tiempo Sergio`s version: 20.41038489341736 segs\n",
      "Tiempo Magda`s version: 0.17746639251708984 segs\n",
      "\n",
      " Stats polylla original\n",
      "PolyllaFace info:\n",
      "Number of polyhedrons: 1441\n",
      "Number of barrier faces: 453\n",
      "Number of polyhedra with barrier faces: 298\n",
      "Number of polyhedrons that are tetrahedrons: 282\n",
      "\n",
      " Stats polylla Prueba:\n",
      "PolyllaFace info:\n",
      "Number of polyhedrons: 1442\n",
      "Number of barrier faces: 453\n",
      "Number of polyhedra with barrier faces: 298\n",
      "Number of polyhedrons that are tetrahedrons: 283\n",
      "Nueva lectura es  99.13050932922718 % más rápido\n"
     ]
    }
   ],
   "source": [
    "n = 1000\n",
    "\n",
    "dt_S, dt_M = run_polylla(n, distribution)\n",
    "original_time.append(dt_S)\n",
    "resultFile.write(str(original_time))\n",
    "resultFile.write('\\n')\n",
    "new_time.append(dt_M)\n",
    "resultFile.write(str(new_time))\n",
    "resultFile.write('\\n')"
   ]
  },
  {
   "cell_type": "markdown",
   "metadata": {},
   "source": [
    "### n = 5000"
   ]
  },
  {
   "cell_type": "code",
   "execution_count": 19,
   "metadata": {},
   "outputs": [
    {
     "name": "stdout",
     "output_type": "stream",
     "text": [
      "reading node file: data/Experiments/5000random.1.node\n",
      "reading face file: data/Experiments/5000random.1.face\n",
      "reading ele file: data/Experiments/5000random.1.ele\n",
      "reading edge file: data/Experiments/5000random.1.edge\n"
     ]
    },
    {
     "ename": "KeyboardInterrupt",
     "evalue": "",
     "output_type": "error",
     "traceback": [
      "\u001b[0;31m---------------------------------------------------------------------------\u001b[0m",
      "\u001b[0;31mKeyboardInterrupt\u001b[0m                         Traceback (most recent call last)",
      "Cell \u001b[0;32mIn[19], line 3\u001b[0m\n\u001b[1;32m      1\u001b[0m n \u001b[38;5;241m=\u001b[39m \u001b[38;5;241m5000\u001b[39m\n\u001b[0;32m----> 3\u001b[0m dt_S, dt_M \u001b[38;5;241m=\u001b[39m \u001b[43mrun_polylla\u001b[49m\u001b[43m(\u001b[49m\u001b[43mn\u001b[49m\u001b[43m,\u001b[49m\u001b[43m \u001b[49m\u001b[43mdistribution\u001b[49m\u001b[43m)\u001b[49m\n\u001b[1;32m      4\u001b[0m original_time\u001b[38;5;241m.\u001b[39mappend(dt_S)\n\u001b[1;32m      5\u001b[0m new_time\u001b[38;5;241m.\u001b[39mappend(dt_M)\n",
      "Cell \u001b[0;32mIn[12], line 9\u001b[0m, in \u001b[0;36mrun_polylla\u001b[0;34m(n, distribution)\u001b[0m\n\u001b[1;32m      6\u001b[0m edge_file \u001b[38;5;241m=\u001b[39m filename \u001b[38;5;241m+\u001b[39m \u001b[38;5;124m\"\u001b[39m\u001b[38;5;124m.edge\u001b[39m\u001b[38;5;124m\"\u001b[39m\n\u001b[1;32m      8\u001b[0m t0 \u001b[38;5;241m=\u001b[39m time\u001b[38;5;241m.\u001b[39mtime()\n\u001b[0;32m----> 9\u001b[0m mesh \u001b[38;5;241m=\u001b[39m \u001b[43mTetrahedronMesh\u001b[49m\u001b[43m(\u001b[49m\u001b[43mnode_file\u001b[49m\u001b[43m,\u001b[49m\u001b[43m \u001b[49m\u001b[43mface_file\u001b[49m\u001b[43m,\u001b[49m\u001b[43m \u001b[49m\u001b[43mele_file\u001b[49m\u001b[43m,\u001b[49m\u001b[43medge_file\u001b[49m\u001b[43m)\u001b[49m\n\u001b[1;32m     10\u001b[0m polyllaFace_mesh_original \u001b[38;5;241m=\u001b[39m PolyllaFace(mesh)\n\u001b[1;32m     11\u001b[0m tf \u001b[38;5;241m=\u001b[39m time\u001b[38;5;241m.\u001b[39mtime()\n",
      "File \u001b[0;32m~/Documentos/3D-Polylla/mesh.py:81\u001b[0m, in \u001b[0;36mTetrahedronMesh.__init__\u001b[0;34m(self, node_file, face_file, tetra_file, edge_file)\u001b[0m\n\u001b[1;32m     80\u001b[0m \u001b[38;5;28;01mdef\u001b[39;00m \u001b[38;5;21m__init__\u001b[39m(\u001b[38;5;28mself\u001b[39m, node_file, face_file, tetra_file, edge_file):\n\u001b[0;32m---> 81\u001b[0m     \u001b[38;5;28mself\u001b[39m\u001b[38;5;241m.\u001b[39mnode_list, \u001b[38;5;28mself\u001b[39m\u001b[38;5;241m.\u001b[39mface_list, \u001b[38;5;28mself\u001b[39m\u001b[38;5;241m.\u001b[39mtetra_list, \u001b[38;5;28mself\u001b[39m\u001b[38;5;241m.\u001b[39medge_list \u001b[38;5;241m=\u001b[39m \u001b[38;5;28;43mself\u001b[39;49m\u001b[38;5;241;43m.\u001b[39;49m\u001b[43mconstruct_tetrahedral_mesh\u001b[49m\u001b[43m(\u001b[49m\u001b[43mnode_file\u001b[49m\u001b[43m,\u001b[49m\u001b[43m \u001b[49m\u001b[43mface_file\u001b[49m\u001b[43m,\u001b[49m\u001b[43m \u001b[49m\u001b[43mtetra_file\u001b[49m\u001b[43m,\u001b[49m\u001b[43m \u001b[49m\u001b[43medge_file\u001b[49m\u001b[43m)\u001b[49m\n\u001b[1;32m     82\u001b[0m     \u001b[38;5;28mself\u001b[39m\u001b[38;5;241m.\u001b[39mn_tetrahedrons \u001b[38;5;241m=\u001b[39m \u001b[38;5;28mlen\u001b[39m(\u001b[38;5;28mself\u001b[39m\u001b[38;5;241m.\u001b[39mtetra_list)\n\u001b[1;32m     83\u001b[0m     \u001b[38;5;28mself\u001b[39m\u001b[38;5;241m.\u001b[39mn_faces \u001b[38;5;241m=\u001b[39m \u001b[38;5;28mlen\u001b[39m(\u001b[38;5;28mself\u001b[39m\u001b[38;5;241m.\u001b[39mface_list)\n",
      "File \u001b[0;32m~/Documentos/3D-Polylla/mesh.py:167\u001b[0m, in \u001b[0;36mTetrahedronMesh.construct_tetrahedral_mesh\u001b[0;34m(self, node_file, face_file, ele_file, edge_file)\u001b[0m\n\u001b[1;32m    165\u001b[0m e3 \u001b[38;5;241m=\u001b[39m (face\u001b[38;5;241m.\u001b[39mv3, face\u001b[38;5;241m.\u001b[39mv1)\n\u001b[1;32m    166\u001b[0m \u001b[38;5;28;01mfor\u001b[39;00m edge \u001b[38;5;129;01min\u001b[39;00m edge_list:\n\u001b[0;32m--> 167\u001b[0m     \u001b[38;5;28;01mif\u001b[39;00m (edge\u001b[38;5;241m.\u001b[39mv1, edge\u001b[38;5;241m.\u001b[39mv2) \u001b[38;5;241m==\u001b[39m e1 \u001b[38;5;129;01mor\u001b[39;00m (edge\u001b[38;5;241m.\u001b[39mv2, edge\u001b[38;5;241m.\u001b[39mv1) \u001b[38;5;241m==\u001b[39m e1:\n\u001b[1;32m    168\u001b[0m         face\u001b[38;5;241m.\u001b[39medges\u001b[38;5;241m.\u001b[39mappend(edge\u001b[38;5;241m.\u001b[39mi)\n\u001b[1;32m    169\u001b[0m     \u001b[38;5;28;01mif\u001b[39;00m (edge\u001b[38;5;241m.\u001b[39mv1, edge\u001b[38;5;241m.\u001b[39mv2) \u001b[38;5;241m==\u001b[39m e2 \u001b[38;5;129;01mor\u001b[39;00m (edge\u001b[38;5;241m.\u001b[39mv2, edge\u001b[38;5;241m.\u001b[39mv1) \u001b[38;5;241m==\u001b[39m e2:\n",
      "\u001b[0;31mKeyboardInterrupt\u001b[0m: "
     ]
    }
   ],
   "source": [
    "n = 5000\n",
    "\n",
    "dt_S, dt_M = run_polylla(n, distribution)\n",
    "original_time.append(dt_S)\n",
    "resultFile.write(str(original_time))\n",
    "resultFile.write('\\n')\n",
    "new_time.append(dt_M)\n",
    "resultFile.write(str(new_time))\n",
    "resultFile.write('\\n')"
   ]
  },
  {
   "cell_type": "markdown",
   "metadata": {},
   "source": [
    "### n = 10000"
   ]
  },
  {
   "cell_type": "code",
   "execution_count": null,
   "metadata": {},
   "outputs": [
    {
     "name": "stdout",
     "output_type": "stream",
     "text": [
      "reading node file: data/10000random.1.node\n",
      "reading face file: data/10000random.1.face\n",
      "reading ele file: data/10000random.1.ele\n",
      "reading edge file: data/10000random.1.edge\n",
      "Reading vertex file\n",
      "Reading face file\n",
      "Processing edges\n",
      "Reading tetra file\n",
      "Processesing faces with tetrahedorns\n",
      "Tiempo Sergio`s version: 3060.9415361881256 segs\n",
      "Tiempo Magda`s version: 2.6658856868743896 segs\n",
      "\n",
      " Stats polylla original\n",
      "PolyllaFace info:\n",
      "Number of polyhedrons: 14437\n",
      "Number of barrier faces: 3877\n",
      "Number of polyhedra with barrier faces: 2625\n",
      "Number of polyhedrons that are tetrahedrons: 3534\n",
      "\n",
      " Stats polylla Prueba:\n",
      "PolyllaFace info:\n",
      "Number of polyhedrons: 14437\n",
      "Number of barrier faces: 3874\n",
      "Number of polyhedra with barrier faces: 2622\n",
      "Number of polyhedrons that are tetrahedrons: 3537\n",
      "Nueva lectura es  99.91290635069775 % más rápido\n"
     ]
    }
   ],
   "source": [
    "n = 10000\n",
    "\n",
    "dt_S, dt_M = run_polylla(n, distribution)\n",
    "original_time.append(dt_S)\n",
    "resultFile.write(str(original_time))\n",
    "resultFile.write('\\n')\n",
    "new_time.append(dt_M)\n",
    "resultFile.write(str(new_time))\n",
    "resultFile.write('\\n')"
   ]
  },
  {
   "cell_type": "markdown",
   "metadata": {},
   "source": []
  },
  {
   "cell_type": "markdown",
   "metadata": {},
   "source": [
    "## Poisson Distribution"
   ]
  },
  {
   "cell_type": "code",
   "execution_count": null,
   "metadata": {},
   "outputs": [],
   "source": [
    "distribution = 'poisson'\n",
    "resultFile.write(distribution)\n",
    "resultFile.write('\\n')\n"
   ]
  },
  {
   "cell_type": "markdown",
   "metadata": {},
   "source": [
    "### n = 500"
   ]
  },
  {
   "cell_type": "code",
   "execution_count": null,
   "metadata": {},
   "outputs": [
    {
     "name": "stdout",
     "output_type": "stream",
     "text": [
      "reading node file: data/500poisson.1.node\n",
      "reading face file: data/500poisson.1.face\n",
      "reading ele file: data/500poisson.1.ele\n",
      "reading edge file: data/500poisson.1.edge\n",
      "Reading vertex file\n",
      "Reading face file\n",
      "Processing edges\n",
      "Reading tetra file\n",
      "Processesing faces with tetrahedorns\n",
      "Tiempo Sergio`s version: 8.694112539291382 segs\n",
      "Tiempo Magda`s version: 0.11905956268310547 segs\n",
      "\n",
      " Stats polylla original\n",
      "PolyllaFace info:\n",
      "Number of polyhedrons: 774\n",
      "Number of barrier faces: 216\n",
      "Number of polyhedra with barrier faces: 157\n",
      "Number of polyhedrons that are tetrahedrons: 127\n",
      "\n",
      " Stats polylla Prueba:\n",
      "PolyllaFace info:\n",
      "Number of polyhedrons: 774\n",
      "Number of barrier faces: 216\n",
      "Number of polyhedra with barrier faces: 157\n",
      "Number of polyhedrons that are tetrahedrons: 127\n",
      "Nueva lectura es  98.63057256108615 % más rápido\n"
     ]
    }
   ],
   "source": [
    "n = 500\n",
    "\n",
    "dt_S, dt_M = run_polylla(n, distribution)\n",
    "original_time.append(dt_S)\n",
    "new_time.append(dt_M)\n",
    "resultFile.write(str(original_time))\n",
    "resultFile.write('\\n')\n",
    "new_time.append(dt_M)\n",
    "resultFile.write(str(new_time))\n",
    "resultFile.write('\\n')"
   ]
  },
  {
   "cell_type": "markdown",
   "metadata": {},
   "source": [
    "### n = 1000"
   ]
  },
  {
   "cell_type": "code",
   "execution_count": null,
   "metadata": {},
   "outputs": [
    {
     "name": "stdout",
     "output_type": "stream",
     "text": [
      "reading node file: data/1000poisson.1.node\n",
      "reading face file: data/1000poisson.1.face\n",
      "reading ele file: data/1000poisson.1.ele\n",
      "reading edge file: data/1000poisson.1.edge\n",
      "Reading vertex file\n",
      "Reading face file\n",
      "Processing edges\n",
      "Reading tetra file\n",
      "Processesing faces with tetrahedorns\n",
      "Tiempo Sergio`s version: 8.338191509246826 segs\n",
      "Tiempo Magda`s version: 0.12151288986206055 segs\n",
      "\n",
      " Stats polylla original\n",
      "PolyllaFace info:\n",
      "Number of polyhedrons: 750\n",
      "Number of barrier faces: 196\n",
      "Number of polyhedra with barrier faces: 132\n",
      "Number of polyhedrons that are tetrahedrons: 113\n",
      "\n",
      " Stats polylla Prueba:\n",
      "PolyllaFace info:\n",
      "Number of polyhedrons: 752\n",
      "Number of barrier faces: 196\n",
      "Number of polyhedra with barrier faces: 132\n",
      "Number of polyhedrons that are tetrahedrons: 115\n",
      "Nueva lectura es  98.54269490299778 % más rápido\n"
     ]
    }
   ],
   "source": [
    "n = 1000\n",
    "\n",
    "dt_S, dt_M = run_polylla(n, distribution)\n",
    "original_time.append(dt_S)\n",
    "resultFile.write(str(original_time))\n",
    "resultFile.write('\\n')\n",
    "new_time.append(dt_M)\n",
    "resultFile.write(str(new_time))\n",
    "resultFile.write('\\n')"
   ]
  },
  {
   "cell_type": "markdown",
   "metadata": {},
   "source": [
    "### n = 5000"
   ]
  },
  {
   "cell_type": "code",
   "execution_count": null,
   "metadata": {},
   "outputs": [
    {
     "name": "stdout",
     "output_type": "stream",
     "text": [
      "reading node file: data/5000poisson.1.node\n",
      "reading face file: data/5000poisson.1.face\n",
      "reading ele file: data/5000poisson.1.ele\n",
      "reading edge file: data/5000poisson.1.edge\n",
      "Reading vertex file\n",
      "Reading face file\n",
      "Processing edges\n",
      "Reading tetra file\n",
      "Processesing faces with tetrahedorns\n",
      "Tiempo Sergio`s version: 8.444241046905518 segs\n",
      "Tiempo Magda`s version: 0.12338471412658691 segs\n",
      "\n",
      " Stats polylla original\n",
      "PolyllaFace info:\n",
      "Number of polyhedrons: 782\n",
      "Number of barrier faces: 209\n",
      "Number of polyhedra with barrier faces: 150\n",
      "Number of polyhedrons that are tetrahedrons: 136\n",
      "\n",
      " Stats polylla Prueba:\n",
      "PolyllaFace info:\n",
      "Number of polyhedrons: 782\n",
      "Number of barrier faces: 209\n",
      "Number of polyhedra with barrier faces: 150\n",
      "Number of polyhedrons that are tetrahedrons: 136\n",
      "Nueva lectura es  98.53883003290387 % más rápido\n"
     ]
    }
   ],
   "source": [
    "n = 5000\n",
    "\n",
    "dt_S, dt_M = run_polylla(n, distribution)\n",
    "original_time.append(dt_S)\n",
    "resultFile.write(str(original_time))\n",
    "resultFile.write('\\n')\n",
    "new_time.append(dt_M)\n",
    "resultFile.write(str(new_time))\n",
    "resultFile.write('\\n')"
   ]
  },
  {
   "cell_type": "markdown",
   "metadata": {},
   "source": [
    "### n = 10000"
   ]
  },
  {
   "cell_type": "code",
   "execution_count": null,
   "metadata": {},
   "outputs": [
    {
     "name": "stdout",
     "output_type": "stream",
     "text": [
      "reading node file: data/10000poisson.1.node\n",
      "reading face file: data/10000poisson.1.face\n",
      "reading ele file: data/10000poisson.1.ele\n",
      "reading edge file: data/10000poisson.1.edge\n",
      "Reading vertex file\n",
      "Reading face file\n",
      "Processing edges\n",
      "Reading tetra file\n",
      "Processesing faces with tetrahedorns\n",
      "Tiempo Sergio`s version: 8.225796222686768 segs\n",
      "Tiempo Magda`s version: 0.12241172790527344 segs\n",
      "\n",
      " Stats polylla original\n",
      "PolyllaFace info:\n",
      "Number of polyhedrons: 745\n",
      "Number of barrier faces: 185\n",
      "Number of polyhedra with barrier faces: 136\n",
      "Number of polyhedrons that are tetrahedrons: 124\n",
      "\n",
      " Stats polylla Prueba:\n",
      "PolyllaFace info:\n",
      "Number of polyhedrons: 746\n",
      "Number of barrier faces: 185\n",
      "Number of polyhedra with barrier faces: 136\n",
      "Number of polyhedrons that are tetrahedrons: 125\n",
      "Nueva lectura es  98.51185557493314 % más rápido\n"
     ]
    }
   ],
   "source": [
    "n = 10000\n",
    "\n",
    "dt_S, dt_M = run_polylla(n, distribution)\n",
    "original_time.append(dt_S)\n",
    "resultFile.write(str(original_time))\n",
    "resultFile.write('\\n')\n",
    "new_time.append(dt_M)\n",
    "resultFile.write(str(new_time))\n",
    "resultFile.write('\\n')"
   ]
  },
  {
   "cell_type": "markdown",
   "metadata": {},
   "source": []
  },
  {
   "cell_type": "markdown",
   "metadata": {},
   "source": [
    "## Semiuniform Distribution"
   ]
  },
  {
   "cell_type": "code",
   "execution_count": null,
   "metadata": {},
   "outputs": [],
   "source": [
    "distribution = 'semiuniform'\n",
    "resultFile.write(distribution)\n",
    "resultFile.write('\\n')\n"
   ]
  },
  {
   "cell_type": "markdown",
   "metadata": {},
   "source": [
    "### n = 500"
   ]
  },
  {
   "cell_type": "code",
   "execution_count": null,
   "metadata": {},
   "outputs": [
    {
     "name": "stdout",
     "output_type": "stream",
     "text": [
      "reading node file: data/500semiuniform.1.node\n",
      "reading face file: data/500semiuniform.1.face\n",
      "reading ele file: data/500semiuniform.1.ele\n",
      "reading edge file: data/500semiuniform.1.edge\n",
      "Reading vertex file\n",
      "Reading face file\n",
      "Processing edges\n",
      "Reading tetra file\n",
      "Processesing faces with tetrahedorns\n",
      "Tiempo Sergio`s version: 7.282324314117432 segs\n",
      "Tiempo Magda`s version: 0.07419490814208984 segs\n",
      "\n",
      " Stats polylla original\n",
      "PolyllaFace info:\n",
      "Number of polyhedrons: 711\n",
      "Number of barrier faces: 198\n",
      "Number of polyhedra with barrier faces: 137\n",
      "Number of polyhedrons that are tetrahedrons: 129\n",
      "\n",
      " Stats polylla Prueba:\n",
      "PolyllaFace info:\n",
      "Number of polyhedrons: 711\n",
      "Number of barrier faces: 198\n",
      "Number of polyhedra with barrier faces: 137\n",
      "Number of polyhedrons that are tetrahedrons: 129\n",
      "Nueva lectura es  98.98116446148579 % más rápido\n"
     ]
    }
   ],
   "source": [
    "n = 500\n",
    "\n",
    "dt_S, dt_M = run_polylla(n, distribution)\n",
    "original_time.append(dt_S)\n",
    "resultFile.write(str(original_time))\n",
    "resultFile.write('\\n')\n",
    "new_time.append(dt_M)\n",
    "resultFile.write(str(new_time))\n",
    "resultFile.write('\\n')"
   ]
  },
  {
   "cell_type": "markdown",
   "metadata": {},
   "source": [
    "### n = 1000"
   ]
  },
  {
   "cell_type": "code",
   "execution_count": null,
   "metadata": {},
   "outputs": [
    {
     "name": "stdout",
     "output_type": "stream",
     "text": [
      "reading node file: data/1000semiuniform.1.node\n",
      "reading face file: data/1000semiuniform.1.face\n",
      "reading ele file: data/1000semiuniform.1.ele\n",
      "reading edge file: data/1000semiuniform.1.edge\n",
      "Reading vertex file\n",
      "Reading face file\n",
      "Processing edges\n",
      "Reading tetra file\n",
      "Processesing faces with tetrahedorns\n",
      "Tiempo Sergio`s version: 7.099269866943359 segs\n",
      "Tiempo Magda`s version: 0.10901451110839844 segs\n",
      "\n",
      " Stats polylla original\n",
      "PolyllaFace info:\n",
      "Number of polyhedrons: 711\n",
      "Number of barrier faces: 198\n",
      "Number of polyhedra with barrier faces: 137\n",
      "Number of polyhedrons that are tetrahedrons: 129\n",
      "\n",
      " Stats polylla Prueba:\n",
      "PolyllaFace info:\n",
      "Number of polyhedrons: 711\n",
      "Number of barrier faces: 198\n",
      "Number of polyhedra with barrier faces: 137\n",
      "Number of polyhedrons that are tetrahedrons: 129\n",
      "Nueva lectura es  98.46442643889328 % más rápido\n"
     ]
    }
   ],
   "source": [
    "n = 1000\n",
    "\n",
    "dt_S, dt_M = run_polylla(n, distribution)\n",
    "original_time.append(dt_S)\n",
    "resultFile.write(str(original_time))\n",
    "resultFile.write('\\n')\n",
    "new_time.append(dt_M)\n",
    "resultFile.write(str(new_time))\n",
    "resultFile.write('\\n')"
   ]
  },
  {
   "cell_type": "markdown",
   "metadata": {},
   "source": [
    "### n = 5000"
   ]
  },
  {
   "cell_type": "code",
   "execution_count": null,
   "metadata": {},
   "outputs": [
    {
     "name": "stdout",
     "output_type": "stream",
     "text": [
      "reading node file: data/5000semiuniform.1.node\n",
      "reading face file: data/5000semiuniform.1.face\n",
      "reading ele file: data/5000semiuniform.1.ele\n",
      "reading edge file: data/5000semiuniform.1.edge\n",
      "Reading vertex file\n",
      "Reading face file\n",
      "Processing edges\n",
      "Reading tetra file\n",
      "Processesing faces with tetrahedorns\n",
      "Tiempo Sergio`s version: 7.03462815284729 segs\n",
      "Tiempo Magda`s version: 0.11233019828796387 segs\n",
      "\n",
      " Stats polylla original\n",
      "PolyllaFace info:\n",
      "Number of polyhedrons: 711\n",
      "Number of barrier faces: 198\n",
      "Number of polyhedra with barrier faces: 137\n",
      "Number of polyhedrons that are tetrahedrons: 129\n",
      "\n",
      " Stats polylla Prueba:\n",
      "PolyllaFace info:\n",
      "Number of polyhedrons: 711\n",
      "Number of barrier faces: 198\n",
      "Number of polyhedra with barrier faces: 137\n",
      "Number of polyhedrons that are tetrahedrons: 129\n",
      "Nueva lectura es  98.40318214627311 % más rápido\n"
     ]
    }
   ],
   "source": [
    "n = 5000\n",
    "\n",
    "dt_S, dt_M = run_polylla(n, distribution)\n",
    "original_time.append(dt_S)\n",
    "resultFile.write(str(original_time))\n",
    "resultFile.write('\\n')\n",
    "new_time.append(dt_M)\n",
    "resultFile.write(str(new_time))\n",
    "resultFile.write('\\n')"
   ]
  },
  {
   "cell_type": "markdown",
   "metadata": {},
   "source": [
    "### n = 10000"
   ]
  },
  {
   "cell_type": "code",
   "execution_count": null,
   "metadata": {},
   "outputs": [
    {
     "name": "stdout",
     "output_type": "stream",
     "text": [
      "reading node file: data/10000semiuniform.1.node\n",
      "reading face file: data/10000semiuniform.1.face\n",
      "reading ele file: data/10000semiuniform.1.ele\n",
      "reading edge file: data/10000semiuniform.1.edge\n",
      "Reading vertex file\n",
      "Reading face file\n",
      "Processing edges\n",
      "Reading tetra file\n",
      "Processesing faces with tetrahedorns\n",
      "Tiempo Sergio`s version: 7.023548603057861 segs\n",
      "Tiempo Magda`s version: 0.11316585540771484 segs\n",
      "\n",
      " Stats polylla original\n",
      "PolyllaFace info:\n",
      "Number of polyhedrons: 711\n",
      "Number of barrier faces: 198\n",
      "Number of polyhedra with barrier faces: 137\n",
      "Number of polyhedrons that are tetrahedrons: 129\n",
      "\n",
      " Stats polylla Prueba:\n",
      "PolyllaFace info:\n",
      "Number of polyhedrons: 711\n",
      "Number of barrier faces: 198\n",
      "Number of polyhedra with barrier faces: 137\n",
      "Number of polyhedrons that are tetrahedrons: 129\n",
      "Nueva lectura es  98.388765255238 % más rápido\n"
     ]
    }
   ],
   "source": [
    "n = 10000\n",
    "\n",
    "dt_S, dt_M = run_polylla(n, distribution)\n",
    "original_time.append(dt_S)\n",
    "resultFile.write(str(original_time))\n",
    "resultFile.write('\\n')\n",
    "new_time.append(dt_M)\n",
    "resultFile.write(str(new_time))\n",
    "resultFile.write('\\n')"
   ]
  },
  {
   "cell_type": "markdown",
   "metadata": {},
   "source": [
    "# Uniform Distribution"
   ]
  },
  {
   "cell_type": "code",
   "execution_count": null,
   "metadata": {},
   "outputs": [],
   "source": [
    "distribution = 'uniform'\n",
    "resultFile.write(distribution)\n",
    "resultFile.write('\\n')"
   ]
  },
  {
   "cell_type": "code",
   "execution_count": null,
   "metadata": {},
   "outputs": [],
   "source": [
    "n = 500\n",
    "\n",
    "dt_S, dt_M = run_polylla(n, distribution)\n",
    "original_time.append(dt_S)\n",
    "resultFile.write(str(original_time))\n",
    "resultFile.write('\\n')\n",
    "new_time.append(dt_M)\n",
    "resultFile.write(str(new_time))\n",
    "resultFile.write('\\n')"
   ]
  },
  {
   "cell_type": "code",
   "execution_count": null,
   "metadata": {},
   "outputs": [],
   "source": [
    "n = 1000\n",
    "\n",
    "dt_S, dt_M = run_polylla(n, distribution)\n",
    "original_time.append(dt_S)\n",
    "resultFile.write(str(original_time))\n",
    "resultFile.write('\\n')\n",
    "new_time.append(dt_M)\n",
    "resultFile.write(str(new_time))\n",
    "resultFile.write('\\n')"
   ]
  },
  {
   "cell_type": "code",
   "execution_count": null,
   "metadata": {},
   "outputs": [],
   "source": [
    "n = 5000\n",
    "\n",
    "dt_S, dt_M = run_polylla(n, distribution)\n",
    "original_time.append(dt_S)\n",
    "resultFile.write(str(original_time))\n",
    "resultFile.write('\\n')\n",
    "new_time.append(dt_M)\n",
    "resultFile.write(str(new_time))\n",
    "resultFile.write('\\n')"
   ]
  },
  {
   "cell_type": "code",
   "execution_count": null,
   "metadata": {},
   "outputs": [],
   "source": [
    "n = 10000\n",
    "\n",
    "dt_S, dt_M = run_polylla(n, distribution)\n",
    "original_time.append(dt_S)\n",
    "resultFile.write(str(original_time))\n",
    "resultFile.write('\\n')\n",
    "new_time.append(dt_M)\n",
    "resultFile.write(str(new_time))\n",
    "resultFile.write('\\n')"
   ]
  },
  {
   "cell_type": "code",
   "execution_count": 28,
   "metadata": {},
   "outputs": [],
   "source": [
    "resultFile.close()"
   ]
  },
  {
   "cell_type": "code",
   "execution_count": null,
   "metadata": {},
   "outputs": [
    {
     "name": "stdout",
     "output_type": "stream",
     "text": [
      "Nuevo método es: 99.85925933976596 % más rápido.\n"
     ]
    }
   ],
   "source": [
    "\n",
    "promedio_org = statistics.mean(original_time)\n",
    "promedio_new = statistics.mean(new_time)\n",
    "print('Nuevo método es:', (100-(promedio_new*100/promedio_org)),'% más rápido.')"
   ]
  }
 ],
 "metadata": {
  "kernelspec": {
   "display_name": "Python 3",
   "language": "python",
   "name": "python3"
  },
  "language_info": {
   "codemirror_mode": {
    "name": "ipython",
    "version": 3
   },
   "file_extension": ".py",
   "mimetype": "text/x-python",
   "name": "python",
   "nbconvert_exporter": "python",
   "pygments_lexer": "ipython3",
   "version": "3.10.12"
  }
 },
 "nbformat": 4,
 "nbformat_minor": 2
}
