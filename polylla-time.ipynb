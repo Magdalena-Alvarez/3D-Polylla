{
 "cells": [
  {
   "cell_type": "markdown",
   "metadata": {},
   "source": [
    "# Compare Sergio's and Magda's files reading"
   ]
  },
  {
   "cell_type": "code",
   "execution_count": 1,
   "metadata": {},
   "outputs": [],
   "source": [
    "import sys\n",
    "sys.path.append(\"..\")\n",
    "from newMesh import FaceTetrahedronMesh\n",
    "from mesh import TetrahedronMesh\n",
    "from PolyllaFace import PolyllaFace\n",
    "import time\n",
    "import statistics\n",
    "\n",
    "original_time = []\n",
    "new_time = []\n",
    "n_experiments = 5"
   ]
  },
  {
   "cell_type": "code",
   "execution_count": 2,
   "metadata": {},
   "outputs": [],
   "source": [
    "def run_polylla(n, distribution):\n",
    "    filename = \"data/Experiments/\"+ str(n) + distribution +\".1\"\n",
    "    node_file = filename + \".node\"\n",
    "    ele_file = filename + \".ele\"\n",
    "    face_file = filename + \".face\"\n",
    "    edge_file = filename + \".edge\"\n",
    "\n",
    "    t0 = time.time()\n",
    "    mesh = TetrahedronMesh(node_file, face_file, ele_file,edge_file)\n",
    "    polyllaFace_mesh_original = PolyllaFace(mesh)\n",
    "    tf = time.time()\n",
    "\n",
    "    dtS = tf - t0 \n",
    "\n",
    "    t0 = time.time()\n",
    "    mesh_f = FaceTetrahedronMesh(node_file, face_file, ele_file)\n",
    "    polyllaFace_mesh_prueba = PolyllaFace(mesh_f)\n",
    "    tf = time.time()\n",
    "\n",
    "    dtM = tf - t0 \n",
    "\n",
    "    print('Tiempo Sergio`s version:',dtS,'segs')\n",
    "    print('Tiempo Magda`s version:',dtM,'segs')\n",
    "\n",
    "    print('\\n Stats polylla original')\n",
    "\n",
    "    polyllaFace_mesh_original.get_info()\n",
    "    print('\\n Stats polylla Prueba:')\n",
    "    polyllaFace_mesh_prueba.get_info()\n",
    "\n",
    "    if dtM < dtS:\n",
    "        print('Nueva lectura es ', (100 - ((dtM)*100/dtS)), '% más rápido')\n",
    "    \n",
    "    return (dtS, dtM)\n"
   ]
  },
  {
   "cell_type": "code",
   "execution_count": 3,
   "metadata": {},
   "outputs": [],
   "source": [
    "resultFile = open(\"timeExperiments.txt\",'w')"
   ]
  },
  {
   "cell_type": "markdown",
   "metadata": {},
   "source": [
    "## Random Distribution"
   ]
  },
  {
   "cell_type": "code",
   "execution_count": 4,
   "metadata": {},
   "outputs": [
    {
     "data": {
      "text/plain": [
       "1"
      ]
     },
     "execution_count": 4,
     "metadata": {},
     "output_type": "execute_result"
    }
   ],
   "source": [
    "distribution = 'random'\n",
    "resultFile.write(distribution)\n",
    "resultFile.write('\\n')"
   ]
  },
  {
   "cell_type": "markdown",
   "metadata": {},
   "source": [
    "### n = 500"
   ]
  },
  {
   "cell_type": "code",
   "execution_count": 5,
   "metadata": {},
   "outputs": [
    {
     "name": "stdout",
     "output_type": "stream",
     "text": [
      "reading node file: data/Experiments/500random.1.node\n",
      "reading face file: data/Experiments/500random.1.face\n",
      "reading ele file: data/Experiments/500random.1.ele\n",
      "reading edge file: data/Experiments/500random.1.edge\n",
      "Reading vertex file\n",
      "Reading face file\n",
      "Processing edges\n",
      "Reading tetra file\n",
      "Processesing faces with tetrahedorns\n",
      "Tiempo Sergio`s version: 4.594050407409668 segs\n",
      "Tiempo Magda`s version: 0.10384654998779297 segs\n",
      "\n",
      " Stats polylla original\n",
      "PolyllaFace info:\n",
      "Number of polyhedrons: 698\n",
      "Number of barrier faces: 442\n",
      "Number of polyhedra with barrier faces: 191\n",
      "Number of polyhedrons that are tetrahedrons: 262\n",
      "\n",
      " Stats polylla Prueba:\n",
      "PolyllaFace info:\n",
      "Number of polyhedrons: 714\n",
      "Number of barrier faces: 209\n",
      "Number of polyhedra with barrier faces: 142\n",
      "Number of polyhedrons that are tetrahedrons: 131\n",
      "Nueva lectura es  97.73954265237707 % más rápido\n"
     ]
    },
    {
     "data": {
      "text/plain": [
       "1"
      ]
     },
     "execution_count": 5,
     "metadata": {},
     "output_type": "execute_result"
    }
   ],
   "source": [
    "n = 500\n",
    "\n",
    "dt_S, dt_M = run_polylla(n, distribution)\n",
    "original_time.append(dt_S)\n",
    "resultFile.write(str(original_time))\n",
    "resultFile.write('\\n')\n",
    "new_time.append(dt_M)\n",
    "resultFile.write(str(new_time))\n",
    "resultFile.write('\\n')"
   ]
  },
  {
   "cell_type": "markdown",
   "metadata": {},
   "source": [
    "### n = 1000"
   ]
  },
  {
   "cell_type": "code",
   "execution_count": 6,
   "metadata": {},
   "outputs": [
    {
     "name": "stdout",
     "output_type": "stream",
     "text": [
      "reading node file: data/Experiments/1000random.1.node\n",
      "reading face file: data/Experiments/1000random.1.face\n",
      "reading ele file: data/Experiments/1000random.1.ele\n",
      "reading edge file: data/Experiments/1000random.1.edge\n"
     ]
    },
    {
     "ename": "KeyboardInterrupt",
     "evalue": "",
     "output_type": "error",
     "traceback": [
      "\u001b[0;31m---------------------------------------------------------------------------\u001b[0m",
      "\u001b[0;31mKeyboardInterrupt\u001b[0m                         Traceback (most recent call last)",
      "Cell \u001b[0;32mIn[6], line 3\u001b[0m\n\u001b[1;32m      1\u001b[0m n \u001b[38;5;241m=\u001b[39m \u001b[38;5;241m1000\u001b[39m\n\u001b[0;32m----> 3\u001b[0m dt_S, dt_M \u001b[38;5;241m=\u001b[39m \u001b[43mrun_polylla\u001b[49m\u001b[43m(\u001b[49m\u001b[43mn\u001b[49m\u001b[43m,\u001b[49m\u001b[43m \u001b[49m\u001b[43mdistribution\u001b[49m\u001b[43m)\u001b[49m\n\u001b[1;32m      4\u001b[0m original_time\u001b[38;5;241m.\u001b[39mappend(dt_S)\n\u001b[1;32m      5\u001b[0m resultFile\u001b[38;5;241m.\u001b[39mwrite(\u001b[38;5;28mstr\u001b[39m(original_time))\n",
      "Cell \u001b[0;32mIn[2], line 9\u001b[0m, in \u001b[0;36mrun_polylla\u001b[0;34m(n, distribution)\u001b[0m\n\u001b[1;32m      6\u001b[0m edge_file \u001b[38;5;241m=\u001b[39m filename \u001b[38;5;241m+\u001b[39m \u001b[38;5;124m\"\u001b[39m\u001b[38;5;124m.edge\u001b[39m\u001b[38;5;124m\"\u001b[39m\n\u001b[1;32m      8\u001b[0m t0 \u001b[38;5;241m=\u001b[39m time\u001b[38;5;241m.\u001b[39mtime()\n\u001b[0;32m----> 9\u001b[0m mesh \u001b[38;5;241m=\u001b[39m \u001b[43mTetrahedronMesh\u001b[49m\u001b[43m(\u001b[49m\u001b[43mnode_file\u001b[49m\u001b[43m,\u001b[49m\u001b[43m \u001b[49m\u001b[43mface_file\u001b[49m\u001b[43m,\u001b[49m\u001b[43m \u001b[49m\u001b[43mele_file\u001b[49m\u001b[43m,\u001b[49m\u001b[43medge_file\u001b[49m\u001b[43m)\u001b[49m\n\u001b[1;32m     10\u001b[0m polyllaFace_mesh_original \u001b[38;5;241m=\u001b[39m PolyllaFace(mesh)\n\u001b[1;32m     11\u001b[0m tf \u001b[38;5;241m=\u001b[39m time\u001b[38;5;241m.\u001b[39mtime()\n",
      "File \u001b[0;32m~/Documentos/3D-Polylla/mesh.py:81\u001b[0m, in \u001b[0;36mTetrahedronMesh.__init__\u001b[0;34m(self, node_file, face_file, tetra_file, edge_file)\u001b[0m\n\u001b[1;32m     80\u001b[0m \u001b[38;5;28;01mdef\u001b[39;00m \u001b[38;5;21m__init__\u001b[39m(\u001b[38;5;28mself\u001b[39m, node_file, face_file, tetra_file, edge_file):\n\u001b[0;32m---> 81\u001b[0m     \u001b[38;5;28mself\u001b[39m\u001b[38;5;241m.\u001b[39mnode_list, \u001b[38;5;28mself\u001b[39m\u001b[38;5;241m.\u001b[39mface_list, \u001b[38;5;28mself\u001b[39m\u001b[38;5;241m.\u001b[39mtetra_list, \u001b[38;5;28mself\u001b[39m\u001b[38;5;241m.\u001b[39medge_list \u001b[38;5;241m=\u001b[39m \u001b[38;5;28;43mself\u001b[39;49m\u001b[38;5;241;43m.\u001b[39;49m\u001b[43mconstruct_tetrahedral_mesh\u001b[49m\u001b[43m(\u001b[49m\u001b[43mnode_file\u001b[49m\u001b[43m,\u001b[49m\u001b[43m \u001b[49m\u001b[43mface_file\u001b[49m\u001b[43m,\u001b[49m\u001b[43m \u001b[49m\u001b[43mtetra_file\u001b[49m\u001b[43m,\u001b[49m\u001b[43m \u001b[49m\u001b[43medge_file\u001b[49m\u001b[43m)\u001b[49m\n\u001b[1;32m     82\u001b[0m     \u001b[38;5;28mself\u001b[39m\u001b[38;5;241m.\u001b[39mn_tetrahedrons \u001b[38;5;241m=\u001b[39m \u001b[38;5;28mlen\u001b[39m(\u001b[38;5;28mself\u001b[39m\u001b[38;5;241m.\u001b[39mtetra_list)\n\u001b[1;32m     83\u001b[0m     \u001b[38;5;28mself\u001b[39m\u001b[38;5;241m.\u001b[39mn_faces \u001b[38;5;241m=\u001b[39m \u001b[38;5;28mlen\u001b[39m(\u001b[38;5;28mself\u001b[39m\u001b[38;5;241m.\u001b[39mface_list)\n",
      "File \u001b[0;32m~/Documentos/3D-Polylla/mesh.py:167\u001b[0m, in \u001b[0;36mTetrahedronMesh.construct_tetrahedral_mesh\u001b[0;34m(self, node_file, face_file, ele_file, edge_file)\u001b[0m\n\u001b[1;32m    165\u001b[0m e3 \u001b[38;5;241m=\u001b[39m (face\u001b[38;5;241m.\u001b[39mv3, face\u001b[38;5;241m.\u001b[39mv1)\n\u001b[1;32m    166\u001b[0m \u001b[38;5;28;01mfor\u001b[39;00m edge \u001b[38;5;129;01min\u001b[39;00m edge_list:\n\u001b[0;32m--> 167\u001b[0m     \u001b[38;5;28;01mif\u001b[39;00m (edge\u001b[38;5;241m.\u001b[39mv1, edge\u001b[38;5;241m.\u001b[39mv2) \u001b[38;5;241m==\u001b[39m e1 \u001b[38;5;129;01mor\u001b[39;00m (edge\u001b[38;5;241m.\u001b[39mv2, edge\u001b[38;5;241m.\u001b[39mv1) \u001b[38;5;241m==\u001b[39m e1:\n\u001b[1;32m    168\u001b[0m         face\u001b[38;5;241m.\u001b[39medges\u001b[38;5;241m.\u001b[39mappend(edge\u001b[38;5;241m.\u001b[39mi)\n\u001b[1;32m    169\u001b[0m     \u001b[38;5;28;01mif\u001b[39;00m (edge\u001b[38;5;241m.\u001b[39mv1, edge\u001b[38;5;241m.\u001b[39mv2) \u001b[38;5;241m==\u001b[39m e2 \u001b[38;5;129;01mor\u001b[39;00m (edge\u001b[38;5;241m.\u001b[39mv2, edge\u001b[38;5;241m.\u001b[39mv1) \u001b[38;5;241m==\u001b[39m e2:\n",
      "\u001b[0;31mKeyboardInterrupt\u001b[0m: "
     ]
    }
   ],
   "source": [
    "n = 1000\n",
    "\n",
    "dt_S, dt_M = run_polylla(n, distribution)\n",
    "original_time.append(dt_S)\n",
    "resultFile.write(str(original_time))\n",
    "resultFile.write('\\n')\n",
    "new_time.append(dt_M)\n",
    "resultFile.write(str(new_time))\n",
    "resultFile.write('\\n')"
   ]
  },
  {
   "cell_type": "markdown",
   "metadata": {},
   "source": [
    "### n = 5000"
   ]
  },
  {
   "cell_type": "code",
   "execution_count": null,
   "metadata": {},
   "outputs": [
    {
     "name": "stdout",
     "output_type": "stream",
     "text": [
      "reading node file: data/Experiments/5000random.1.node\n",
      "reading face file: data/Experiments/5000random.1.face\n",
      "reading ele file: data/Experiments/5000random.1.ele\n",
      "reading edge file: data/Experiments/5000random.1.edge\n",
      "Reading vertex file\n",
      "Reading face file\n",
      "Processing edges\n",
      "Reading tetra file\n",
      "Processesing faces with tetrahedorns\n",
      "Tiempo Sergio`s version: 968.7690057754517 segs\n",
      "Tiempo Magda`s version: 1.4099643230438232 segs\n",
      "\n",
      " Stats polylla original\n",
      "PolyllaFace info:\n",
      "Number of polyhedrons: 8375\n",
      "Number of barrier faces: 2718\n",
      "Number of polyhedra with barrier faces: 1776\n",
      "Number of polyhedrons that are tetrahedrons: 1488\n",
      "\n",
      " Stats polylla Prueba:\n",
      "PolyllaFace info:\n",
      "Number of polyhedrons: 8375\n",
      "Number of barrier faces: 2718\n",
      "Number of polyhedra with barrier faces: 1776\n",
      "Number of polyhedrons that are tetrahedrons: 1488\n",
      "Nueva lectura es  99.85445815105169 % más rápido\n"
     ]
    },
    {
     "data": {
      "text/plain": [
       "1"
      ]
     },
     "execution_count": 23,
     "metadata": {},
     "output_type": "execute_result"
    }
   ],
   "source": [
    "n = 5000\n",
    "\n",
    "dt_S, dt_M = run_polylla(n, distribution)\n",
    "original_time.append(dt_S)\n",
    "resultFile.write(str(original_time))\n",
    "resultFile.write('\\n')\n",
    "new_time.append(dt_M)\n",
    "resultFile.write(str(new_time))\n",
    "resultFile.write('\\n')"
   ]
  },
  {
   "cell_type": "markdown",
   "metadata": {},
   "source": [
    "### n = 10000"
   ]
  },
  {
   "cell_type": "code",
   "execution_count": null,
   "metadata": {},
   "outputs": [
    {
     "name": "stdout",
     "output_type": "stream",
     "text": [
      "reading node file: data/Experiments/10000random.1.node\n",
      "reading face file: data/Experiments/10000random.1.face\n",
      "reading ele file: data/Experiments/10000random.1.ele\n",
      "reading edge file: data/Experiments/10000random.1.edge\n"
     ]
    },
    {
     "ename": "KeyboardInterrupt",
     "evalue": "",
     "output_type": "error",
     "traceback": [
      "\u001b[0;31m---------------------------------------------------------------------------\u001b[0m",
      "\u001b[0;31mKeyboardInterrupt\u001b[0m                         Traceback (most recent call last)",
      "Cell \u001b[0;32mIn[24], line 3\u001b[0m\n\u001b[1;32m      1\u001b[0m n \u001b[38;5;241m=\u001b[39m \u001b[38;5;241m10000\u001b[39m\n\u001b[0;32m----> 3\u001b[0m dt_S, dt_M \u001b[38;5;241m=\u001b[39m \u001b[43mrun_polylla\u001b[49m\u001b[43m(\u001b[49m\u001b[43mn\u001b[49m\u001b[43m,\u001b[49m\u001b[43m \u001b[49m\u001b[43mdistribution\u001b[49m\u001b[43m)\u001b[49m\n\u001b[1;32m      4\u001b[0m original_time\u001b[38;5;241m.\u001b[39mappend(dt_S)\n\u001b[1;32m      5\u001b[0m resultFile\u001b[38;5;241m.\u001b[39mwrite(\u001b[38;5;28mstr\u001b[39m(original_time))\n",
      "Cell \u001b[0;32mIn[18], line 9\u001b[0m, in \u001b[0;36mrun_polylla\u001b[0;34m(n, distribution)\u001b[0m\n\u001b[1;32m      6\u001b[0m edge_file \u001b[38;5;241m=\u001b[39m filename \u001b[38;5;241m+\u001b[39m \u001b[38;5;124m\"\u001b[39m\u001b[38;5;124m.edge\u001b[39m\u001b[38;5;124m\"\u001b[39m\n\u001b[1;32m      8\u001b[0m t0 \u001b[38;5;241m=\u001b[39m time\u001b[38;5;241m.\u001b[39mtime()\n\u001b[0;32m----> 9\u001b[0m mesh \u001b[38;5;241m=\u001b[39m \u001b[43mTetrahedronMesh\u001b[49m\u001b[43m(\u001b[49m\u001b[43mnode_file\u001b[49m\u001b[43m,\u001b[49m\u001b[43m \u001b[49m\u001b[43mface_file\u001b[49m\u001b[43m,\u001b[49m\u001b[43m \u001b[49m\u001b[43mele_file\u001b[49m\u001b[43m,\u001b[49m\u001b[43medge_file\u001b[49m\u001b[43m)\u001b[49m\n\u001b[1;32m     10\u001b[0m polyllaFace_mesh_original \u001b[38;5;241m=\u001b[39m PolyllaFace(mesh)\n\u001b[1;32m     11\u001b[0m tf \u001b[38;5;241m=\u001b[39m time\u001b[38;5;241m.\u001b[39mtime()\n",
      "File \u001b[0;32m~/Documents/Tesis/3D-Polylla/mesh.py:81\u001b[0m, in \u001b[0;36mTetrahedronMesh.__init__\u001b[0;34m(self, node_file, face_file, tetra_file, edge_file)\u001b[0m\n\u001b[1;32m     80\u001b[0m \u001b[38;5;28;01mdef\u001b[39;00m \u001b[38;5;21m__init__\u001b[39m(\u001b[38;5;28mself\u001b[39m, node_file, face_file, tetra_file, edge_file):\n\u001b[0;32m---> 81\u001b[0m     \u001b[38;5;28mself\u001b[39m\u001b[38;5;241m.\u001b[39mnode_list, \u001b[38;5;28mself\u001b[39m\u001b[38;5;241m.\u001b[39mface_list, \u001b[38;5;28mself\u001b[39m\u001b[38;5;241m.\u001b[39mtetra_list, \u001b[38;5;28mself\u001b[39m\u001b[38;5;241m.\u001b[39medge_list \u001b[38;5;241m=\u001b[39m \u001b[38;5;28;43mself\u001b[39;49m\u001b[38;5;241;43m.\u001b[39;49m\u001b[43mconstruct_tetrahedral_mesh\u001b[49m\u001b[43m(\u001b[49m\u001b[43mnode_file\u001b[49m\u001b[43m,\u001b[49m\u001b[43m \u001b[49m\u001b[43mface_file\u001b[49m\u001b[43m,\u001b[49m\u001b[43m \u001b[49m\u001b[43mtetra_file\u001b[49m\u001b[43m,\u001b[49m\u001b[43m \u001b[49m\u001b[43medge_file\u001b[49m\u001b[43m)\u001b[49m\n\u001b[1;32m     82\u001b[0m     \u001b[38;5;28mself\u001b[39m\u001b[38;5;241m.\u001b[39mn_tetrahedrons \u001b[38;5;241m=\u001b[39m \u001b[38;5;28mlen\u001b[39m(\u001b[38;5;28mself\u001b[39m\u001b[38;5;241m.\u001b[39mtetra_list)\n\u001b[1;32m     83\u001b[0m     \u001b[38;5;28mself\u001b[39m\u001b[38;5;241m.\u001b[39mn_faces \u001b[38;5;241m=\u001b[39m \u001b[38;5;28mlen\u001b[39m(\u001b[38;5;28mself\u001b[39m\u001b[38;5;241m.\u001b[39mface_list)\n",
      "File \u001b[0;32m~/Documents/Tesis/3D-Polylla/mesh.py:169\u001b[0m, in \u001b[0;36mconstruct_tetrahedral_mesh\u001b[0;34m(self, node_file, face_file, ele_file, edge_file)\u001b[0m\n\u001b[1;32m    167\u001b[0m     face\u001b[38;5;241m.\u001b[39medges\u001b[38;5;241m.\u001b[39mappend(edge\u001b[38;5;241m.\u001b[39mi)\n\u001b[1;32m    168\u001b[0m \u001b[38;5;28;01mif\u001b[39;00m (edge\u001b[38;5;241m.\u001b[39mv1, edge\u001b[38;5;241m.\u001b[39mv2) \u001b[38;5;241m==\u001b[39m e2 \u001b[38;5;129;01mor\u001b[39;00m (edge\u001b[38;5;241m.\u001b[39mv2, edge\u001b[38;5;241m.\u001b[39mv1) \u001b[38;5;241m==\u001b[39m e2:\n\u001b[0;32m--> 169\u001b[0m     face\u001b[38;5;241m.\u001b[39medges\u001b[38;5;241m.\u001b[39mappend(edge\u001b[38;5;241m.\u001b[39mi)\n\u001b[1;32m    170\u001b[0m \u001b[38;5;28;01mif\u001b[39;00m (edge\u001b[38;5;241m.\u001b[39mv1, edge\u001b[38;5;241m.\u001b[39mv2) \u001b[38;5;241m==\u001b[39m e3 \u001b[38;5;129;01mor\u001b[39;00m (edge\u001b[38;5;241m.\u001b[39mv2, edge\u001b[38;5;241m.\u001b[39mv1) \u001b[38;5;241m==\u001b[39m e3:\n\u001b[1;32m    171\u001b[0m     face\u001b[38;5;241m.\u001b[39medges\u001b[38;5;241m.\u001b[39mappend(edge\u001b[38;5;241m.\u001b[39mi)\n",
      "\u001b[0;31mKeyboardInterrupt\u001b[0m: "
     ]
    }
   ],
   "source": [
    "n = 10000\n",
    "\n",
    "dt_S, dt_M = run_polylla(n, distribution)\n",
    "original_time.append(dt_S)\n",
    "resultFile.write(str(original_time))\n",
    "resultFile.write('\\n')\n",
    "new_time.append(dt_M)\n",
    "resultFile.write(str(new_time))\n",
    "resultFile.write('\\n')"
   ]
  },
  {
   "cell_type": "markdown",
   "metadata": {},
   "source": []
  },
  {
   "cell_type": "markdown",
   "metadata": {},
   "source": [
    "## Poisson Distribution"
   ]
  },
  {
   "cell_type": "code",
   "execution_count": null,
   "metadata": {},
   "outputs": [],
   "source": [
    "distribution = 'poisson'\n",
    "resultFile.write(distribution)\n",
    "resultFile.write('\\n')\n"
   ]
  },
  {
   "cell_type": "markdown",
   "metadata": {},
   "source": [
    "### n = 500"
   ]
  },
  {
   "cell_type": "code",
   "execution_count": null,
   "metadata": {},
   "outputs": [
    {
     "name": "stdout",
     "output_type": "stream",
     "text": [
      "reading node file: data/500poisson.1.node\n",
      "reading face file: data/500poisson.1.face\n",
      "reading ele file: data/500poisson.1.ele\n",
      "reading edge file: data/500poisson.1.edge\n",
      "Reading vertex file\n",
      "Reading face file\n",
      "Processing edges\n",
      "Reading tetra file\n",
      "Processesing faces with tetrahedorns\n",
      "Tiempo Sergio`s version: 8.694112539291382 segs\n",
      "Tiempo Magda`s version: 0.11905956268310547 segs\n",
      "\n",
      " Stats polylla original\n",
      "PolyllaFace info:\n",
      "Number of polyhedrons: 774\n",
      "Number of barrier faces: 216\n",
      "Number of polyhedra with barrier faces: 157\n",
      "Number of polyhedrons that are tetrahedrons: 127\n",
      "\n",
      " Stats polylla Prueba:\n",
      "PolyllaFace info:\n",
      "Number of polyhedrons: 774\n",
      "Number of barrier faces: 216\n",
      "Number of polyhedra with barrier faces: 157\n",
      "Number of polyhedrons that are tetrahedrons: 127\n",
      "Nueva lectura es  98.63057256108615 % más rápido\n"
     ]
    }
   ],
   "source": [
    "n = 500\n",
    "\n",
    "dt_S, dt_M = run_polylla(n, distribution)\n",
    "original_time.append(dt_S)\n",
    "new_time.append(dt_M)\n",
    "resultFile.write(str(original_time))\n",
    "resultFile.write('\\n')\n",
    "new_time.append(dt_M)\n",
    "resultFile.write(str(new_time))\n",
    "resultFile.write('\\n')"
   ]
  },
  {
   "cell_type": "markdown",
   "metadata": {},
   "source": [
    "### n = 1000"
   ]
  },
  {
   "cell_type": "code",
   "execution_count": null,
   "metadata": {},
   "outputs": [
    {
     "name": "stdout",
     "output_type": "stream",
     "text": [
      "reading node file: data/1000poisson.1.node\n",
      "reading face file: data/1000poisson.1.face\n",
      "reading ele file: data/1000poisson.1.ele\n",
      "reading edge file: data/1000poisson.1.edge\n",
      "Reading vertex file\n",
      "Reading face file\n",
      "Processing edges\n",
      "Reading tetra file\n",
      "Processesing faces with tetrahedorns\n",
      "Tiempo Sergio`s version: 8.338191509246826 segs\n",
      "Tiempo Magda`s version: 0.12151288986206055 segs\n",
      "\n",
      " Stats polylla original\n",
      "PolyllaFace info:\n",
      "Number of polyhedrons: 750\n",
      "Number of barrier faces: 196\n",
      "Number of polyhedra with barrier faces: 132\n",
      "Number of polyhedrons that are tetrahedrons: 113\n",
      "\n",
      " Stats polylla Prueba:\n",
      "PolyllaFace info:\n",
      "Number of polyhedrons: 752\n",
      "Number of barrier faces: 196\n",
      "Number of polyhedra with barrier faces: 132\n",
      "Number of polyhedrons that are tetrahedrons: 115\n",
      "Nueva lectura es  98.54269490299778 % más rápido\n"
     ]
    }
   ],
   "source": [
    "n = 1000\n",
    "\n",
    "dt_S, dt_M = run_polylla(n, distribution)\n",
    "original_time.append(dt_S)\n",
    "resultFile.write(str(original_time))\n",
    "resultFile.write('\\n')\n",
    "new_time.append(dt_M)\n",
    "resultFile.write(str(new_time))\n",
    "resultFile.write('\\n')"
   ]
  },
  {
   "cell_type": "markdown",
   "metadata": {},
   "source": [
    "### n = 5000"
   ]
  },
  {
   "cell_type": "code",
   "execution_count": null,
   "metadata": {},
   "outputs": [
    {
     "name": "stdout",
     "output_type": "stream",
     "text": [
      "reading node file: data/5000poisson.1.node\n",
      "reading face file: data/5000poisson.1.face\n",
      "reading ele file: data/5000poisson.1.ele\n",
      "reading edge file: data/5000poisson.1.edge\n",
      "Reading vertex file\n",
      "Reading face file\n",
      "Processing edges\n",
      "Reading tetra file\n",
      "Processesing faces with tetrahedorns\n",
      "Tiempo Sergio`s version: 8.444241046905518 segs\n",
      "Tiempo Magda`s version: 0.12338471412658691 segs\n",
      "\n",
      " Stats polylla original\n",
      "PolyllaFace info:\n",
      "Number of polyhedrons: 782\n",
      "Number of barrier faces: 209\n",
      "Number of polyhedra with barrier faces: 150\n",
      "Number of polyhedrons that are tetrahedrons: 136\n",
      "\n",
      " Stats polylla Prueba:\n",
      "PolyllaFace info:\n",
      "Number of polyhedrons: 782\n",
      "Number of barrier faces: 209\n",
      "Number of polyhedra with barrier faces: 150\n",
      "Number of polyhedrons that are tetrahedrons: 136\n",
      "Nueva lectura es  98.53883003290387 % más rápido\n"
     ]
    }
   ],
   "source": [
    "n = 5000\n",
    "\n",
    "dt_S, dt_M = run_polylla(n, distribution)\n",
    "original_time.append(dt_S)\n",
    "resultFile.write(str(original_time))\n",
    "resultFile.write('\\n')\n",
    "new_time.append(dt_M)\n",
    "resultFile.write(str(new_time))\n",
    "resultFile.write('\\n')"
   ]
  },
  {
   "cell_type": "markdown",
   "metadata": {},
   "source": [
    "### n = 10000"
   ]
  },
  {
   "cell_type": "code",
   "execution_count": null,
   "metadata": {},
   "outputs": [
    {
     "name": "stdout",
     "output_type": "stream",
     "text": [
      "reading node file: data/10000poisson.1.node\n",
      "reading face file: data/10000poisson.1.face\n",
      "reading ele file: data/10000poisson.1.ele\n",
      "reading edge file: data/10000poisson.1.edge\n",
      "Reading vertex file\n",
      "Reading face file\n",
      "Processing edges\n",
      "Reading tetra file\n",
      "Processesing faces with tetrahedorns\n",
      "Tiempo Sergio`s version: 8.225796222686768 segs\n",
      "Tiempo Magda`s version: 0.12241172790527344 segs\n",
      "\n",
      " Stats polylla original\n",
      "PolyllaFace info:\n",
      "Number of polyhedrons: 745\n",
      "Number of barrier faces: 185\n",
      "Number of polyhedra with barrier faces: 136\n",
      "Number of polyhedrons that are tetrahedrons: 124\n",
      "\n",
      " Stats polylla Prueba:\n",
      "PolyllaFace info:\n",
      "Number of polyhedrons: 746\n",
      "Number of barrier faces: 185\n",
      "Number of polyhedra with barrier faces: 136\n",
      "Number of polyhedrons that are tetrahedrons: 125\n",
      "Nueva lectura es  98.51185557493314 % más rápido\n"
     ]
    }
   ],
   "source": [
    "n = 10000\n",
    "\n",
    "dt_S, dt_M = run_polylla(n, distribution)\n",
    "original_time.append(dt_S)\n",
    "resultFile.write(str(original_time))\n",
    "resultFile.write('\\n')\n",
    "new_time.append(dt_M)\n",
    "resultFile.write(str(new_time))\n",
    "resultFile.write('\\n')"
   ]
  },
  {
   "cell_type": "markdown",
   "metadata": {},
   "source": []
  },
  {
   "cell_type": "markdown",
   "metadata": {},
   "source": [
    "## Semiuniform Distribution"
   ]
  },
  {
   "cell_type": "code",
   "execution_count": 4,
   "metadata": {},
   "outputs": [
    {
     "data": {
      "text/plain": [
       "1"
      ]
     },
     "execution_count": 4,
     "metadata": {},
     "output_type": "execute_result"
    }
   ],
   "source": [
    "distribution = 'semiuniform'\n",
    "resultFile.write(distribution)\n",
    "resultFile.write('\\n')\n"
   ]
  },
  {
   "cell_type": "markdown",
   "metadata": {},
   "source": [
    "### n = 500"
   ]
  },
  {
   "cell_type": "code",
   "execution_count": 5,
   "metadata": {},
   "outputs": [
    {
     "name": "stdout",
     "output_type": "stream",
     "text": [
      "reading node file: data/Experiments/500semiuniform.1.node\n",
      "reading face file: data/Experiments/500semiuniform.1.face\n",
      "reading ele file: data/Experiments/500semiuniform.1.ele\n",
      "reading edge file: data/Experiments/500semiuniform.1.edge\n",
      "Reading vertex file\n",
      "Reading face file\n",
      "Processing edges\n",
      "Reading tetra file\n",
      "Processesing faces with tetrahedorns\n",
      "Tiempo Sergio`s version: 4.181861400604248 segs\n",
      "Tiempo Magda`s version: 0.09945845603942871 segs\n",
      "\n",
      " Stats polylla original\n",
      "PolyllaFace info:\n",
      "Number of polyhedrons: 591\n",
      "Number of barrier faces: 307\n",
      "Number of polyhedra with barrier faces: 157\n",
      "Number of polyhedrons that are tetrahedrons: 172\n",
      "\n",
      " Stats polylla Prueba:\n",
      "PolyllaFace info:\n",
      "Number of polyhedrons: 711\n",
      "Number of barrier faces: 198\n",
      "Number of polyhedra with barrier faces: 137\n",
      "Number of polyhedrons that are tetrahedrons: 129\n",
      "Nueva lectura es  97.62167019631359 % más rápido\n"
     ]
    },
    {
     "data": {
      "text/plain": [
       "1"
      ]
     },
     "execution_count": 5,
     "metadata": {},
     "output_type": "execute_result"
    }
   ],
   "source": [
    "n = 500\n",
    "\n",
    "dt_S, dt_M = run_polylla(n, distribution)\n",
    "original_time.append(dt_S)\n",
    "resultFile.write(str(original_time))\n",
    "resultFile.write('\\n')\n",
    "new_time.append(dt_M)\n",
    "resultFile.write(str(new_time))\n",
    "resultFile.write('\\n')"
   ]
  },
  {
   "cell_type": "markdown",
   "metadata": {},
   "source": [
    "### n = 1000"
   ]
  },
  {
   "cell_type": "code",
   "execution_count": 6,
   "metadata": {},
   "outputs": [
    {
     "name": "stdout",
     "output_type": "stream",
     "text": [
      "reading node file: data/Experiments/1000semiuniform.1.node\n",
      "reading face file: data/Experiments/1000semiuniform.1.face\n",
      "reading ele file: data/Experiments/1000semiuniform.1.ele\n",
      "reading edge file: data/Experiments/1000semiuniform.1.edge\n",
      "Reading vertex file\n",
      "Reading face file\n",
      "Processing edges\n",
      "Reading tetra file\n",
      "Processesing faces with tetrahedorns\n",
      "Tiempo Sergio`s version: 17.225762367248535 segs\n",
      "Tiempo Magda`s version: 0.17954683303833008 segs\n",
      "\n",
      " Stats polylla original\n",
      "PolyllaFace info:\n",
      "Number of polyhedrons: 1193\n",
      "Number of barrier faces: 632\n",
      "Number of polyhedra with barrier faces: 310\n",
      "Number of polyhedrons that are tetrahedrons: 377\n",
      "\n",
      " Stats polylla Prueba:\n",
      "PolyllaFace info:\n",
      "Number of polyhedrons: 1467\n",
      "Number of barrier faces: 372\n",
      "Number of polyhedra with barrier faces: 271\n",
      "Number of polyhedrons that are tetrahedrons: 270\n",
      "Nueva lectura es  98.95768425681 % más rápido\n"
     ]
    },
    {
     "data": {
      "text/plain": [
       "1"
      ]
     },
     "execution_count": 6,
     "metadata": {},
     "output_type": "execute_result"
    }
   ],
   "source": [
    "n = 1000\n",
    "\n",
    "dt_S, dt_M = run_polylla(n, distribution)\n",
    "original_time.append(dt_S)\n",
    "resultFile.write(str(original_time))\n",
    "resultFile.write('\\n')\n",
    "new_time.append(dt_M)\n",
    "resultFile.write(str(new_time))\n",
    "resultFile.write('\\n')"
   ]
  },
  {
   "cell_type": "code",
   "execution_count": 7,
   "metadata": {},
   "outputs": [
    {
     "name": "stdout",
     "output_type": "stream",
     "text": [
      "reading node file: data/Experiments/2000semiuniform.1.node\n"
     ]
    },
    {
     "ename": "FileNotFoundError",
     "evalue": "[Errno 2] No such file or directory: 'data/Experiments/2000semiuniform.1.node'",
     "output_type": "error",
     "traceback": [
      "\u001b[0;31m---------------------------------------------------------------------------\u001b[0m",
      "\u001b[0;31mFileNotFoundError\u001b[0m                         Traceback (most recent call last)",
      "Cell \u001b[0;32mIn[7], line 3\u001b[0m\n\u001b[1;32m      1\u001b[0m n \u001b[38;5;241m=\u001b[39m \u001b[38;5;241m2000\u001b[39m\n\u001b[0;32m----> 3\u001b[0m dt_S, dt_M \u001b[38;5;241m=\u001b[39m \u001b[43mrun_polylla\u001b[49m\u001b[43m(\u001b[49m\u001b[43mn\u001b[49m\u001b[43m,\u001b[49m\u001b[43m \u001b[49m\u001b[43mdistribution\u001b[49m\u001b[43m)\u001b[49m\n\u001b[1;32m      4\u001b[0m original_time\u001b[38;5;241m.\u001b[39mappend(dt_S)\n\u001b[1;32m      5\u001b[0m resultFile\u001b[38;5;241m.\u001b[39mwrite(\u001b[38;5;28mstr\u001b[39m(original_time))\n",
      "Cell \u001b[0;32mIn[2], line 9\u001b[0m, in \u001b[0;36mrun_polylla\u001b[0;34m(n, distribution)\u001b[0m\n\u001b[1;32m      6\u001b[0m edge_file \u001b[38;5;241m=\u001b[39m filename \u001b[38;5;241m+\u001b[39m \u001b[38;5;124m\"\u001b[39m\u001b[38;5;124m.edge\u001b[39m\u001b[38;5;124m\"\u001b[39m\n\u001b[1;32m      8\u001b[0m t0 \u001b[38;5;241m=\u001b[39m time\u001b[38;5;241m.\u001b[39mtime()\n\u001b[0;32m----> 9\u001b[0m mesh \u001b[38;5;241m=\u001b[39m \u001b[43mTetrahedronMesh\u001b[49m\u001b[43m(\u001b[49m\u001b[43mnode_file\u001b[49m\u001b[43m,\u001b[49m\u001b[43m \u001b[49m\u001b[43mface_file\u001b[49m\u001b[43m,\u001b[49m\u001b[43m \u001b[49m\u001b[43mele_file\u001b[49m\u001b[43m,\u001b[49m\u001b[43medge_file\u001b[49m\u001b[43m)\u001b[49m\n\u001b[1;32m     10\u001b[0m polyllaFace_mesh_original \u001b[38;5;241m=\u001b[39m PolyllaFace(mesh)\n\u001b[1;32m     11\u001b[0m tf \u001b[38;5;241m=\u001b[39m time\u001b[38;5;241m.\u001b[39mtime()\n",
      "File \u001b[0;32m~/Documentos/3D-Polylla/mesh.py:81\u001b[0m, in \u001b[0;36mTetrahedronMesh.__init__\u001b[0;34m(self, node_file, face_file, tetra_file, edge_file)\u001b[0m\n\u001b[1;32m     80\u001b[0m \u001b[38;5;28;01mdef\u001b[39;00m \u001b[38;5;21m__init__\u001b[39m(\u001b[38;5;28mself\u001b[39m, node_file, face_file, tetra_file, edge_file):\n\u001b[0;32m---> 81\u001b[0m     \u001b[38;5;28mself\u001b[39m\u001b[38;5;241m.\u001b[39mnode_list, \u001b[38;5;28mself\u001b[39m\u001b[38;5;241m.\u001b[39mface_list, \u001b[38;5;28mself\u001b[39m\u001b[38;5;241m.\u001b[39mtetra_list, \u001b[38;5;28mself\u001b[39m\u001b[38;5;241m.\u001b[39medge_list \u001b[38;5;241m=\u001b[39m \u001b[38;5;28;43mself\u001b[39;49m\u001b[38;5;241;43m.\u001b[39;49m\u001b[43mconstruct_tetrahedral_mesh\u001b[49m\u001b[43m(\u001b[49m\u001b[43mnode_file\u001b[49m\u001b[43m,\u001b[49m\u001b[43m \u001b[49m\u001b[43mface_file\u001b[49m\u001b[43m,\u001b[49m\u001b[43m \u001b[49m\u001b[43mtetra_file\u001b[49m\u001b[43m,\u001b[49m\u001b[43m \u001b[49m\u001b[43medge_file\u001b[49m\u001b[43m)\u001b[49m\n\u001b[1;32m     82\u001b[0m     \u001b[38;5;28mself\u001b[39m\u001b[38;5;241m.\u001b[39mn_tetrahedrons \u001b[38;5;241m=\u001b[39m \u001b[38;5;28mlen\u001b[39m(\u001b[38;5;28mself\u001b[39m\u001b[38;5;241m.\u001b[39mtetra_list)\n\u001b[1;32m     83\u001b[0m     \u001b[38;5;28mself\u001b[39m\u001b[38;5;241m.\u001b[39mn_faces \u001b[38;5;241m=\u001b[39m \u001b[38;5;28mlen\u001b[39m(\u001b[38;5;28mself\u001b[39m\u001b[38;5;241m.\u001b[39mface_list)\n",
      "File \u001b[0;32m~/Documentos/3D-Polylla/mesh.py:155\u001b[0m, in \u001b[0;36mTetrahedronMesh.construct_tetrahedral_mesh\u001b[0;34m(self, node_file, face_file, ele_file, edge_file)\u001b[0m\n\u001b[1;32m    154\u001b[0m \u001b[38;5;28;01mdef\u001b[39;00m \u001b[38;5;21mconstruct_tetrahedral_mesh\u001b[39m(\u001b[38;5;28mself\u001b[39m, node_file, face_file, ele_file, edge_file):\n\u001b[0;32m--> 155\u001b[0m     node_list \u001b[38;5;241m=\u001b[39m \u001b[38;5;28;43mself\u001b[39;49m\u001b[38;5;241;43m.\u001b[39;49m\u001b[43mread_node_file\u001b[49m\u001b[43m(\u001b[49m\u001b[43mnode_file\u001b[49m\u001b[43m)\u001b[49m\n\u001b[1;32m    156\u001b[0m     face_list \u001b[38;5;241m=\u001b[39m \u001b[38;5;28mself\u001b[39m\u001b[38;5;241m.\u001b[39mread_face_file(face_file)\n\u001b[1;32m    157\u001b[0m     tetra_list \u001b[38;5;241m=\u001b[39m \u001b[38;5;28mself\u001b[39m\u001b[38;5;241m.\u001b[39mread_ele_file(ele_file)\n",
      "File \u001b[0;32m~/Documentos/3D-Polylla/mesh.py:89\u001b[0m, in \u001b[0;36mTetrahedronMesh.read_node_file\u001b[0;34m(self, filename)\u001b[0m\n\u001b[1;32m     87\u001b[0m \u001b[38;5;28;01mdef\u001b[39;00m \u001b[38;5;21mread_node_file\u001b[39m(\u001b[38;5;28mself\u001b[39m, filename):\n\u001b[1;32m     88\u001b[0m     \u001b[38;5;28mprint\u001b[39m(\u001b[38;5;124m\"\u001b[39m\u001b[38;5;124mreading node file: \u001b[39m\u001b[38;5;124m\"\u001b[39m\u001b[38;5;241m+\u001b[39m filename)\n\u001b[0;32m---> 89\u001b[0m     f \u001b[38;5;241m=\u001b[39m \u001b[38;5;28;43mopen\u001b[39;49m\u001b[43m(\u001b[49m\u001b[43mfilename\u001b[49m\u001b[43m,\u001b[49m\u001b[43m \u001b[49m\u001b[38;5;124;43m\"\u001b[39;49m\u001b[38;5;124;43mr\u001b[39;49m\u001b[38;5;124;43m\"\u001b[39;49m\u001b[43m)\u001b[49m\n\u001b[1;32m     90\u001b[0m     node_list \u001b[38;5;241m=\u001b[39m []\n\u001b[1;32m     91\u001b[0m     \u001b[38;5;28mnext\u001b[39m(f)\n",
      "\u001b[0;31mFileNotFoundError\u001b[0m: [Errno 2] No such file or directory: 'data/Experiments/2000semiuniform.1.node'"
     ]
    }
   ],
   "source": [
    "n = 2000\n",
    "\n",
    "dt_S, dt_M = run_polylla(n, distribution)\n",
    "original_time.append(dt_S)\n",
    "resultFile.write(str(original_time))\n",
    "resultFile.write('\\n')\n",
    "new_time.append(dt_M)\n",
    "resultFile.write(str(new_time))\n",
    "resultFile.write('\\n')"
   ]
  },
  {
   "cell_type": "code",
   "execution_count": null,
   "metadata": {},
   "outputs": [
    {
     "name": "stdout",
     "output_type": "stream",
     "text": [
      "reading node file: data/Experiments/3000semiuniform.1.node\n",
      "reading face file: data/Experiments/3000semiuniform.1.face\n",
      "reading ele file: data/Experiments/3000semiuniform.1.ele\n",
      "reading edge file: data/Experiments/3000semiuniform.1.edge\n",
      "Reading vertex file\n",
      "Reading face file\n",
      "Processing edges\n",
      "Reading tetra file\n",
      "Processesing faces with tetrahedorns\n",
      "Tiempo Sergio`s version: 297.43589425086975 segs\n",
      "Tiempo Magda`s version: 1.0689113140106201 segs\n",
      "\n",
      " Stats polylla original\n",
      "PolyllaFace info:\n",
      "Number of polyhedrons: 4848\n",
      "Number of barrier faces: 1367\n",
      "Number of polyhedra with barrier faces: 936\n",
      "Number of polyhedrons that are tetrahedrons: 827\n",
      "\n",
      " Stats polylla Prueba:\n",
      "PolyllaFace info:\n",
      "Number of polyhedrons: 4848\n",
      "Number of barrier faces: 1367\n",
      "Number of polyhedra with barrier faces: 936\n",
      "Number of polyhedrons that are tetrahedrons: 827\n",
      "Nueva lectura es  99.64062464057918 % más rápido\n"
     ]
    },
    {
     "data": {
      "text/plain": [
       "1"
      ]
     },
     "execution_count": 50,
     "metadata": {},
     "output_type": "execute_result"
    }
   ],
   "source": [
    "n = 3000\n",
    "\n",
    "dt_S, dt_M = run_polylla(n, distribution)\n",
    "original_time.append(dt_S)\n",
    "resultFile.write(str(original_time))\n",
    "resultFile.write('\\n')\n",
    "new_time.append(dt_M)\n",
    "resultFile.write(str(new_time))\n",
    "resultFile.write('\\n')"
   ]
  },
  {
   "cell_type": "code",
   "execution_count": null,
   "metadata": {},
   "outputs": [
    {
     "name": "stdout",
     "output_type": "stream",
     "text": [
      "reading node file: data/Experiments/4000semiuniform.1.node\n",
      "reading face file: data/Experiments/4000semiuniform.1.face\n",
      "reading ele file: data/Experiments/4000semiuniform.1.ele\n",
      "reading edge file: data/Experiments/4000semiuniform.1.edge\n",
      "Reading vertex file\n",
      "Reading face file\n",
      "Processing edges\n",
      "Reading tetra file\n",
      "Processesing faces with tetrahedorns\n",
      "Tiempo Sergio`s version: 521.6254670619965 segs\n",
      "Tiempo Magda`s version: 1.4825100898742676 segs\n",
      "\n",
      " Stats polylla original\n",
      "PolyllaFace info:\n",
      "Number of polyhedrons: 6555\n",
      "Number of barrier faces: 1838\n",
      "Number of polyhedra with barrier faces: 1309\n",
      "Number of polyhedrons that are tetrahedrons: 1197\n",
      "\n",
      " Stats polylla Prueba:\n",
      "PolyllaFace info:\n",
      "Number of polyhedrons: 6556\n",
      "Number of barrier faces: 1838\n",
      "Number of polyhedra with barrier faces: 1309\n",
      "Number of polyhedrons that are tetrahedrons: 1198\n",
      "Nueva lectura es  99.71579031633092 % más rápido\n"
     ]
    },
    {
     "data": {
      "text/plain": [
       "1"
      ]
     },
     "execution_count": 51,
     "metadata": {},
     "output_type": "execute_result"
    }
   ],
   "source": [
    "n = 4000\n",
    "\n",
    "dt_S, dt_M = run_polylla(n, distribution)\n",
    "original_time.append(dt_S)\n",
    "resultFile.write(str(original_time))\n",
    "resultFile.write('\\n')\n",
    "new_time.append(dt_M)\n",
    "resultFile.write(str(new_time))\n",
    "resultFile.write('\\n')"
   ]
  },
  {
   "cell_type": "markdown",
   "metadata": {},
   "source": [
    "### n = 5000"
   ]
  },
  {
   "cell_type": "code",
   "execution_count": 8,
   "metadata": {},
   "outputs": [
    {
     "name": "stdout",
     "output_type": "stream",
     "text": [
      "reading node file: data/Experiments/5000semiuniform.1.node\n",
      "reading face file: data/Experiments/5000semiuniform.1.face\n",
      "reading ele file: data/Experiments/5000semiuniform.1.ele\n",
      "reading edge file: data/Experiments/5000semiuniform.1.edge\n",
      "Reading vertex file\n",
      "Reading face file\n",
      "Processing edges\n",
      "Reading tetra file\n",
      "Processesing faces with tetrahedorns\n",
      "Tiempo Sergio`s version: 545.7030503749847 segs\n",
      "Tiempo Magda`s version: 1.4349875450134277 segs\n",
      "\n",
      " Stats polylla original\n",
      "PolyllaFace info:\n",
      "Number of polyhedrons: 6739\n",
      "Number of barrier faces: 3695\n",
      "Number of polyhedra with barrier faces: 1853\n",
      "Number of polyhedrons that are tetrahedrons: 2070\n",
      "\n",
      " Stats polylla Prueba:\n",
      "PolyllaFace info:\n",
      "Number of polyhedrons: 8234\n",
      "Number of barrier faces: 2177\n",
      "Number of polyhedra with barrier faces: 1591\n",
      "Number of polyhedrons that are tetrahedrons: 1426\n",
      "Nueva lectura es  99.73703875321434 % más rápido\n"
     ]
    }
   ],
   "source": [
    "n = 5000\n",
    "\n",
    "dt_S, dt_M = run_polylla(n, distribution)\n",
    "original_time.append(dt_S)\n",
    "# resultFile.write(str(original_time))\n",
    "# resultFile.write('\\n')\n",
    "new_time.append(dt_M)\n",
    "# resultFile.write(str(new_time))\n",
    "# resultFile.write('\\n')"
   ]
  },
  {
   "cell_type": "markdown",
   "metadata": {},
   "source": [
    "### n = 10000"
   ]
  },
  {
   "cell_type": "code",
   "execution_count": 9,
   "metadata": {},
   "outputs": [
    {
     "name": "stdout",
     "output_type": "stream",
     "text": [
      "reading node file: data/Experiments/10000semiuniform.1.node\n",
      "reading face file: data/Experiments/10000semiuniform.1.face\n",
      "reading ele file: data/Experiments/10000semiuniform.1.ele\n",
      "reading edge file: data/Experiments/10000semiuniform.1.edge\n",
      "Reading vertex file\n",
      "Reading face file\n",
      "Processing edges\n",
      "Reading tetra file\n",
      "Processesing faces with tetrahedorns\n",
      "Tiempo Sergio`s version: 2359.2110402584076 segs\n",
      "Tiempo Magda`s version: 3.0598573684692383 segs\n",
      "\n",
      " Stats polylla original\n",
      "PolyllaFace info:\n",
      "Number of polyhedrons: 14079\n",
      "Number of barrier faces: 7850\n",
      "Number of polyhedra with barrier faces: 3837\n",
      "Number of polyhedrons that are tetrahedrons: 4385\n",
      "\n",
      " Stats polylla Prueba:\n",
      "PolyllaFace info:\n",
      "Number of polyhedrons: 17216\n",
      "Number of barrier faces: 4671\n",
      "Number of polyhedra with barrier faces: 3426\n",
      "Number of polyhedrons that are tetrahedrons: 2957\n",
      "Nueva lectura es  99.8703016679621 % más rápido\n"
     ]
    },
    {
     "data": {
      "text/plain": [
       "1"
      ]
     },
     "execution_count": 9,
     "metadata": {},
     "output_type": "execute_result"
    }
   ],
   "source": [
    "n = 10000\n",
    "\n",
    "dt_S, dt_M = run_polylla(n, distribution)\n",
    "original_time.append(dt_S)\n",
    "resultFile.write(str(original_time))\n",
    "resultFile.write('\\n')\n",
    "new_time.append(dt_M)\n",
    "resultFile.write(str(new_time))\n",
    "resultFile.write('\\n')"
   ]
  },
  {
   "cell_type": "code",
   "execution_count": 10,
   "metadata": {},
   "outputs": [
    {
     "name": "stdout",
     "output_type": "stream",
     "text": [
      "reading node file: data/Experiments/15000semiuniform.1.node\n",
      "reading face file: data/Experiments/15000semiuniform.1.face\n",
      "reading ele file: data/Experiments/15000semiuniform.1.ele\n",
      "reading edge file: data/Experiments/15000semiuniform.1.edge\n"
     ]
    },
    {
     "name": "stdout",
     "output_type": "stream",
     "text": [
      "Reading vertex file\n",
      "Reading face file\n",
      "Processing edges\n",
      "Reading tetra file\n",
      "Processesing faces with tetrahedorns\n",
      "Tiempo Sergio`s version: 5226.278362035751 segs\n",
      "Tiempo Magda`s version: 3.8051469326019287 segs\n",
      "\n",
      " Stats polylla original\n",
      "PolyllaFace info:\n",
      "Number of polyhedrons: 21185\n",
      "Number of barrier faces: 11864\n",
      "Number of polyhedra with barrier faces: 5717\n",
      "Number of polyhedrons that are tetrahedrons: 6577\n",
      "\n",
      " Stats polylla Prueba:\n",
      "PolyllaFace info:\n",
      "Number of polyhedrons: 25940\n",
      "Number of barrier faces: 7120\n",
      "Number of polyhedra with barrier faces: 5096\n",
      "Number of polyhedrons that are tetrahedrons: 4469\n",
      "Nueva lectura es  99.927192034771 % más rápido\n"
     ]
    },
    {
     "data": {
      "text/plain": [
       "1"
      ]
     },
     "execution_count": 10,
     "metadata": {},
     "output_type": "execute_result"
    }
   ],
   "source": [
    "n = 15000\n",
    "\n",
    "dt_S, dt_M = run_polylla(n, distribution)\n",
    "original_time.append(dt_S)\n",
    "resultFile.write(str(original_time))\n",
    "resultFile.write('\\n')\n",
    "new_time.append(dt_M)\n",
    "resultFile.write(str(new_time))\n",
    "resultFile.write('\\n')"
   ]
  },
  {
   "cell_type": "code",
   "execution_count": 11,
   "metadata": {},
   "outputs": [
    {
     "name": "stdout",
     "output_type": "stream",
     "text": [
      "reading node file: data/Experiments/20000semiuniform.1.node\n",
      "reading face file: data/Experiments/20000semiuniform.1.face\n",
      "reading ele file: data/Experiments/20000semiuniform.1.ele\n",
      "reading edge file: data/Experiments/20000semiuniform.1.edge\n",
      "Reading vertex file\n",
      "Reading face file\n",
      "Processing edges\n",
      "Reading tetra file\n",
      "Processesing faces with tetrahedorns\n",
      "Tiempo Sergio`s version: 8731.329469919205 segs\n",
      "Tiempo Magda`s version: 5.001235246658325 segs\n",
      "\n",
      " Stats polylla original\n",
      "PolyllaFace info:\n",
      "Number of polyhedrons: 28478\n",
      "Number of barrier faces: 15688\n",
      "Number of polyhedra with barrier faces: 7665\n",
      "Number of polyhedrons that are tetrahedrons: 8632\n",
      "\n",
      " Stats polylla Prueba:\n",
      "PolyllaFace info:\n",
      "Number of polyhedrons: 34797\n",
      "Number of barrier faces: 9411\n",
      "Number of polyhedra with barrier faces: 6946\n",
      "Number of polyhedrons that are tetrahedrons: 5876\n",
      "Nueva lectura es  99.9427208048455 % más rápido\n"
     ]
    },
    {
     "data": {
      "text/plain": [
       "1"
      ]
     },
     "execution_count": 11,
     "metadata": {},
     "output_type": "execute_result"
    }
   ],
   "source": [
    "n = 20000\n",
    "\n",
    "dt_S, dt_M = run_polylla(n, distribution)\n",
    "original_time.append(dt_S)\n",
    "resultFile.write(str(original_time))\n",
    "resultFile.write('\\n')\n",
    "new_time.append(dt_M)\n",
    "resultFile.write(str(new_time))\n",
    "resultFile.write('\\n')"
   ]
  },
  {
   "cell_type": "code",
   "execution_count": 12,
   "metadata": {},
   "outputs": [
    {
     "name": "stdout",
     "output_type": "stream",
     "text": [
      "reading node file: data/Experiments/30000semiuniform.1.node\n",
      "reading face file: data/Experiments/30000semiuniform.1.face\n",
      "reading ele file: data/Experiments/30000semiuniform.1.ele\n",
      "reading edge file: data/Experiments/30000semiuniform.1.edge\n",
      "Reading vertex file\n",
      "Reading face file\n",
      "Processing edges\n",
      "Reading tetra file\n",
      "Processesing faces with tetrahedorns\n",
      "Tiempo Sergio`s version: 19758.22138762474 segs\n",
      "Tiempo Magda`s version: 8.142301082611084 segs\n",
      "\n",
      " Stats polylla original\n",
      "PolyllaFace info:\n",
      "Number of polyhedrons: 43195\n",
      "Number of barrier faces: 23952\n",
      "Number of polyhedra with barrier faces: 11593\n",
      "Number of polyhedrons that are tetrahedrons: 13197\n",
      "\n",
      " Stats polylla Prueba:\n",
      "PolyllaFace info:\n",
      "Number of polyhedrons: 52844\n",
      "Number of barrier faces: 14605\n",
      "Number of polyhedra with barrier faces: 10637\n",
      "Number of polyhedrons that are tetrahedrons: 8818\n",
      "Nueva lectura es  99.95879031354659 % más rápido\n"
     ]
    },
    {
     "data": {
      "text/plain": [
       "1"
      ]
     },
     "execution_count": 12,
     "metadata": {},
     "output_type": "execute_result"
    }
   ],
   "source": [
    "n = 30000\n",
    "\n",
    "dt_S, dt_M = run_polylla(n, distribution)\n",
    "original_time.append(dt_S)\n",
    "resultFile.write(str(original_time))\n",
    "resultFile.write('\\n')\n",
    "new_time.append(dt_M)\n",
    "resultFile.write(str(new_time))\n",
    "resultFile.write('\\n')"
   ]
  },
  {
   "cell_type": "code",
   "execution_count": 13,
   "metadata": {},
   "outputs": [
    {
     "name": "stdout",
     "output_type": "stream",
     "text": [
      "reading node file: data/Experiments/40000semiuniform.1.node\n",
      "reading face file: data/Experiments/40000semiuniform.1.face\n",
      "reading ele file: data/Experiments/40000semiuniform.1.ele\n",
      "reading edge file: data/Experiments/40000semiuniform.1.edge\n",
      "Reading vertex file\n",
      "Reading face file\n",
      "Processing edges\n",
      "Reading tetra file\n",
      "Processesing faces with tetrahedorns\n",
      "Tiempo Sergio`s version: 36707.54804563522 segs\n",
      "Tiempo Magda`s version: 10.056365966796875 segs\n",
      "\n",
      " Stats polylla original\n",
      "PolyllaFace info:\n",
      "Number of polyhedrons: 58145\n",
      "Number of barrier faces: 32323\n",
      "Number of polyhedra with barrier faces: 15628\n",
      "Number of polyhedrons that are tetrahedrons: 17691\n",
      "\n",
      " Stats polylla Prueba:\n",
      "PolyllaFace info:\n",
      "Number of polyhedrons: 71150\n",
      "Number of barrier faces: 19648\n",
      "Number of polyhedra with barrier faces: 14331\n",
      "Number of polyhedrons that are tetrahedrons: 11936\n",
      "Nueva lectura es  99.97260409234009 % más rápido\n"
     ]
    },
    {
     "data": {
      "text/plain": [
       "1"
      ]
     },
     "execution_count": 13,
     "metadata": {},
     "output_type": "execute_result"
    }
   ],
   "source": [
    "n = 40000\n",
    "\n",
    "dt_S, dt_M = run_polylla(n, distribution)\n",
    "original_time.append(dt_S)\n",
    "resultFile.write(str(original_time))\n",
    "resultFile.write('\\n')\n",
    "new_time.append(dt_M)\n",
    "resultFile.write(str(new_time))\n",
    "resultFile.write('\\n')"
   ]
  },
  {
   "cell_type": "code",
   "execution_count": 14,
   "metadata": {},
   "outputs": [
    {
     "name": "stdout",
     "output_type": "stream",
     "text": [
      "reading node file: data/Experiments/50000semiuniform.1.node\n",
      "reading face file: data/Experiments/50000semiuniform.1.face\n",
      "reading ele file: data/Experiments/50000semiuniform.1.ele\n",
      "reading edge file: data/Experiments/50000semiuniform.1.edge\n"
     ]
    },
    {
     "ename": "KeyboardInterrupt",
     "evalue": "",
     "output_type": "error",
     "traceback": [
      "\u001b[0;31m---------------------------------------------------------------------------\u001b[0m",
      "\u001b[0;31mKeyboardInterrupt\u001b[0m                         Traceback (most recent call last)",
      "Cell \u001b[0;32mIn[14], line 3\u001b[0m\n\u001b[1;32m      1\u001b[0m n \u001b[38;5;241m=\u001b[39m \u001b[38;5;241m50000\u001b[39m\n\u001b[0;32m----> 3\u001b[0m dt_S, dt_M \u001b[38;5;241m=\u001b[39m \u001b[43mrun_polylla\u001b[49m\u001b[43m(\u001b[49m\u001b[43mn\u001b[49m\u001b[43m,\u001b[49m\u001b[43m \u001b[49m\u001b[43mdistribution\u001b[49m\u001b[43m)\u001b[49m\n\u001b[1;32m      4\u001b[0m original_time\u001b[38;5;241m.\u001b[39mappend(dt_S)\n\u001b[1;32m      5\u001b[0m resultFile\u001b[38;5;241m.\u001b[39mwrite(\u001b[38;5;28mstr\u001b[39m(original_time))\n",
      "Cell \u001b[0;32mIn[2], line 9\u001b[0m, in \u001b[0;36mrun_polylla\u001b[0;34m(n, distribution)\u001b[0m\n\u001b[1;32m      6\u001b[0m edge_file \u001b[38;5;241m=\u001b[39m filename \u001b[38;5;241m+\u001b[39m \u001b[38;5;124m\"\u001b[39m\u001b[38;5;124m.edge\u001b[39m\u001b[38;5;124m\"\u001b[39m\n\u001b[1;32m      8\u001b[0m t0 \u001b[38;5;241m=\u001b[39m time\u001b[38;5;241m.\u001b[39mtime()\n\u001b[0;32m----> 9\u001b[0m mesh \u001b[38;5;241m=\u001b[39m \u001b[43mTetrahedronMesh\u001b[49m\u001b[43m(\u001b[49m\u001b[43mnode_file\u001b[49m\u001b[43m,\u001b[49m\u001b[43m \u001b[49m\u001b[43mface_file\u001b[49m\u001b[43m,\u001b[49m\u001b[43m \u001b[49m\u001b[43mele_file\u001b[49m\u001b[43m,\u001b[49m\u001b[43medge_file\u001b[49m\u001b[43m)\u001b[49m\n\u001b[1;32m     10\u001b[0m polyllaFace_mesh_original \u001b[38;5;241m=\u001b[39m PolyllaFace(mesh)\n\u001b[1;32m     11\u001b[0m tf \u001b[38;5;241m=\u001b[39m time\u001b[38;5;241m.\u001b[39mtime()\n",
      "File \u001b[0;32m~/Documentos/3D-Polylla/mesh.py:81\u001b[0m, in \u001b[0;36mTetrahedronMesh.__init__\u001b[0;34m(self, node_file, face_file, tetra_file, edge_file)\u001b[0m\n\u001b[1;32m     80\u001b[0m \u001b[38;5;28;01mdef\u001b[39;00m \u001b[38;5;21m__init__\u001b[39m(\u001b[38;5;28mself\u001b[39m, node_file, face_file, tetra_file, edge_file):\n\u001b[0;32m---> 81\u001b[0m     \u001b[38;5;28mself\u001b[39m\u001b[38;5;241m.\u001b[39mnode_list, \u001b[38;5;28mself\u001b[39m\u001b[38;5;241m.\u001b[39mface_list, \u001b[38;5;28mself\u001b[39m\u001b[38;5;241m.\u001b[39mtetra_list, \u001b[38;5;28mself\u001b[39m\u001b[38;5;241m.\u001b[39medge_list \u001b[38;5;241m=\u001b[39m \u001b[38;5;28;43mself\u001b[39;49m\u001b[38;5;241;43m.\u001b[39;49m\u001b[43mconstruct_tetrahedral_mesh\u001b[49m\u001b[43m(\u001b[49m\u001b[43mnode_file\u001b[49m\u001b[43m,\u001b[49m\u001b[43m \u001b[49m\u001b[43mface_file\u001b[49m\u001b[43m,\u001b[49m\u001b[43m \u001b[49m\u001b[43mtetra_file\u001b[49m\u001b[43m,\u001b[49m\u001b[43m \u001b[49m\u001b[43medge_file\u001b[49m\u001b[43m)\u001b[49m\n\u001b[1;32m     82\u001b[0m     \u001b[38;5;28mself\u001b[39m\u001b[38;5;241m.\u001b[39mn_tetrahedrons \u001b[38;5;241m=\u001b[39m \u001b[38;5;28mlen\u001b[39m(\u001b[38;5;28mself\u001b[39m\u001b[38;5;241m.\u001b[39mtetra_list)\n\u001b[1;32m     83\u001b[0m     \u001b[38;5;28mself\u001b[39m\u001b[38;5;241m.\u001b[39mn_faces \u001b[38;5;241m=\u001b[39m \u001b[38;5;28mlen\u001b[39m(\u001b[38;5;28mself\u001b[39m\u001b[38;5;241m.\u001b[39mface_list)\n",
      "File \u001b[0;32m~/Documentos/3D-Polylla/mesh.py:167\u001b[0m, in \u001b[0;36mTetrahedronMesh.construct_tetrahedral_mesh\u001b[0;34m(self, node_file, face_file, ele_file, edge_file)\u001b[0m\n\u001b[1;32m    165\u001b[0m e3 \u001b[38;5;241m=\u001b[39m (face\u001b[38;5;241m.\u001b[39mv3, face\u001b[38;5;241m.\u001b[39mv1)\n\u001b[1;32m    166\u001b[0m \u001b[38;5;28;01mfor\u001b[39;00m edge \u001b[38;5;129;01min\u001b[39;00m edge_list:\n\u001b[0;32m--> 167\u001b[0m     \u001b[38;5;28;01mif\u001b[39;00m (edge\u001b[38;5;241m.\u001b[39mv1, edge\u001b[38;5;241m.\u001b[39mv2) \u001b[38;5;241m==\u001b[39m e1 \u001b[38;5;129;01mor\u001b[39;00m (edge\u001b[38;5;241m.\u001b[39mv2, edge\u001b[38;5;241m.\u001b[39mv1) \u001b[38;5;241m==\u001b[39m e1:\n\u001b[1;32m    168\u001b[0m         face\u001b[38;5;241m.\u001b[39medges\u001b[38;5;241m.\u001b[39mappend(edge\u001b[38;5;241m.\u001b[39mi)\n\u001b[1;32m    169\u001b[0m     \u001b[38;5;28;01mif\u001b[39;00m (edge\u001b[38;5;241m.\u001b[39mv1, edge\u001b[38;5;241m.\u001b[39mv2) \u001b[38;5;241m==\u001b[39m e2 \u001b[38;5;129;01mor\u001b[39;00m (edge\u001b[38;5;241m.\u001b[39mv2, edge\u001b[38;5;241m.\u001b[39mv1) \u001b[38;5;241m==\u001b[39m e2:\n",
      "\u001b[0;31mKeyboardInterrupt\u001b[0m: "
     ]
    }
   ],
   "source": [
    "n = 50000\n",
    "\n",
    "dt_S, dt_M = run_polylla(n, distribution)\n",
    "original_time.append(dt_S)\n",
    "resultFile.write(str(original_time))\n",
    "resultFile.write('\\n')\n",
    "new_time.append(dt_M)\n",
    "resultFile.write(str(new_time))\n",
    "resultFile.write('\\n')"
   ]
  },
  {
   "cell_type": "markdown",
   "metadata": {},
   "source": [
    "# Uniform Distribution"
   ]
  },
  {
   "cell_type": "code",
   "execution_count": null,
   "metadata": {},
   "outputs": [],
   "source": [
    "distribution = 'uniform'\n",
    "resultFile.write(distribution)\n",
    "resultFile.write('\\n')"
   ]
  },
  {
   "cell_type": "code",
   "execution_count": null,
   "metadata": {},
   "outputs": [],
   "source": [
    "n = 500\n",
    "\n",
    "dt_S, dt_M = run_polylla(n, distribution)\n",
    "original_time.append(dt_S)\n",
    "resultFile.write(str(original_time))\n",
    "resultFile.write('\\n')\n",
    "new_time.append(dt_M)\n",
    "resultFile.write(str(new_time))\n",
    "resultFile.write('\\n')"
   ]
  },
  {
   "cell_type": "code",
   "execution_count": null,
   "metadata": {},
   "outputs": [],
   "source": [
    "n = 1000\n",
    "\n",
    "dt_S, dt_M = run_polylla(n, distribution)\n",
    "original_time.append(dt_S)\n",
    "resultFile.write(str(original_time))\n",
    "resultFile.write('\\n')\n",
    "new_time.append(dt_M)\n",
    "resultFile.write(str(new_time))\n",
    "resultFile.write('\\n')"
   ]
  },
  {
   "cell_type": "code",
   "execution_count": null,
   "metadata": {},
   "outputs": [],
   "source": [
    "n = 5000\n",
    "\n",
    "dt_S, dt_M = run_polylla(n, distribution)\n",
    "original_time.append(dt_S)\n",
    "resultFile.write(str(original_time))\n",
    "resultFile.write('\\n')\n",
    "new_time.append(dt_M)\n",
    "resultFile.write(str(new_time))\n",
    "resultFile.write('\\n')"
   ]
  },
  {
   "cell_type": "code",
   "execution_count": null,
   "metadata": {},
   "outputs": [],
   "source": [
    "n = 10000\n",
    "\n",
    "dt_S, dt_M = run_polylla(n, distribution)\n",
    "original_time.append(dt_S)\n",
    "resultFile.write(str(original_time))\n",
    "resultFile.write('\\n')\n",
    "new_time.append(dt_M)\n",
    "resultFile.write(str(new_time))\n",
    "resultFile.write('\\n')"
   ]
  },
  {
   "cell_type": "code",
   "execution_count": 15,
   "metadata": {},
   "outputs": [],
   "source": [
    "resultFile.close()"
   ]
  },
  {
   "cell_type": "code",
   "execution_count": 17,
   "metadata": {},
   "outputs": [
    {
     "name": "stdout",
     "output_type": "stream",
     "text": [
      "Nuevo método es: 99.95667480593198 % más rápido.\n"
     ]
    }
   ],
   "source": [
    "\n",
    "promedio_org = statistics.mean(original_time)\n",
    "promedio_new = statistics.mean(new_time)\n",
    "print('Nuevo método es:', (100-(promedio_new*100/promedio_org)),'% más rápido.')"
   ]
  },
  {
   "cell_type": "code",
   "execution_count": 27,
   "metadata": {},
   "outputs": [
    {
     "data": {
      "image/png": "[encoded data removed]",
      "text/plain": [
       "<Figure size 640x480 with 1 Axes>"
      ]
     },
     "metadata": {},
     "output_type": "display_data"
    }
   ],
   "source": [
    "import numpy as np\n",
    "import matplotlib.pyplot as plt\n",
    "\n",
    "n_points = [500, 1000,5000, 10000,15000,20000,30000,40000]\n",
    "\n",
    "org_time = [4.181861400604248, 17.225762367248535, 545.7030503749847, 2359.2110402584076, 5226.278362035751, 8731.329469919205, 19758.22138762474, 36707.54804563522]\n",
    "opt_time = [0.09945845603942871, 0.17954683303833008, 1.4349875450134277, 3.0598573684692383, 3.8051469326019287, 5.001235246658325, 8.142301082611084, 10.056365966796875]\n",
    "\n",
    "\n",
    "# red dashes, blue squares and green triangles\n",
    "plt.plot(n_points, org_time, 'r-', n_points, opt_time, 'b-')\n",
    "plt.yscale(\"log\")\n",
    "# plt.xscale(\"log\")\n",
    "plt.legend(['Original Reading Algorithm', 'Optimized Reading Algorithm'])\n",
    "plt.ylabel('Time(s)')\n",
    "plt.xlabel('Number of points')\n",
    "plt.show()"
   ]
  },
  {
   "cell_type": "code",
   "execution_count": 21,
   "metadata": {},
   "outputs": [
    {
     "data": {
      "image/png": "[encoded data removed]",
      "text/plain": [
       "<Figure size 640x480 with 1 Axes>"
      ]
     },
     "metadata": {},
     "output_type": "display_data"
    }
   ],
   "source": [
    "import numpy as np\n",
    "import matplotlib.pyplot as plt\n",
    "\n",
    "n_points = [500, 1000,5000, 10000,15000,20000,30000,40000]\n",
    "\n",
    "# org_time = [4.181861400604248, 17.225762367248535, 545.7030503749847, 2359.2110402584076, 5226.278362035751, 8731.329469919205, 19758.22138762474, 36707.54804563522]\n",
    "opt_time = [0.09945845603942871, 0.17954683303833008, 1.4349875450134277, 3.0598573684692383, 3.8051469326019287, 5.001235246658325, 8.142301082611084, 10.056365966796875]\n",
    "\n",
    "\n",
    "# red dashes, blue squares and green triangles\n",
    "plt.plot(n_points, opt_time, 'b-')\n",
    "# plt.yscale(\"log\")\n",
    "# plt.xscale(\"log\")\n",
    "plt.legend(['Optimized Reading Algorithm'])\n",
    "plt.ylabel('Time(s)')\n",
    "plt.xlabel('Number of points')\n",
    "plt.show()"
   ]
  },
  {
   "cell_type": "code",
   "execution_count": 25,
   "metadata": {},
   "outputs": [
    {
     "data": {
      "image/png": "[encoded data removed]",
      "text/plain": [
       "<Figure size 640x480 with 1 Axes>"
      ]
     },
     "metadata": {},
     "output_type": "display_data"
    }
   ],
   "source": [
    "import numpy as np\n",
    "import matplotlib.pyplot as plt\n",
    "\n",
    "n_points = [500, 1000,5000, 10000,15000,20000,30000,40000]\n",
    "\n",
    "org_time = [4.181861400604248, 17.225762367248535, 545.7030503749847, 2359.2110402584076, 5226.278362035751, 8731.329469919205, 19758.22138762474, 36707.54804563522]\n",
    "# opt_time = [0.09945845603942871, 0.17954683303833008, 1.4349875450134277, 3.0598573684692383, 3.8051469326019287, 5.001235246658325, 8.142301082611084, 10.056365966796875]\n",
    "\n",
    "\n",
    "# red dashes, blue squares and green triangles\n",
    "plt.plot(n_points, org_time, 'r-')\n",
    "# plt.yscale(\"log\")\n",
    "# plt.xscale(\"log\")\n",
    "plt.legend(['Original Reading Algorithm'])\n",
    "plt.ylabel('Time(s)')\n",
    "plt.xlabel('Number of points')\n",
    "plt.show()"
   ]
  },
  {
   "cell_type": "code",
   "execution_count": 56,
   "metadata": {},
   "outputs": [
    {
     "data": {
      "image/png": "[encoded data removed]",
      "text/plain": [
       "<Figure size 640x480 with 1 Axes>"
      ]
     },
     "metadata": {},
     "output_type": "display_data"
    }
   ],
   "source": [
    "import numpy as np\n",
    "import matplotlib.pyplot as plt\n",
    "\n",
    "n_points = [500, 1000,2000,3000,4000,5000, 10000,15000]\n",
    "\n",
    "org_time = [6.710465669631958, 26.998169898986816,125.33206701278687, 297.43589425086975, 521.6254670619965, 889.6786460876465, 3484.7643342018127,7890.98238492012]\n",
    "opt_time = [0.07755565643310547, 0.1587069034576416,0.3575019836425781, 1.0689113140106201, 1.4825100898742676, 1.5433461666107178, 2.970845937728882,4.598008632659912]\n",
    "\n",
    "\n",
    "# red dashes, blue squares and green triangles\n",
    "plt.plot(n_points, org_time, 'r-', n_points, opt_time, 'b-')\n",
    "plt.legend(['Original Reading Algorithm', 'Optimized Reading Algorithm'])\n",
    "plt.ylabel('Time(s)')\n",
    "plt.xlabel('Number of points')\n",
    "plt.show()\n"
   ]
  },
  {
   "cell_type": "code",
   "execution_count": 57,
   "metadata": {},
   "outputs": [
    {
     "data": {
      "image/png": "[encoded data removed]",
      "text/plain": [
       "<Figure size 640x480 with 1 Axes>"
      ]
     },
     "metadata": {},
     "output_type": "display_data"
    }
   ],
   "source": [
    "plt.plot(n_points, opt_time, 'b-')\n",
    "plt.legend(['Optimized Reading Algorithm'])\n",
    "plt.ylabel('Time(s)')\n",
    "plt.xlabel('Number of points')\n",
    "plt.show()"
   ]
  }
 ],
 "metadata": {
  "kernelspec": {
   "display_name": "Python 3",
   "language": "python",
   "name": "python3"
  },
  "language_info": {
   "codemirror_mode": {
    "name": "ipython",
    "version": 3
   },
   "file_extension": ".py",
   "mimetype": "text/x-python",
   "name": "python",
   "nbconvert_exporter": "python",
   "pygments_lexer": "ipython3",
   "version": "3.10.12"
  }
 },
 "nbformat": 4,
 "nbformat_minor": 2
}
