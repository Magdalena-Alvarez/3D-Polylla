{
 "cells": [
  {
   "cell_type": "markdown",
   "metadata": {},
   "source": [
    "# Compare Sergio's and Magda's files reading"
   ]
  },
  {
   "cell_type": "code",
   "execution_count": 17,
   "metadata": {},
   "outputs": [],
   "source": [
    "import sys\n",
    "sys.path.append(\"..\")\n",
    "from newMesh import FaceTetrahedronMesh\n",
    "from mesh import TetrahedronMesh\n",
    "from PolyllaFace import PolyllaFace\n",
    "import time\n",
    "import statistics\n",
    "\n",
    "original_time = []\n",
    "new_time = []\n",
    "n_experiments = 5"
   ]
  },
  {
   "cell_type": "code",
   "execution_count": 18,
   "metadata": {},
   "outputs": [],
   "source": [
    "def run_polylla(n, distribution):\n",
    "    filename = \"data/Experiments/\"+ str(n) + distribution +\".1\"\n",
    "    node_file = filename + \".node\"\n",
    "    ele_file = filename + \".ele\"\n",
    "    face_file = filename + \".face\"\n",
    "    edge_file = filename + \".edge\"\n",
    "\n",
    "    t0 = time.time()\n",
    "    mesh = TetrahedronMesh(node_file, face_file, ele_file,edge_file)\n",
    "    polyllaFace_mesh_original = PolyllaFace(mesh)\n",
    "    tf = time.time()\n",
    "\n",
    "    dtS = tf - t0 \n",
    "\n",
    "    t0 = time.time()\n",
    "    mesh_f = FaceTetrahedronMesh(node_file, face_file, ele_file)\n",
    "    polyllaFace_mesh_prueba = PolyllaFace(mesh_f)\n",
    "    tf = time.time()\n",
    "\n",
    "    dtM = tf - t0 \n",
    "\n",
    "    print('Tiempo Sergio`s version:',dtS,'segs')\n",
    "    print('Tiempo Magda`s version:',dtM,'segs')\n",
    "\n",
    "    print('\\n Stats polylla original')\n",
    "\n",
    "    polyllaFace_mesh_original.get_info()\n",
    "    print('\\n Stats polylla Prueba:')\n",
    "    polyllaFace_mesh_prueba.get_info()\n",
    "\n",
    "    if dtM < dtS:\n",
    "        print('Nueva lectura es ', (100 - ((dtM)*100/dtS)), '% más rápido')\n",
    "    \n",
    "    return (dtS, dtM)\n"
   ]
  },
  {
   "cell_type": "code",
   "execution_count": 48,
   "metadata": {},
   "outputs": [],
   "source": [
    "resultFile = open(\"timeExperiments.txt\",'w')"
   ]
  },
  {
   "cell_type": "markdown",
   "metadata": {},
   "source": [
    "## Random Distribution"
   ]
  },
  {
   "cell_type": "code",
   "execution_count": 20,
   "metadata": {},
   "outputs": [
    {
     "data": {
      "text/plain": [
       "1"
      ]
     },
     "execution_count": 20,
     "metadata": {},
     "output_type": "execute_result"
    }
   ],
   "source": [
    "distribution = 'random'\n",
    "resultFile.write(distribution)\n",
    "resultFile.write('\\n')"
   ]
  },
  {
   "cell_type": "markdown",
   "metadata": {},
   "source": [
    "### n = 500"
   ]
  },
  {
   "cell_type": "code",
   "execution_count": 21,
   "metadata": {},
   "outputs": [
    {
     "name": "stdout",
     "output_type": "stream",
     "text": [
      "reading node file: data/Experiments/500random.1.node\n",
      "reading face file: data/Experiments/500random.1.face\n",
      "reading ele file: data/Experiments/500random.1.ele\n",
      "reading edge file: data/Experiments/500random.1.edge\n",
      "Reading vertex file\n",
      "Reading face file\n",
      "Processing edges\n",
      "Reading tetra file\n",
      "Processesing faces with tetrahedorns\n",
      "Tiempo Sergio`s version: 7.524468660354614 segs\n",
      "Tiempo Magda`s version: 0.13941216468811035 segs\n",
      "\n",
      " Stats polylla original\n",
      "PolyllaFace info:\n",
      "Number of polyhedrons: 720\n",
      "Number of barrier faces: 210\n",
      "Number of polyhedra with barrier faces: 142\n",
      "Number of polyhedrons that are tetrahedrons: 131\n",
      "\n",
      " Stats polylla Prueba:\n",
      "PolyllaFace info:\n",
      "Number of polyhedrons: 721\n",
      "Number of barrier faces: 210\n",
      "Number of polyhedra with barrier faces: 142\n",
      "Number of polyhedrons that are tetrahedrons: 132\n",
      "Nueva lectura es  98.14721582372117 % más rápido\n"
     ]
    },
    {
     "data": {
      "text/plain": [
       "1"
      ]
     },
     "execution_count": 21,
     "metadata": {},
     "output_type": "execute_result"
    }
   ],
   "source": [
    "n = 500\n",
    "\n",
    "dt_S, dt_M = run_polylla(n, distribution)\n",
    "original_time.append(dt_S)\n",
    "resultFile.write(str(original_time))\n",
    "resultFile.write('\\n')\n",
    "new_time.append(dt_M)\n",
    "resultFile.write(str(new_time))\n",
    "resultFile.write('\\n')"
   ]
  },
  {
   "cell_type": "markdown",
   "metadata": {},
   "source": [
    "### n = 1000"
   ]
  },
  {
   "cell_type": "code",
   "execution_count": 22,
   "metadata": {},
   "outputs": [
    {
     "name": "stdout",
     "output_type": "stream",
     "text": [
      "reading node file: data/Experiments/1000random.1.node\n",
      "reading face file: data/Experiments/1000random.1.face\n",
      "reading ele file: data/Experiments/1000random.1.ele\n",
      "reading edge file: data/Experiments/1000random.1.edge\n",
      "Reading vertex file\n",
      "Reading face file\n",
      "Processing edges\n",
      "Reading tetra file\n",
      "Processesing faces with tetrahedorns\n",
      "Tiempo Sergio`s version: 30.060375452041626 segs\n",
      "Tiempo Magda`s version: 0.23801612854003906 segs\n",
      "\n",
      " Stats polylla original\n",
      "PolyllaFace info:\n",
      "Number of polyhedrons: 1407\n",
      "Number of barrier faces: 433\n",
      "Number of polyhedra with barrier faces: 288\n",
      "Number of polyhedrons that are tetrahedrons: 275\n",
      "\n",
      " Stats polylla Prueba:\n",
      "PolyllaFace info:\n",
      "Number of polyhedrons: 1406\n",
      "Number of barrier faces: 433\n",
      "Number of polyhedra with barrier faces: 288\n",
      "Number of polyhedrons that are tetrahedrons: 274\n",
      "Nueva lectura es  99.20820640141447 % más rápido\n"
     ]
    },
    {
     "data": {
      "text/plain": [
       "1"
      ]
     },
     "execution_count": 22,
     "metadata": {},
     "output_type": "execute_result"
    }
   ],
   "source": [
    "n = 1000\n",
    "\n",
    "dt_S, dt_M = run_polylla(n, distribution)\n",
    "original_time.append(dt_S)\n",
    "resultFile.write(str(original_time))\n",
    "resultFile.write('\\n')\n",
    "new_time.append(dt_M)\n",
    "resultFile.write(str(new_time))\n",
    "resultFile.write('\\n')"
   ]
  },
  {
   "cell_type": "markdown",
   "metadata": {},
   "source": [
    "### n = 5000"
   ]
  },
  {
   "cell_type": "code",
   "execution_count": 23,
   "metadata": {},
   "outputs": [
    {
     "name": "stdout",
     "output_type": "stream",
     "text": [
      "reading node file: data/Experiments/5000random.1.node\n",
      "reading face file: data/Experiments/5000random.1.face\n",
      "reading ele file: data/Experiments/5000random.1.ele\n",
      "reading edge file: data/Experiments/5000random.1.edge\n",
      "Reading vertex file\n",
      "Reading face file\n",
      "Processing edges\n",
      "Reading tetra file\n",
      "Processesing faces with tetrahedorns\n",
      "Tiempo Sergio`s version: 968.7690057754517 segs\n",
      "Tiempo Magda`s version: 1.4099643230438232 segs\n",
      "\n",
      " Stats polylla original\n",
      "PolyllaFace info:\n",
      "Number of polyhedrons: 8375\n",
      "Number of barrier faces: 2718\n",
      "Number of polyhedra with barrier faces: 1776\n",
      "Number of polyhedrons that are tetrahedrons: 1488\n",
      "\n",
      " Stats polylla Prueba:\n",
      "PolyllaFace info:\n",
      "Number of polyhedrons: 8375\n",
      "Number of barrier faces: 2718\n",
      "Number of polyhedra with barrier faces: 1776\n",
      "Number of polyhedrons that are tetrahedrons: 1488\n",
      "Nueva lectura es  99.85445815105169 % más rápido\n"
     ]
    },
    {
     "data": {
      "text/plain": [
       "1"
      ]
     },
     "execution_count": 23,
     "metadata": {},
     "output_type": "execute_result"
    }
   ],
   "source": [
    "n = 5000\n",
    "\n",
    "dt_S, dt_M = run_polylla(n, distribution)\n",
    "original_time.append(dt_S)\n",
    "resultFile.write(str(original_time))\n",
    "resultFile.write('\\n')\n",
    "new_time.append(dt_M)\n",
    "resultFile.write(str(new_time))\n",
    "resultFile.write('\\n')"
   ]
  },
  {
   "cell_type": "markdown",
   "metadata": {},
   "source": [
    "### n = 10000"
   ]
  },
  {
   "cell_type": "code",
   "execution_count": 24,
   "metadata": {},
   "outputs": [
    {
     "name": "stdout",
     "output_type": "stream",
     "text": [
      "reading node file: data/Experiments/10000random.1.node\n",
      "reading face file: data/Experiments/10000random.1.face\n",
      "reading ele file: data/Experiments/10000random.1.ele\n",
      "reading edge file: data/Experiments/10000random.1.edge\n"
     ]
    },
    {
     "ename": "KeyboardInterrupt",
     "evalue": "",
     "output_type": "error",
     "traceback": [
      "\u001b[0;31m---------------------------------------------------------------------------\u001b[0m",
      "\u001b[0;31mKeyboardInterrupt\u001b[0m                         Traceback (most recent call last)",
      "Cell \u001b[0;32mIn[24], line 3\u001b[0m\n\u001b[1;32m      1\u001b[0m n \u001b[38;5;241m=\u001b[39m \u001b[38;5;241m10000\u001b[39m\n\u001b[0;32m----> 3\u001b[0m dt_S, dt_M \u001b[38;5;241m=\u001b[39m \u001b[43mrun_polylla\u001b[49m\u001b[43m(\u001b[49m\u001b[43mn\u001b[49m\u001b[43m,\u001b[49m\u001b[43m \u001b[49m\u001b[43mdistribution\u001b[49m\u001b[43m)\u001b[49m\n\u001b[1;32m      4\u001b[0m original_time\u001b[38;5;241m.\u001b[39mappend(dt_S)\n\u001b[1;32m      5\u001b[0m resultFile\u001b[38;5;241m.\u001b[39mwrite(\u001b[38;5;28mstr\u001b[39m(original_time))\n",
      "Cell \u001b[0;32mIn[18], line 9\u001b[0m, in \u001b[0;36mrun_polylla\u001b[0;34m(n, distribution)\u001b[0m\n\u001b[1;32m      6\u001b[0m edge_file \u001b[38;5;241m=\u001b[39m filename \u001b[38;5;241m+\u001b[39m \u001b[38;5;124m\"\u001b[39m\u001b[38;5;124m.edge\u001b[39m\u001b[38;5;124m\"\u001b[39m\n\u001b[1;32m      8\u001b[0m t0 \u001b[38;5;241m=\u001b[39m time\u001b[38;5;241m.\u001b[39mtime()\n\u001b[0;32m----> 9\u001b[0m mesh \u001b[38;5;241m=\u001b[39m \u001b[43mTetrahedronMesh\u001b[49m\u001b[43m(\u001b[49m\u001b[43mnode_file\u001b[49m\u001b[43m,\u001b[49m\u001b[43m \u001b[49m\u001b[43mface_file\u001b[49m\u001b[43m,\u001b[49m\u001b[43m \u001b[49m\u001b[43mele_file\u001b[49m\u001b[43m,\u001b[49m\u001b[43medge_file\u001b[49m\u001b[43m)\u001b[49m\n\u001b[1;32m     10\u001b[0m polyllaFace_mesh_original \u001b[38;5;241m=\u001b[39m PolyllaFace(mesh)\n\u001b[1;32m     11\u001b[0m tf \u001b[38;5;241m=\u001b[39m time\u001b[38;5;241m.\u001b[39mtime()\n",
      "File \u001b[0;32m~/Documents/Tesis/3D-Polylla/mesh.py:81\u001b[0m, in \u001b[0;36mTetrahedronMesh.__init__\u001b[0;34m(self, node_file, face_file, tetra_file, edge_file)\u001b[0m\n\u001b[1;32m     80\u001b[0m \u001b[38;5;28;01mdef\u001b[39;00m \u001b[38;5;21m__init__\u001b[39m(\u001b[38;5;28mself\u001b[39m, node_file, face_file, tetra_file, edge_file):\n\u001b[0;32m---> 81\u001b[0m     \u001b[38;5;28mself\u001b[39m\u001b[38;5;241m.\u001b[39mnode_list, \u001b[38;5;28mself\u001b[39m\u001b[38;5;241m.\u001b[39mface_list, \u001b[38;5;28mself\u001b[39m\u001b[38;5;241m.\u001b[39mtetra_list, \u001b[38;5;28mself\u001b[39m\u001b[38;5;241m.\u001b[39medge_list \u001b[38;5;241m=\u001b[39m \u001b[38;5;28;43mself\u001b[39;49m\u001b[38;5;241;43m.\u001b[39;49m\u001b[43mconstruct_tetrahedral_mesh\u001b[49m\u001b[43m(\u001b[49m\u001b[43mnode_file\u001b[49m\u001b[43m,\u001b[49m\u001b[43m \u001b[49m\u001b[43mface_file\u001b[49m\u001b[43m,\u001b[49m\u001b[43m \u001b[49m\u001b[43mtetra_file\u001b[49m\u001b[43m,\u001b[49m\u001b[43m \u001b[49m\u001b[43medge_file\u001b[49m\u001b[43m)\u001b[49m\n\u001b[1;32m     82\u001b[0m     \u001b[38;5;28mself\u001b[39m\u001b[38;5;241m.\u001b[39mn_tetrahedrons \u001b[38;5;241m=\u001b[39m \u001b[38;5;28mlen\u001b[39m(\u001b[38;5;28mself\u001b[39m\u001b[38;5;241m.\u001b[39mtetra_list)\n\u001b[1;32m     83\u001b[0m     \u001b[38;5;28mself\u001b[39m\u001b[38;5;241m.\u001b[39mn_faces \u001b[38;5;241m=\u001b[39m \u001b[38;5;28mlen\u001b[39m(\u001b[38;5;28mself\u001b[39m\u001b[38;5;241m.\u001b[39mface_list)\n",
      "File \u001b[0;32m~/Documents/Tesis/3D-Polylla/mesh.py:169\u001b[0m, in \u001b[0;36mconstruct_tetrahedral_mesh\u001b[0;34m(self, node_file, face_file, ele_file, edge_file)\u001b[0m\n\u001b[1;32m    167\u001b[0m     face\u001b[38;5;241m.\u001b[39medges\u001b[38;5;241m.\u001b[39mappend(edge\u001b[38;5;241m.\u001b[39mi)\n\u001b[1;32m    168\u001b[0m \u001b[38;5;28;01mif\u001b[39;00m (edge\u001b[38;5;241m.\u001b[39mv1, edge\u001b[38;5;241m.\u001b[39mv2) \u001b[38;5;241m==\u001b[39m e2 \u001b[38;5;129;01mor\u001b[39;00m (edge\u001b[38;5;241m.\u001b[39mv2, edge\u001b[38;5;241m.\u001b[39mv1) \u001b[38;5;241m==\u001b[39m e2:\n\u001b[0;32m--> 169\u001b[0m     face\u001b[38;5;241m.\u001b[39medges\u001b[38;5;241m.\u001b[39mappend(edge\u001b[38;5;241m.\u001b[39mi)\n\u001b[1;32m    170\u001b[0m \u001b[38;5;28;01mif\u001b[39;00m (edge\u001b[38;5;241m.\u001b[39mv1, edge\u001b[38;5;241m.\u001b[39mv2) \u001b[38;5;241m==\u001b[39m e3 \u001b[38;5;129;01mor\u001b[39;00m (edge\u001b[38;5;241m.\u001b[39mv2, edge\u001b[38;5;241m.\u001b[39mv1) \u001b[38;5;241m==\u001b[39m e3:\n\u001b[1;32m    171\u001b[0m     face\u001b[38;5;241m.\u001b[39medges\u001b[38;5;241m.\u001b[39mappend(edge\u001b[38;5;241m.\u001b[39mi)\n",
      "\u001b[0;31mKeyboardInterrupt\u001b[0m: "
     ]
    }
   ],
   "source": [
    "n = 10000\n",
    "\n",
    "dt_S, dt_M = run_polylla(n, distribution)\n",
    "original_time.append(dt_S)\n",
    "resultFile.write(str(original_time))\n",
    "resultFile.write('\\n')\n",
    "new_time.append(dt_M)\n",
    "resultFile.write(str(new_time))\n",
    "resultFile.write('\\n')"
   ]
  },
  {
   "cell_type": "markdown",
   "metadata": {},
   "source": []
  },
  {
   "cell_type": "markdown",
   "metadata": {},
   "source": [
    "## Poisson Distribution"
   ]
  },
  {
   "cell_type": "code",
   "execution_count": null,
   "metadata": {},
   "outputs": [],
   "source": [
    "distribution = 'poisson'\n",
    "resultFile.write(distribution)\n",
    "resultFile.write('\\n')\n"
   ]
  },
  {
   "cell_type": "markdown",
   "metadata": {},
   "source": [
    "### n = 500"
   ]
  },
  {
   "cell_type": "code",
   "execution_count": null,
   "metadata": {},
   "outputs": [
    {
     "name": "stdout",
     "output_type": "stream",
     "text": [
      "reading node file: data/500poisson.1.node\n",
      "reading face file: data/500poisson.1.face\n",
      "reading ele file: data/500poisson.1.ele\n",
      "reading edge file: data/500poisson.1.edge\n",
      "Reading vertex file\n",
      "Reading face file\n",
      "Processing edges\n",
      "Reading tetra file\n",
      "Processesing faces with tetrahedorns\n",
      "Tiempo Sergio`s version: 8.694112539291382 segs\n",
      "Tiempo Magda`s version: 0.11905956268310547 segs\n",
      "\n",
      " Stats polylla original\n",
      "PolyllaFace info:\n",
      "Number of polyhedrons: 774\n",
      "Number of barrier faces: 216\n",
      "Number of polyhedra with barrier faces: 157\n",
      "Number of polyhedrons that are tetrahedrons: 127\n",
      "\n",
      " Stats polylla Prueba:\n",
      "PolyllaFace info:\n",
      "Number of polyhedrons: 774\n",
      "Number of barrier faces: 216\n",
      "Number of polyhedra with barrier faces: 157\n",
      "Number of polyhedrons that are tetrahedrons: 127\n",
      "Nueva lectura es  98.63057256108615 % más rápido\n"
     ]
    }
   ],
   "source": [
    "n = 500\n",
    "\n",
    "dt_S, dt_M = run_polylla(n, distribution)\n",
    "original_time.append(dt_S)\n",
    "new_time.append(dt_M)\n",
    "resultFile.write(str(original_time))\n",
    "resultFile.write('\\n')\n",
    "new_time.append(dt_M)\n",
    "resultFile.write(str(new_time))\n",
    "resultFile.write('\\n')"
   ]
  },
  {
   "cell_type": "markdown",
   "metadata": {},
   "source": [
    "### n = 1000"
   ]
  },
  {
   "cell_type": "code",
   "execution_count": null,
   "metadata": {},
   "outputs": [
    {
     "name": "stdout",
     "output_type": "stream",
     "text": [
      "reading node file: data/1000poisson.1.node\n",
      "reading face file: data/1000poisson.1.face\n",
      "reading ele file: data/1000poisson.1.ele\n",
      "reading edge file: data/1000poisson.1.edge\n",
      "Reading vertex file\n",
      "Reading face file\n",
      "Processing edges\n",
      "Reading tetra file\n",
      "Processesing faces with tetrahedorns\n",
      "Tiempo Sergio`s version: 8.338191509246826 segs\n",
      "Tiempo Magda`s version: 0.12151288986206055 segs\n",
      "\n",
      " Stats polylla original\n",
      "PolyllaFace info:\n",
      "Number of polyhedrons: 750\n",
      "Number of barrier faces: 196\n",
      "Number of polyhedra with barrier faces: 132\n",
      "Number of polyhedrons that are tetrahedrons: 113\n",
      "\n",
      " Stats polylla Prueba:\n",
      "PolyllaFace info:\n",
      "Number of polyhedrons: 752\n",
      "Number of barrier faces: 196\n",
      "Number of polyhedra with barrier faces: 132\n",
      "Number of polyhedrons that are tetrahedrons: 115\n",
      "Nueva lectura es  98.54269490299778 % más rápido\n"
     ]
    }
   ],
   "source": [
    "n = 1000\n",
    "\n",
    "dt_S, dt_M = run_polylla(n, distribution)\n",
    "original_time.append(dt_S)\n",
    "resultFile.write(str(original_time))\n",
    "resultFile.write('\\n')\n",
    "new_time.append(dt_M)\n",
    "resultFile.write(str(new_time))\n",
    "resultFile.write('\\n')"
   ]
  },
  {
   "cell_type": "markdown",
   "metadata": {},
   "source": [
    "### n = 5000"
   ]
  },
  {
   "cell_type": "code",
   "execution_count": null,
   "metadata": {},
   "outputs": [
    {
     "name": "stdout",
     "output_type": "stream",
     "text": [
      "reading node file: data/5000poisson.1.node\n",
      "reading face file: data/5000poisson.1.face\n",
      "reading ele file: data/5000poisson.1.ele\n",
      "reading edge file: data/5000poisson.1.edge\n",
      "Reading vertex file\n",
      "Reading face file\n",
      "Processing edges\n",
      "Reading tetra file\n",
      "Processesing faces with tetrahedorns\n",
      "Tiempo Sergio`s version: 8.444241046905518 segs\n",
      "Tiempo Magda`s version: 0.12338471412658691 segs\n",
      "\n",
      " Stats polylla original\n",
      "PolyllaFace info:\n",
      "Number of polyhedrons: 782\n",
      "Number of barrier faces: 209\n",
      "Number of polyhedra with barrier faces: 150\n",
      "Number of polyhedrons that are tetrahedrons: 136\n",
      "\n",
      " Stats polylla Prueba:\n",
      "PolyllaFace info:\n",
      "Number of polyhedrons: 782\n",
      "Number of barrier faces: 209\n",
      "Number of polyhedra with barrier faces: 150\n",
      "Number of polyhedrons that are tetrahedrons: 136\n",
      "Nueva lectura es  98.53883003290387 % más rápido\n"
     ]
    }
   ],
   "source": [
    "n = 5000\n",
    "\n",
    "dt_S, dt_M = run_polylla(n, distribution)\n",
    "original_time.append(dt_S)\n",
    "resultFile.write(str(original_time))\n",
    "resultFile.write('\\n')\n",
    "new_time.append(dt_M)\n",
    "resultFile.write(str(new_time))\n",
    "resultFile.write('\\n')"
   ]
  },
  {
   "cell_type": "markdown",
   "metadata": {},
   "source": [
    "### n = 10000"
   ]
  },
  {
   "cell_type": "code",
   "execution_count": null,
   "metadata": {},
   "outputs": [
    {
     "name": "stdout",
     "output_type": "stream",
     "text": [
      "reading node file: data/10000poisson.1.node\n",
      "reading face file: data/10000poisson.1.face\n",
      "reading ele file: data/10000poisson.1.ele\n",
      "reading edge file: data/10000poisson.1.edge\n",
      "Reading vertex file\n",
      "Reading face file\n",
      "Processing edges\n",
      "Reading tetra file\n",
      "Processesing faces with tetrahedorns\n",
      "Tiempo Sergio`s version: 8.225796222686768 segs\n",
      "Tiempo Magda`s version: 0.12241172790527344 segs\n",
      "\n",
      " Stats polylla original\n",
      "PolyllaFace info:\n",
      "Number of polyhedrons: 745\n",
      "Number of barrier faces: 185\n",
      "Number of polyhedra with barrier faces: 136\n",
      "Number of polyhedrons that are tetrahedrons: 124\n",
      "\n",
      " Stats polylla Prueba:\n",
      "PolyllaFace info:\n",
      "Number of polyhedrons: 746\n",
      "Number of barrier faces: 185\n",
      "Number of polyhedra with barrier faces: 136\n",
      "Number of polyhedrons that are tetrahedrons: 125\n",
      "Nueva lectura es  98.51185557493314 % más rápido\n"
     ]
    }
   ],
   "source": [
    "n = 10000\n",
    "\n",
    "dt_S, dt_M = run_polylla(n, distribution)\n",
    "original_time.append(dt_S)\n",
    "resultFile.write(str(original_time))\n",
    "resultFile.write('\\n')\n",
    "new_time.append(dt_M)\n",
    "resultFile.write(str(new_time))\n",
    "resultFile.write('\\n')"
   ]
  },
  {
   "cell_type": "markdown",
   "metadata": {},
   "source": []
  },
  {
   "cell_type": "markdown",
   "metadata": {},
   "source": [
    "## Semiuniform Distribution"
   ]
  },
  {
   "cell_type": "code",
   "execution_count": 27,
   "metadata": {},
   "outputs": [
    {
     "data": {
      "text/plain": [
       "1"
      ]
     },
     "execution_count": 27,
     "metadata": {},
     "output_type": "execute_result"
    }
   ],
   "source": [
    "distribution = 'semiuniform'\n",
    "resultFile.write(distribution)\n",
    "resultFile.write('\\n')\n"
   ]
  },
  {
   "cell_type": "markdown",
   "metadata": {},
   "source": [
    "### n = 500"
   ]
  },
  {
   "cell_type": "code",
   "execution_count": 28,
   "metadata": {},
   "outputs": [
    {
     "name": "stdout",
     "output_type": "stream",
     "text": [
      "reading node file: data/Experiments/500semiuniform.1.node\n",
      "reading face file: data/Experiments/500semiuniform.1.face\n",
      "reading ele file: data/Experiments/500semiuniform.1.ele\n",
      "reading edge file: data/Experiments/500semiuniform.1.edge\n",
      "Reading vertex file\n",
      "Reading face file\n",
      "Processing edges\n",
      "Reading tetra file\n",
      "Processesing faces with tetrahedorns\n",
      "Tiempo Sergio`s version: 6.710465669631958 segs\n",
      "Tiempo Magda`s version: 0.07755565643310547 segs\n",
      "\n",
      " Stats polylla original\n",
      "PolyllaFace info:\n",
      "Number of polyhedrons: 711\n",
      "Number of barrier faces: 198\n",
      "Number of polyhedra with barrier faces: 137\n",
      "Number of polyhedrons that are tetrahedrons: 129\n",
      "\n",
      " Stats polylla Prueba:\n",
      "PolyllaFace info:\n",
      "Number of polyhedrons: 711\n",
      "Number of barrier faces: 198\n",
      "Number of polyhedra with barrier faces: 137\n",
      "Number of polyhedrons that are tetrahedrons: 129\n",
      "Nueva lectura es  98.84425820425426 % más rápido\n"
     ]
    },
    {
     "data": {
      "text/plain": [
       "1"
      ]
     },
     "execution_count": 28,
     "metadata": {},
     "output_type": "execute_result"
    }
   ],
   "source": [
    "n = 500\n",
    "\n",
    "dt_S, dt_M = run_polylla(n, distribution)\n",
    "original_time.append(dt_S)\n",
    "resultFile.write(str(original_time))\n",
    "resultFile.write('\\n')\n",
    "new_time.append(dt_M)\n",
    "resultFile.write(str(new_time))\n",
    "resultFile.write('\\n')"
   ]
  },
  {
   "cell_type": "markdown",
   "metadata": {},
   "source": [
    "### n = 1000"
   ]
  },
  {
   "cell_type": "code",
   "execution_count": 29,
   "metadata": {},
   "outputs": [
    {
     "name": "stdout",
     "output_type": "stream",
     "text": [
      "reading node file: data/Experiments/1000semiuniform.1.node\n",
      "reading face file: data/Experiments/1000semiuniform.1.face\n",
      "reading ele file: data/Experiments/1000semiuniform.1.ele\n",
      "reading edge file: data/Experiments/1000semiuniform.1.edge\n",
      "Reading vertex file\n",
      "Reading face file\n",
      "Processing edges\n",
      "Reading tetra file\n",
      "Processesing faces with tetrahedorns\n",
      "Tiempo Sergio`s version: 26.998169898986816 segs\n",
      "Tiempo Magda`s version: 0.1587069034576416 segs\n",
      "\n",
      " Stats polylla original\n",
      "PolyllaFace info:\n",
      "Number of polyhedrons: 1466\n",
      "Number of barrier faces: 372\n",
      "Number of polyhedra with barrier faces: 271\n",
      "Number of polyhedrons that are tetrahedrons: 269\n",
      "\n",
      " Stats polylla Prueba:\n",
      "PolyllaFace info:\n",
      "Number of polyhedrons: 1467\n",
      "Number of barrier faces: 372\n",
      "Number of polyhedra with barrier faces: 271\n",
      "Number of polyhedrons that are tetrahedrons: 270\n",
      "Nueva lectura es  99.41215680895615 % más rápido\n"
     ]
    },
    {
     "data": {
      "text/plain": [
       "1"
      ]
     },
     "execution_count": 29,
     "metadata": {},
     "output_type": "execute_result"
    }
   ],
   "source": [
    "n = 1000\n",
    "\n",
    "dt_S, dt_M = run_polylla(n, distribution)\n",
    "original_time.append(dt_S)\n",
    "resultFile.write(str(original_time))\n",
    "resultFile.write('\\n')\n",
    "new_time.append(dt_M)\n",
    "resultFile.write(str(new_time))\n",
    "resultFile.write('\\n')"
   ]
  },
  {
   "cell_type": "code",
   "execution_count": 49,
   "metadata": {},
   "outputs": [
    {
     "name": "stdout",
     "output_type": "stream",
     "text": [
      "reading node file: data/Experiments/2000semiuniform.1.node\n",
      "reading face file: data/Experiments/2000semiuniform.1.face\n",
      "reading ele file: data/Experiments/2000semiuniform.1.ele\n",
      "reading edge file: data/Experiments/2000semiuniform.1.edge\n",
      "Reading vertex file\n",
      "Reading face file\n",
      "Processing edges\n",
      "Reading tetra file\n",
      "Processesing faces with tetrahedorns\n",
      "Tiempo Sergio`s version: 125.33206701278687 segs\n",
      "Tiempo Magda`s version: 0.3575019836425781 segs\n",
      "\n",
      " Stats polylla original\n",
      "PolyllaFace info:\n",
      "Number of polyhedrons: 3177\n",
      "Number of barrier faces: 788\n",
      "Number of polyhedra with barrier faces: 588\n",
      "Number of polyhedrons that are tetrahedrons: 572\n",
      "\n",
      " Stats polylla Prueba:\n",
      "PolyllaFace info:\n",
      "Number of polyhedrons: 3177\n",
      "Number of barrier faces: 788\n",
      "Number of polyhedra with barrier faces: 588\n",
      "Number of polyhedrons that are tetrahedrons: 572\n",
      "Nueva lectura es  99.7147561736087 % más rápido\n"
     ]
    },
    {
     "data": {
      "text/plain": [
       "1"
      ]
     },
     "execution_count": 49,
     "metadata": {},
     "output_type": "execute_result"
    }
   ],
   "source": [
    "n = 2000\n",
    "\n",
    "dt_S, dt_M = run_polylla(n, distribution)\n",
    "original_time.append(dt_S)\n",
    "resultFile.write(str(original_time))\n",
    "resultFile.write('\\n')\n",
    "new_time.append(dt_M)\n",
    "resultFile.write(str(new_time))\n",
    "resultFile.write('\\n')"
   ]
  },
  {
   "cell_type": "code",
   "execution_count": 50,
   "metadata": {},
   "outputs": [
    {
     "name": "stdout",
     "output_type": "stream",
     "text": [
      "reading node file: data/Experiments/3000semiuniform.1.node\n",
      "reading face file: data/Experiments/3000semiuniform.1.face\n",
      "reading ele file: data/Experiments/3000semiuniform.1.ele\n",
      "reading edge file: data/Experiments/3000semiuniform.1.edge\n",
      "Reading vertex file\n",
      "Reading face file\n",
      "Processing edges\n",
      "Reading tetra file\n",
      "Processesing faces with tetrahedorns\n",
      "Tiempo Sergio`s version: 297.43589425086975 segs\n",
      "Tiempo Magda`s version: 1.0689113140106201 segs\n",
      "\n",
      " Stats polylla original\n",
      "PolyllaFace info:\n",
      "Number of polyhedrons: 4848\n",
      "Number of barrier faces: 1367\n",
      "Number of polyhedra with barrier faces: 936\n",
      "Number of polyhedrons that are tetrahedrons: 827\n",
      "\n",
      " Stats polylla Prueba:\n",
      "PolyllaFace info:\n",
      "Number of polyhedrons: 4848\n",
      "Number of barrier faces: 1367\n",
      "Number of polyhedra with barrier faces: 936\n",
      "Number of polyhedrons that are tetrahedrons: 827\n",
      "Nueva lectura es  99.64062464057918 % más rápido\n"
     ]
    },
    {
     "data": {
      "text/plain": [
       "1"
      ]
     },
     "execution_count": 50,
     "metadata": {},
     "output_type": "execute_result"
    }
   ],
   "source": [
    "n = 3000\n",
    "\n",
    "dt_S, dt_M = run_polylla(n, distribution)\n",
    "original_time.append(dt_S)\n",
    "resultFile.write(str(original_time))\n",
    "resultFile.write('\\n')\n",
    "new_time.append(dt_M)\n",
    "resultFile.write(str(new_time))\n",
    "resultFile.write('\\n')"
   ]
  },
  {
   "cell_type": "code",
   "execution_count": 51,
   "metadata": {},
   "outputs": [
    {
     "name": "stdout",
     "output_type": "stream",
     "text": [
      "reading node file: data/Experiments/4000semiuniform.1.node\n",
      "reading face file: data/Experiments/4000semiuniform.1.face\n",
      "reading ele file: data/Experiments/4000semiuniform.1.ele\n",
      "reading edge file: data/Experiments/4000semiuniform.1.edge\n",
      "Reading vertex file\n",
      "Reading face file\n",
      "Processing edges\n",
      "Reading tetra file\n",
      "Processesing faces with tetrahedorns\n",
      "Tiempo Sergio`s version: 521.6254670619965 segs\n",
      "Tiempo Magda`s version: 1.4825100898742676 segs\n",
      "\n",
      " Stats polylla original\n",
      "PolyllaFace info:\n",
      "Number of polyhedrons: 6555\n",
      "Number of barrier faces: 1838\n",
      "Number of polyhedra with barrier faces: 1309\n",
      "Number of polyhedrons that are tetrahedrons: 1197\n",
      "\n",
      " Stats polylla Prueba:\n",
      "PolyllaFace info:\n",
      "Number of polyhedrons: 6556\n",
      "Number of barrier faces: 1838\n",
      "Number of polyhedra with barrier faces: 1309\n",
      "Number of polyhedrons that are tetrahedrons: 1198\n",
      "Nueva lectura es  99.71579031633092 % más rápido\n"
     ]
    },
    {
     "data": {
      "text/plain": [
       "1"
      ]
     },
     "execution_count": 51,
     "metadata": {},
     "output_type": "execute_result"
    }
   ],
   "source": [
    "n = 4000\n",
    "\n",
    "dt_S, dt_M = run_polylla(n, distribution)\n",
    "original_time.append(dt_S)\n",
    "resultFile.write(str(original_time))\n",
    "resultFile.write('\\n')\n",
    "new_time.append(dt_M)\n",
    "resultFile.write(str(new_time))\n",
    "resultFile.write('\\n')"
   ]
  },
  {
   "cell_type": "markdown",
   "metadata": {},
   "source": [
    "### n = 5000"
   ]
  },
  {
   "cell_type": "code",
   "execution_count": 55,
   "metadata": {},
   "outputs": [
    {
     "name": "stdout",
     "output_type": "stream",
     "text": [
      "reading node file: data/Experiments/5000semiuniform.1.node\n",
      "reading face file: data/Experiments/5000semiuniform.1.face\n",
      "reading ele file: data/Experiments/5000semiuniform.1.ele\n",
      "reading edge file: data/Experiments/5000semiuniform.1.edge\n",
      "Reading vertex file\n",
      "Reading face file\n",
      "Processing edges\n",
      "Reading tetra file\n",
      "Processesing faces with tetrahedorns\n",
      "Tiempo Sergio`s version: 889.6786460876465 segs\n",
      "Tiempo Magda`s version: 1.5433461666107178 segs\n",
      "\n",
      " Stats polylla original\n",
      "PolyllaFace info:\n",
      "Number of polyhedrons: 8232\n",
      "Number of barrier faces: 2177\n",
      "Number of polyhedra with barrier faces: 1591\n",
      "Number of polyhedrons that are tetrahedrons: 1424\n",
      "\n",
      " Stats polylla Prueba:\n",
      "PolyllaFace info:\n",
      "Number of polyhedrons: 8234\n",
      "Number of barrier faces: 2177\n",
      "Number of polyhedra with barrier faces: 1591\n",
      "Number of polyhedrons that are tetrahedrons: 1426\n",
      "Nueva lectura es  99.82652768239436 % más rápido\n"
     ]
    }
   ],
   "source": [
    "n = 5000\n",
    "\n",
    "dt_S, dt_M = run_polylla(n, distribution)\n",
    "original_time.append(dt_S)\n",
    "# resultFile.write(str(original_time))\n",
    "# resultFile.write('\\n')\n",
    "new_time.append(dt_M)\n",
    "# resultFile.write(str(new_time))\n",
    "# resultFile.write('\\n')"
   ]
  },
  {
   "cell_type": "markdown",
   "metadata": {},
   "source": [
    "### n = 10000"
   ]
  },
  {
   "cell_type": "code",
   "execution_count": 31,
   "metadata": {},
   "outputs": [
    {
     "name": "stdout",
     "output_type": "stream",
     "text": [
      "reading node file: data/Experiments/10000semiuniform.1.node\n",
      "reading face file: data/Experiments/10000semiuniform.1.face\n",
      "reading ele file: data/Experiments/10000semiuniform.1.ele\n",
      "reading edge file: data/Experiments/10000semiuniform.1.edge\n",
      "Reading vertex file\n",
      "Reading face file\n",
      "Processing edges\n",
      "Reading tetra file\n",
      "Processesing faces with tetrahedorns\n",
      "Tiempo Sergio`s version: 3484.7643342018127 segs\n",
      "Tiempo Magda`s version: 2.970845937728882 segs\n",
      "\n",
      " Stats polylla original\n",
      "PolyllaFace info:\n",
      "Number of polyhedrons: 17216\n",
      "Number of barrier faces: 4671\n",
      "Number of polyhedra with barrier faces: 3426\n",
      "Number of polyhedrons that are tetrahedrons: 2957\n",
      "\n",
      " Stats polylla Prueba:\n",
      "PolyllaFace info:\n",
      "Number of polyhedrons: 17216\n",
      "Number of barrier faces: 4671\n",
      "Number of polyhedra with barrier faces: 3426\n",
      "Number of polyhedrons that are tetrahedrons: 2957\n",
      "Nueva lectura es  99.91474757966928 % más rápido\n"
     ]
    },
    {
     "data": {
      "text/plain": [
       "1"
      ]
     },
     "execution_count": 31,
     "metadata": {},
     "output_type": "execute_result"
    }
   ],
   "source": [
    "n = 10000\n",
    "\n",
    "dt_S, dt_M = run_polylla(n, distribution)\n",
    "original_time.append(dt_S)\n",
    "resultFile.write(str(original_time))\n",
    "resultFile.write('\\n')\n",
    "new_time.append(dt_M)\n",
    "resultFile.write(str(new_time))\n",
    "resultFile.write('\\n')"
   ]
  },
  {
   "cell_type": "code",
   "execution_count": 43,
   "metadata": {},
   "outputs": [
    {
     "name": "stdout",
     "output_type": "stream",
     "text": [
      "reading node file: data/Experiments/15000semiuniform.1.node\n",
      "reading face file: data/Experiments/15000semiuniform.1.face\n",
      "reading ele file: data/Experiments/15000semiuniform.1.ele\n",
      "reading edge file: data/Experiments/15000semiuniform.1.edge\n",
      "Reading vertex file\n",
      "Reading face file\n",
      "Processing edges\n",
      "Reading tetra file\n",
      "Processesing faces with tetrahedorns\n",
      "Tiempo Sergio`s version: 7890.98238492012 segs\n",
      "Tiempo Magda`s version: 4.598008632659912 segs\n",
      "\n",
      " Stats polylla original\n",
      "PolyllaFace info:\n",
      "Number of polyhedrons: 25940\n",
      "Number of barrier faces: 7121\n",
      "Number of polyhedra with barrier faces: 5097\n",
      "Number of polyhedrons that are tetrahedrons: 4469\n",
      "\n",
      " Stats polylla Prueba:\n",
      "PolyllaFace info:\n",
      "Number of polyhedrons: 25940\n",
      "Number of barrier faces: 7120\n",
      "Number of polyhedra with barrier faces: 5096\n",
      "Number of polyhedrons that are tetrahedrons: 4469\n",
      "Nueva lectura es  99.94173084657436 % más rápido\n"
     ]
    },
    {
     "data": {
      "text/plain": [
       "1"
      ]
     },
     "execution_count": 43,
     "metadata": {},
     "output_type": "execute_result"
    }
   ],
   "source": [
    "n = 15000\n",
    "\n",
    "dt_S, dt_M = run_polylla(n, distribution)\n",
    "original_time.append(dt_S)\n",
    "resultFile.write(str(original_time))\n",
    "resultFile.write('\\n')\n",
    "new_time.append(dt_M)\n",
    "resultFile.write(str(new_time))\n",
    "resultFile.write('\\n')"
   ]
  },
  {
   "cell_type": "code",
   "execution_count": 44,
   "metadata": {},
   "outputs": [
    {
     "name": "stdout",
     "output_type": "stream",
     "text": [
      "reading node file: data/Experiments/20000semiuniform.1.node\n",
      "reading face file: data/Experiments/20000semiuniform.1.face\n",
      "reading ele file: data/Experiments/20000semiuniform.1.ele\n",
      "reading edge file: data/Experiments/20000semiuniform.1.edge\n"
     ]
    },
    {
     "ename": "KeyboardInterrupt",
     "evalue": "",
     "output_type": "error",
     "traceback": [
      "\u001b[0;31m---------------------------------------------------------------------------\u001b[0m",
      "\u001b[0;31mKeyboardInterrupt\u001b[0m                         Traceback (most recent call last)",
      "Cell \u001b[0;32mIn[44], line 3\u001b[0m\n\u001b[1;32m      1\u001b[0m n \u001b[38;5;241m=\u001b[39m \u001b[38;5;241m20000\u001b[39m\n\u001b[0;32m----> 3\u001b[0m dt_S, dt_M \u001b[38;5;241m=\u001b[39m \u001b[43mrun_polylla\u001b[49m\u001b[43m(\u001b[49m\u001b[43mn\u001b[49m\u001b[43m,\u001b[49m\u001b[43m \u001b[49m\u001b[43mdistribution\u001b[49m\u001b[43m)\u001b[49m\n\u001b[1;32m      4\u001b[0m original_time\u001b[38;5;241m.\u001b[39mappend(dt_S)\n\u001b[1;32m      5\u001b[0m resultFile\u001b[38;5;241m.\u001b[39mwrite(\u001b[38;5;28mstr\u001b[39m(original_time))\n",
      "Cell \u001b[0;32mIn[18], line 9\u001b[0m, in \u001b[0;36mrun_polylla\u001b[0;34m(n, distribution)\u001b[0m\n\u001b[1;32m      6\u001b[0m edge_file \u001b[38;5;241m=\u001b[39m filename \u001b[38;5;241m+\u001b[39m \u001b[38;5;124m\"\u001b[39m\u001b[38;5;124m.edge\u001b[39m\u001b[38;5;124m\"\u001b[39m\n\u001b[1;32m      8\u001b[0m t0 \u001b[38;5;241m=\u001b[39m time\u001b[38;5;241m.\u001b[39mtime()\n\u001b[0;32m----> 9\u001b[0m mesh \u001b[38;5;241m=\u001b[39m \u001b[43mTetrahedronMesh\u001b[49m\u001b[43m(\u001b[49m\u001b[43mnode_file\u001b[49m\u001b[43m,\u001b[49m\u001b[43m \u001b[49m\u001b[43mface_file\u001b[49m\u001b[43m,\u001b[49m\u001b[43m \u001b[49m\u001b[43mele_file\u001b[49m\u001b[43m,\u001b[49m\u001b[43medge_file\u001b[49m\u001b[43m)\u001b[49m\n\u001b[1;32m     10\u001b[0m polyllaFace_mesh_original \u001b[38;5;241m=\u001b[39m PolyllaFace(mesh)\n\u001b[1;32m     11\u001b[0m tf \u001b[38;5;241m=\u001b[39m time\u001b[38;5;241m.\u001b[39mtime()\n",
      "File \u001b[0;32m~/Documents/Tesis/3D-Polylla/mesh.py:81\u001b[0m, in \u001b[0;36mTetrahedronMesh.__init__\u001b[0;34m(self, node_file, face_file, tetra_file, edge_file)\u001b[0m\n\u001b[1;32m     80\u001b[0m \u001b[38;5;28;01mdef\u001b[39;00m \u001b[38;5;21m__init__\u001b[39m(\u001b[38;5;28mself\u001b[39m, node_file, face_file, tetra_file, edge_file):\n\u001b[0;32m---> 81\u001b[0m     \u001b[38;5;28mself\u001b[39m\u001b[38;5;241m.\u001b[39mnode_list, \u001b[38;5;28mself\u001b[39m\u001b[38;5;241m.\u001b[39mface_list, \u001b[38;5;28mself\u001b[39m\u001b[38;5;241m.\u001b[39mtetra_list, \u001b[38;5;28mself\u001b[39m\u001b[38;5;241m.\u001b[39medge_list \u001b[38;5;241m=\u001b[39m \u001b[38;5;28;43mself\u001b[39;49m\u001b[38;5;241;43m.\u001b[39;49m\u001b[43mconstruct_tetrahedral_mesh\u001b[49m\u001b[43m(\u001b[49m\u001b[43mnode_file\u001b[49m\u001b[43m,\u001b[49m\u001b[43m \u001b[49m\u001b[43mface_file\u001b[49m\u001b[43m,\u001b[49m\u001b[43m \u001b[49m\u001b[43mtetra_file\u001b[49m\u001b[43m,\u001b[49m\u001b[43m \u001b[49m\u001b[43medge_file\u001b[49m\u001b[43m)\u001b[49m\n\u001b[1;32m     82\u001b[0m     \u001b[38;5;28mself\u001b[39m\u001b[38;5;241m.\u001b[39mn_tetrahedrons \u001b[38;5;241m=\u001b[39m \u001b[38;5;28mlen\u001b[39m(\u001b[38;5;28mself\u001b[39m\u001b[38;5;241m.\u001b[39mtetra_list)\n\u001b[1;32m     83\u001b[0m     \u001b[38;5;28mself\u001b[39m\u001b[38;5;241m.\u001b[39mn_faces \u001b[38;5;241m=\u001b[39m \u001b[38;5;28mlen\u001b[39m(\u001b[38;5;28mself\u001b[39m\u001b[38;5;241m.\u001b[39mface_list)\n",
      "File \u001b[0;32m~/Documents/Tesis/3D-Polylla/mesh.py:171\u001b[0m, in \u001b[0;36mconstruct_tetrahedral_mesh\u001b[0;34m(self, node_file, face_file, ele_file, edge_file)\u001b[0m\n\u001b[1;32m    169\u001b[0m             face\u001b[38;5;241m.\u001b[39medges\u001b[38;5;241m.\u001b[39mappend(edge\u001b[38;5;241m.\u001b[39mi)\n\u001b[1;32m    170\u001b[0m         \u001b[38;5;28;01mif\u001b[39;00m (edge\u001b[38;5;241m.\u001b[39mv1, edge\u001b[38;5;241m.\u001b[39mv2) \u001b[38;5;241m==\u001b[39m e3 \u001b[38;5;129;01mor\u001b[39;00m (edge\u001b[38;5;241m.\u001b[39mv2, edge\u001b[38;5;241m.\u001b[39mv1) \u001b[38;5;241m==\u001b[39m e3:\n\u001b[0;32m--> 171\u001b[0m             face\u001b[38;5;241m.\u001b[39medges\u001b[38;5;241m.\u001b[39mappend(edge\u001b[38;5;241m.\u001b[39mi)\n\u001b[1;32m    172\u001b[0m         \u001b[38;5;66;03m#agregar que si len(face.edges == 3) se para esto\u001b[39;00m\n\u001b[1;32m    173\u001b[0m     \u001b[38;5;66;03m#print(\"face \" + str(face.i) + \" has this edges \" + str(face.edges))\u001b[39;00m\n\u001b[1;32m    174\u001b[0m \n\u001b[1;32m    175\u001b[0m \n\u001b[1;32m    176\u001b[0m \u001b[38;5;66;03m# add the faces of each tetrahedron\u001b[39;00m\n\u001b[1;32m    177\u001b[0m \u001b[38;5;28;01mfor\u001b[39;00m f \u001b[38;5;129;01min\u001b[39;00m \u001b[38;5;28mrange\u001b[39m(\u001b[38;5;241m0\u001b[39m, \u001b[38;5;28mlen\u001b[39m(face_list)):\n\u001b[1;32m    178\u001b[0m     \u001b[38;5;66;03m# Calcula neigh tetrahedras from faces\u001b[39;00m\n",
      "\u001b[0;31mKeyboardInterrupt\u001b[0m: "
     ]
    }
   ],
   "source": [
    "n = 20000\n",
    "\n",
    "dt_S, dt_M = run_polylla(n, distribution)\n",
    "original_time.append(dt_S)\n",
    "resultFile.write(str(original_time))\n",
    "resultFile.write('\\n')\n",
    "new_time.append(dt_M)\n",
    "resultFile.write(str(new_time))\n",
    "resultFile.write('\\n')"
   ]
  },
  {
   "cell_type": "code",
   "execution_count": null,
   "metadata": {},
   "outputs": [
    {
     "name": "stdout",
     "output_type": "stream",
     "text": [
      "reading node file: data/Experiments/10000semiuniform.1.node\n",
      "reading face file: data/Experiments/10000semiuniform.1.face\n",
      "reading ele file: data/Experiments/10000semiuniform.1.ele\n",
      "reading edge file: data/Experiments/10000semiuniform.1.edge\n",
      "Reading vertex file\n",
      "Reading face file\n",
      "Processing edges\n",
      "Reading tetra file\n",
      "Processesing faces with tetrahedorns\n",
      "Tiempo Sergio`s version: 3484.7643342018127 segs\n",
      "Tiempo Magda`s version: 2.970845937728882 segs\n",
      "\n",
      " Stats polylla original\n",
      "PolyllaFace info:\n",
      "Number of polyhedrons: 17216\n",
      "Number of barrier faces: 4671\n",
      "Number of polyhedra with barrier faces: 3426\n",
      "Number of polyhedrons that are tetrahedrons: 2957\n",
      "\n",
      " Stats polylla Prueba:\n",
      "PolyllaFace info:\n",
      "Number of polyhedrons: 17216\n",
      "Number of barrier faces: 4671\n",
      "Number of polyhedra with barrier faces: 3426\n",
      "Number of polyhedrons that are tetrahedrons: 2957\n",
      "Nueva lectura es  99.91474757966928 % más rápido\n"
     ]
    },
    {
     "data": {
      "text/plain": [
       "1"
      ]
     },
     "metadata": {},
     "output_type": "display_data"
    }
   ],
   "source": [
    "n = 30000\n",
    "\n",
    "dt_S, dt_M = run_polylla(n, distribution)\n",
    "original_time.append(dt_S)\n",
    "resultFile.write(str(original_time))\n",
    "resultFile.write('\\n')\n",
    "new_time.append(dt_M)\n",
    "resultFile.write(str(new_time))\n",
    "resultFile.write('\\n')"
   ]
  },
  {
   "cell_type": "code",
   "execution_count": null,
   "metadata": {},
   "outputs": [
    {
     "name": "stdout",
     "output_type": "stream",
     "text": [
      "reading node file: data/Experiments/10000semiuniform.1.node\n",
      "reading face file: data/Experiments/10000semiuniform.1.face\n",
      "reading ele file: data/Experiments/10000semiuniform.1.ele\n",
      "reading edge file: data/Experiments/10000semiuniform.1.edge\n",
      "Reading vertex file\n",
      "Reading face file\n",
      "Processing edges\n",
      "Reading tetra file\n",
      "Processesing faces with tetrahedorns\n",
      "Tiempo Sergio`s version: 3484.7643342018127 segs\n",
      "Tiempo Magda`s version: 2.970845937728882 segs\n",
      "\n",
      " Stats polylla original\n",
      "PolyllaFace info:\n",
      "Number of polyhedrons: 17216\n",
      "Number of barrier faces: 4671\n",
      "Number of polyhedra with barrier faces: 3426\n",
      "Number of polyhedrons that are tetrahedrons: 2957\n",
      "\n",
      " Stats polylla Prueba:\n",
      "PolyllaFace info:\n",
      "Number of polyhedrons: 17216\n",
      "Number of barrier faces: 4671\n",
      "Number of polyhedra with barrier faces: 3426\n",
      "Number of polyhedrons that are tetrahedrons: 2957\n",
      "Nueva lectura es  99.91474757966928 % más rápido\n"
     ]
    },
    {
     "data": {
      "text/plain": [
       "1"
      ]
     },
     "metadata": {},
     "output_type": "display_data"
    }
   ],
   "source": [
    "n = 40000\n",
    "\n",
    "dt_S, dt_M = run_polylla(n, distribution)\n",
    "original_time.append(dt_S)\n",
    "resultFile.write(str(original_time))\n",
    "resultFile.write('\\n')\n",
    "new_time.append(dt_M)\n",
    "resultFile.write(str(new_time))\n",
    "resultFile.write('\\n')"
   ]
  },
  {
   "cell_type": "code",
   "execution_count": null,
   "metadata": {},
   "outputs": [
    {
     "name": "stdout",
     "output_type": "stream",
     "text": [
      "reading node file: data/Experiments/10000semiuniform.1.node\n",
      "reading face file: data/Experiments/10000semiuniform.1.face\n",
      "reading ele file: data/Experiments/10000semiuniform.1.ele\n",
      "reading edge file: data/Experiments/10000semiuniform.1.edge\n",
      "Reading vertex file\n",
      "Reading face file\n",
      "Processing edges\n",
      "Reading tetra file\n",
      "Processesing faces with tetrahedorns\n",
      "Tiempo Sergio`s version: 3484.7643342018127 segs\n",
      "Tiempo Magda`s version: 2.970845937728882 segs\n",
      "\n",
      " Stats polylla original\n",
      "PolyllaFace info:\n",
      "Number of polyhedrons: 17216\n",
      "Number of barrier faces: 4671\n",
      "Number of polyhedra with barrier faces: 3426\n",
      "Number of polyhedrons that are tetrahedrons: 2957\n",
      "\n",
      " Stats polylla Prueba:\n",
      "PolyllaFace info:\n",
      "Number of polyhedrons: 17216\n",
      "Number of barrier faces: 4671\n",
      "Number of polyhedra with barrier faces: 3426\n",
      "Number of polyhedrons that are tetrahedrons: 2957\n",
      "Nueva lectura es  99.91474757966928 % más rápido\n"
     ]
    },
    {
     "data": {
      "text/plain": [
       "1"
      ]
     },
     "metadata": {},
     "output_type": "display_data"
    }
   ],
   "source": [
    "n = 50000\n",
    "\n",
    "dt_S, dt_M = run_polylla(n, distribution)\n",
    "original_time.append(dt_S)\n",
    "resultFile.write(str(original_time))\n",
    "resultFile.write('\\n')\n",
    "new_time.append(dt_M)\n",
    "resultFile.write(str(new_time))\n",
    "resultFile.write('\\n')"
   ]
  },
  {
   "cell_type": "markdown",
   "metadata": {},
   "source": [
    "# Uniform Distribution"
   ]
  },
  {
   "cell_type": "code",
   "execution_count": null,
   "metadata": {},
   "outputs": [],
   "source": [
    "distribution = 'uniform'\n",
    "resultFile.write(distribution)\n",
    "resultFile.write('\\n')"
   ]
  },
  {
   "cell_type": "code",
   "execution_count": null,
   "metadata": {},
   "outputs": [],
   "source": [
    "n = 500\n",
    "\n",
    "dt_S, dt_M = run_polylla(n, distribution)\n",
    "original_time.append(dt_S)\n",
    "resultFile.write(str(original_time))\n",
    "resultFile.write('\\n')\n",
    "new_time.append(dt_M)\n",
    "resultFile.write(str(new_time))\n",
    "resultFile.write('\\n')"
   ]
  },
  {
   "cell_type": "code",
   "execution_count": null,
   "metadata": {},
   "outputs": [],
   "source": [
    "n = 1000\n",
    "\n",
    "dt_S, dt_M = run_polylla(n, distribution)\n",
    "original_time.append(dt_S)\n",
    "resultFile.write(str(original_time))\n",
    "resultFile.write('\\n')\n",
    "new_time.append(dt_M)\n",
    "resultFile.write(str(new_time))\n",
    "resultFile.write('\\n')"
   ]
  },
  {
   "cell_type": "code",
   "execution_count": null,
   "metadata": {},
   "outputs": [],
   "source": [
    "n = 5000\n",
    "\n",
    "dt_S, dt_M = run_polylla(n, distribution)\n",
    "original_time.append(dt_S)\n",
    "resultFile.write(str(original_time))\n",
    "resultFile.write('\\n')\n",
    "new_time.append(dt_M)\n",
    "resultFile.write(str(new_time))\n",
    "resultFile.write('\\n')"
   ]
  },
  {
   "cell_type": "code",
   "execution_count": null,
   "metadata": {},
   "outputs": [],
   "source": [
    "n = 10000\n",
    "\n",
    "dt_S, dt_M = run_polylla(n, distribution)\n",
    "original_time.append(dt_S)\n",
    "resultFile.write(str(original_time))\n",
    "resultFile.write('\\n')\n",
    "new_time.append(dt_M)\n",
    "resultFile.write(str(new_time))\n",
    "resultFile.write('\\n')"
   ]
  },
  {
   "cell_type": "code",
   "execution_count": 52,
   "metadata": {},
   "outputs": [],
   "source": [
    "resultFile.close()"
   ]
  },
  {
   "cell_type": "code",
   "execution_count": 33,
   "metadata": {},
   "outputs": [
    {
     "name": "stdout",
     "output_type": "stream",
     "text": [
      "Nuevo método es: 99.8823862273956 % más rápido.\n"
     ]
    }
   ],
   "source": [
    "\n",
    "promedio_org = statistics.mean(original_time)\n",
    "promedio_new = statistics.mean(new_time)\n",
    "print('Nuevo método es:', (100-(promedio_new*100/promedio_org)),'% más rápido.')"
   ]
  },
  {
   "cell_type": "code",
   "execution_count": 56,
   "metadata": {},
   "outputs": [
    {
     "data": {
      "image/png": "[encoded data removed]",
      "text/plain": [
       "<Figure size 640x480 with 1 Axes>"
      ]
     },
     "metadata": {},
     "output_type": "display_data"
    }
   ],
   "source": [
    "import numpy as np\n",
    "import matplotlib.pyplot as plt\n",
    "\n",
    "n_points = [500, 1000,2000,3000,4000,5000, 10000,15000]\n",
    "\n",
    "org_time = [6.710465669631958, 26.998169898986816,125.33206701278687, 297.43589425086975, 521.6254670619965, 889.6786460876465, 3484.7643342018127,7890.98238492012]\n",
    "opt_time = [0.07755565643310547, 0.1587069034576416,0.3575019836425781, 1.0689113140106201, 1.4825100898742676, 1.5433461666107178, 2.970845937728882,4.598008632659912]\n",
    "\n",
    "\n",
    "# red dashes, blue squares and green triangles\n",
    "plt.plot(n_points, org_time, 'r-', n_points, opt_time, 'b-')\n",
    "plt.legend(['Original Reading Algorithm', 'Optimized Reading Algorithm'])\n",
    "plt.ylabel('Time(s)')\n",
    "plt.xlabel('Number of points')\n",
    "plt.show()\n"
   ]
  },
  {
   "cell_type": "code",
   "execution_count": 57,
   "metadata": {},
   "outputs": [
    {
     "data": {
      "image/png": "[encoded data removed]",
      "text/plain": [
       "<Figure size 640x480 with 1 Axes>"
      ]
     },
     "metadata": {},
     "output_type": "display_data"
    }
   ],
   "source": [
    "plt.plot(n_points, opt_time, 'b-')\n",
    "plt.legend(['Optimized Reading Algorithm'])\n",
    "plt.ylabel('Time(s)')\n",
    "plt.xlabel('Number of points')\n",
    "plt.show()"
   ]
  }
 ],
 "metadata": {
  "kernelspec": {
   "display_name": "Python 3",
   "language": "python",
   "name": "python3"
  },
  "language_info": {
   "codemirror_mode": {
    "name": "ipython",
    "version": 3
   },
   "file_extension": ".py",
   "mimetype": "text/x-python",
   "name": "python",
   "nbconvert_exporter": "python",
   "pygments_lexer": "ipython3",
   "version": "3.8.10"
  }
 },
 "nbformat": 4,
 "nbformat_minor": 2
}
