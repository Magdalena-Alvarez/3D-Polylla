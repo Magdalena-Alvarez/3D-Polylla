{
 "cells": [
  {
   "cell_type": "markdown",
   "metadata": {},
   "source": [
    "# Generate Polylla mesh"
   ]
  },
  {
   "cell_type": "code",
   "execution_count": null,
   "metadata": {},
   "outputs": [],
   "source": [
    "from mesh import TetrahedronMesh\n",
    "from PolyllaEdge import PolyllaEdge\n",
    "from PolyllaFace import PolyllaFace\n",
    "\n",
    "\n",
    "numVertices = 500"
   ]
  },
  {
   "cell_type": "markdown",
   "metadata": {},
   "source": [
    "# Semiuniform Polylla"
   ]
  },
  {
   "cell_type": "code",
   "execution_count": null,
   "metadata": {},
   "outputs": [],
   "source": [
    "filename = \"data/\"+ str(numVertices) + \"semiuniform.1\"\n",
    "outputname = \"data/\"+ str(numVertices) + \"semiuniform\"\n",
    "\n",
    "node_file = filename + \".node\"\n",
    "ele_file = filename + \".ele\"\n",
    "face_file = filename + \".face\"\n",
    "edge_file = filename + \".edge\"\n",
    "\n",
    "mesh = TetrahedronMesh(node_file, face_file, ele_file, edge_file)\n",
    "\n",
    "polyllaEdge_mesh = PolyllaEdge(mesh)\n",
    "polyllaFace_mesh = PolyllaFace(mesh)\n",
    "\n",
    "polyllaEdge_mesh.printOFF_polyhedralmesh(outputname + \"POLYLLAEDGE.off\")\n",
    "polyllaFace_mesh.printOFF_polyhedralmesh(outputname + \"POLYLLAFACE.off\")\n",
    "\n",
    "mesh.get_info()\n",
    "polyllaEdge_mesh.get_info()\n",
    "polyllaFace_mesh.get_info()\n"
   ]
  },
  {
   "cell_type": "markdown",
   "metadata": {},
   "source": [
    "## Plot Polylla mesh"
   ]
  },
  {
   "cell_type": "code",
   "execution_count": 15,
   "metadata": {},
   "outputs": [
    {
     "ename": "TypeError",
     "evalue": "'int' object is not iterable",
     "output_type": "error",
     "traceback": [
      "\u001b[1;31m---------------------------------------------------------------------------\u001b[0m",
      "\u001b[1;31mTypeError\u001b[0m                                 Traceback (most recent call last)",
      "Cell \u001b[1;32mIn [15], line 12\u001b[0m\n\u001b[0;32m     10\u001b[0m \u001b[39mfor\u001b[39;00m face \u001b[39min\u001b[39;00m cell:\n\u001b[0;32m     11\u001b[0m     polyhedron\u001b[39m.\u001b[39mappend(\u001b[39m4\u001b[39m)\n\u001b[1;32m---> 12\u001b[0m     \u001b[39mfor\u001b[39;00m vertex \u001b[39min\u001b[39;00m face:\n\u001b[0;32m     13\u001b[0m         polyhedron\u001b[39m.\u001b[39mappend(vertex)\n\u001b[0;32m     14\u001b[0m \u001b[39mprint\u001b[39m(polyhedron)\n",
      "\u001b[1;31mTypeError\u001b[0m: 'int' object is not iterable"
     ]
    }
   ],
   "source": [
    "polyhedral_mesh = polyllaFace_mesh.polyhedron_mesh\n",
    "\n",
    "list_of_cells = []\n",
    "for cell in polyhedral_mesh:\n",
    "    polyhedron = []\n",
    "    nElements = len(cell)*4 + 1\n",
    "    nFaces = len(cell)\n",
    "    polyhedron.append(nElements)\n",
    "    polyhedron.append(nFaces)\n",
    "    for vertex in cell:\n",
    "        polyhedron.append(4)\n",
    "        for vertex in face:\n",
    "            polyhedron.append(vertex)\n",
    "    print(polyhedron)\n"
   ]
  },
  {
   "cell_type": "code",
   "execution_count": null,
   "metadata": {},
   "outputs": [],
   "source": [
    "import pyvista as pv\n",
    "import numpy as np\n",
    "from vtk import VTK_POLYHEDRON, VTK_POLYGON\n",
    "\n",
    "\n",
    "ptIds = [0, 1, 2, 3, 4, 5, 6, 7, 8, 9]\n",
    "nodes = np.asarray([[0.01,  0.01,  0.01],\n",
    "                    [0,  0.01,  0.01],\n",
    "                    [0,  0.,    0.01],\n",
    "                    [0.01,  0.,    0.01],\n",
    "                    [0.01,  0.,    0.],\n",
    "                    [0,  0.,    0.],\n",
    "                    [0,  0.01,  0.],\n",
    "                    [0.01,  0.01,  0.],\n",
    "                    [0.01, 0.01, 0.02],\n",
    "                    [0.00, 0.01, 0.02]])\n",
    "\n",
    "# polyhedron format [NElements, NFaces, Face1NPoints, Face1Point1, Face1Point2..., Face1PointN, FaceNNPoints,...]]\n",
    "# in polygons and polyhedrons, face order/points order matters\n",
    "polyhedron = np.asarray([24, 5, 4, 2, 3, 4, 5, 4, 5, 6, 7, 4, 3, 4, 7, 3, 3, 5, 6, 2, 4, 6, 7, 3, 2])\n",
    "polygon = np.asarray([4, 1, 9, 8, 0])\n",
    "\n",
    "cells = np.hstack((polyhedron, polygon))\n",
    "list = [42, 7]\n",
    "cell_type = np.array(list)\n",
    "\n",
    "print(cells, cell_type)\n",
    "grid = pv.UnstructuredGrid(cells, cell_type, nodes)\n",
    "\n",
    "plt = pv.Plotter()\n",
    "plt.add_mesh(grid)\n",
    "plt.show()"
   ]
  }
 ],
 "metadata": {
  "kernelspec": {
   "display_name": "Python 3.10.7 64-bit",
   "language": "python",
   "name": "python3"
  },
  "language_info": {
   "codemirror_mode": {
    "name": "ipython",
    "version": 3
   },
   "file_extension": ".py",
   "mimetype": "text/x-python",
   "name": "python",
   "nbconvert_exporter": "python",
   "pygments_lexer": "ipython3",
   "version": "3.10.7"
  },
  "orig_nbformat": 4,
  "vscode": {
   "interpreter": {
    "hash": "8f6a389a8917a11fb6ac3c0d831250fb3f4fd2b20a5aeecb1118ba5000e47258"
   }
  }
 },
 "nbformat": 4,
 "nbformat_minor": 2
}
