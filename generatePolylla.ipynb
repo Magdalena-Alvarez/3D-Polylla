{
 "cells": [
  {
   "cell_type": "markdown",
   "metadata": {},
   "source": [
    "# Generate Polylla mesh"
   ]
  },
  {
   "cell_type": "code",
   "execution_count": 4,
   "metadata": {},
   "outputs": [],
   "source": [
    "from pruebaTetra import FaceTetrahedronMesh, saveLog\n",
    "from mesh import TetrahedronMesh\n",
    "from PolyllaEdge import PolyllaEdge\n",
    "from PolyllaFace import PolyllaFace\n",
    "import time\n",
    "numVertices = 1000"
   ]
  },
  {
   "cell_type": "markdown",
   "metadata": {},
   "source": [
    "# Semiuniform Polylla"
   ]
  },
  {
   "cell_type": "code",
   "execution_count": 6,
   "metadata": {},
   "outputs": [
    {
     "name": "stdout",
     "output_type": "stream",
     "text": [
      "reading node file: data/1000random.1.node\n",
      "reading face file: data/1000random.1.face\n",
      "reading ele file: data/1000random.1.ele\n",
      "reading edge file: data/1000random.1.edge\n",
      "Reading vertex file\n",
      "Reading face file\n",
      "Processing edges\n",
      "Reading tetra file\n",
      "Processesing faces with tetrahedorns\n",
      "Tiempo mesh Magda`s: 30.401962995529175 segs\n",
      "Tiempo Sergio`s version: 27.381821393966675 segs\n",
      "\n",
      " Stats polylla original\n",
      "PolyllaFace info:\n",
      "Number of polyhedrons: 1401\n",
      "Number of barrier faces: 421\n",
      "Number of polyhedra with barrier faces: 284\n",
      "Number of polyhedrons that are tetrahedrons: 246\n",
      "\n",
      " Stats polylla Prueba:\n",
      "PolyllaFace info:\n",
      "Number of polyhedrons: 1407\n",
      "Number of barrier faces: 421\n",
      "Number of polyhedra with barrier faces: 284\n",
      "Number of polyhedrons that are tetrahedrons: 268\n"
     ]
    }
   ],
   "source": [
    "filename = \"data/\"+ str(numVertices) + \"semiuniform.1\"\n",
    "outputname = \"data/\"+ str(numVertices) + \"semiuniform\"\n",
    "\n",
    "node_file = filename + \".node\"\n",
    "ele_file = filename + \".ele\"\n",
    "face_file = filename + \".face\"\n",
    "edge_file = filename + \".edge\"\n",
    "\n",
    "tf2 = time.time()\n",
    "mesh = TetrahedronMesh(node_file, face_file, ele_file,edge_file)\n",
    "polyllaFace_mesh_original = PolyllaFace(mesh)\n",
    "tf3 = time.time()\n",
    "\n",
    "t0 = time.time()\n",
    "mesh_f = FaceTetrahedronMesh(node_file, face_file, ele_file)\n",
    "polyllaFace_mesh_prueba = PolyllaFace(mesh_f)\n",
    "tf1 = time.time()\n",
    "\n",
    "\n",
    "# polyllaEdge_mesh = PolyllaEdge(mesh)\n",
    "\n",
    "\n",
    "saveLog('tetra_prueba_log.txt',mesh_f.tetra_list)\n",
    "saveLog('tetra_mesh_log.txt',mesh.tetra_list)\n",
    "\n",
    "\n",
    "print('Tiempo Sergio`s version:',tf3-tf2,'segs')\n",
    "print('Tiempo Magda`s version:',tf1-t0,'segs')\n",
    "\n",
    "print('\\n Stats polylla original')\n",
    "\n",
    "# polyllaEdge_mesh.get_info()\n",
    "\n",
    "polyllaFace_mesh_original.get_info()\n",
    "print('\\n Stats polylla Prueba:')\n",
    "polyllaFace_mesh_prueba.get_info()\n",
    "\n"
   ]
  },
  {
   "cell_type": "markdown",
   "metadata": {},
   "source": [
    "## Plot Polylla mesh"
   ]
  },
  {
   "cell_type": "code",
   "execution_count": null,
   "metadata": {},
   "outputs": [],
   "source": [
    "import numpy as np\n",
    "import pyvista as pv\n",
    "\n",
    "polyhedral_mesh = polyllaFace_mesh.polyhedral_mesh\n",
    "\n",
    "list_of_cells = []\n",
    "\n",
    "face_list = polyllaFace_mesh.mesh.face_list\n",
    "node_list = polyllaFace_mesh.mesh.node_list\n",
    "\n",
    "polyhedral_list = []\n",
    "for poly in polyhedral_mesh:\n",
    "    nFaces = len(poly.faces)\n",
    "    nElements = nFaces*(3 + 1) + 1 # 3 vertices per face + 1 the number of vértices and + 1 for the number of faces\n",
    "    vtk_polyhedral = [nElements, nFaces]\n",
    "    for face in poly.faces:\n",
    "        vtk_polyhedral.append(3)\n",
    "        v1 = face_list[face].v1\n",
    "        v2 = face_list[face].v2\n",
    "        v3 = face_list[face].v3\n",
    "        vtk_polyhedral.extend([v1, v2, v3])\n",
    "    polyhedral_list.append(vtk_polyhedral)\n",
    "\n",
    "elements = np.hstack(polyhedral_list)\n",
    "nodes = np.hstack([[node_list[i].x, node_list[i].y, node_list[i].z] for i in range(len(node_list))])\n",
    "cell_type = np.empty(len(polyhedral_mesh), dtype='uint8')\n",
    "cell_type[:] = 42\n",
    "\n",
    "grid = pv.UnstructuredGrid(elements, cell_type, nodes)\n",
    "\n",
    "# Calculate centroids of each polyhedral cell\n",
    "cell_center = []\n",
    "for poly in polyhedral_mesh:\n",
    "    unique_vertices = []\n",
    "    for face in poly.faces:\n",
    "        v1 = face_list[face].v1\n",
    "        v2 = face_list[face].v2\n",
    "        v3 = face_list[face].v3\n",
    "        unique_vertices.extend([v1, v2, v3])\n",
    "    #remove duplicates\n",
    "    unique_vertices = list(set(unique_vertices))\n",
    "    centroid = [0.0, 0.0, 0.0]\n",
    "    for vertex in unique_vertices:\n",
    "        centroid[0] += node_list[vertex].x\n",
    "        centroid[1] += node_list[vertex].y\n",
    "        centroid[2] += node_list[vertex].z\n",
    "    centroid[0] /= len(unique_vertices)\n",
    "    centroid[1] /= len(unique_vertices)\n",
    "    centroid[2] /= len(unique_vertices)\n",
    "    cell_center.append(centroid.copy())\n",
    "\n",
    "cell_center = np.vstack(cell_center)\n",
    "     \n",
    "# extract cells below the 0 xy plane\n",
    "mask = cell_center[:, 2] < 0.5\n",
    "cell_ind = mask.nonzero()[0]\n",
    "subgrid = grid.extract_cells(cell_ind)\n",
    "# advanced plotting\n",
    "plotter = pv.Plotter(notebook=True)\n",
    "plotter.background_color = 'white'\n",
    "plotter.add_mesh(subgrid, 'lightgrey', lighting=True, show_edges=True)\n",
    "plotter.add_mesh(pv.Cube(center=(0.5, 0.5, 0.5)), 'r', 'wireframe')\n",
    "#plotter.add_legend([[' Input Mesh ', 'r'], [' Tessellated Mesh ', 'black']])\n",
    "plotter.show(jupyter_backend='static')\n",
    "    \n"
   ]
  },
  {
   "cell_type": "code",
   "execution_count": null,
   "metadata": {},
   "outputs": [],
   "source": [
    "from pyvista import examples\n",
    "\n",
    "\n",
    "clipped = grid.clip('y', invert=False)\n",
    "\n",
    "p = pv.Plotter()\n",
    "p.add_mesh(grid, style='wireframe', color='blue', label='Input')\n",
    "p.add_mesh(clipped, label='Clipped')\n",
    "p.add_legend()\n",
    "p.camera_position = [(0.24, 0.32, 0.7), (0.02, 0.03, -0.02), (-0.12, 0.93, -0.34)]\n",
    "p.show()"
   ]
  }
 ],
 "metadata": {
  "kernelspec": {
   "display_name": "Python 3.10.7 64-bit",
   "language": "python",
   "name": "python3"
  },
  "language_info": {
   "codemirror_mode": {
    "name": "ipython",
    "version": 3
   },
   "file_extension": ".py",
   "mimetype": "text/x-python",
   "name": "python",
   "nbconvert_exporter": "python",
   "pygments_lexer": "ipython3",
   "version": "3.8.10"
  },
  "orig_nbformat": 4,
  "vscode": {
   "interpreter": {
    "hash": "8f6a389a8917a11fb6ac3c0d831250fb3f4fd2b20a5aeecb1118ba5000e47258"
   }
  }
 },
 "nbformat": 4,
 "nbformat_minor": 2
}
